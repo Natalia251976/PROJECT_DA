{
 "cells": [
  {
   "cell_type": "markdown",
   "id": "90eb7a40",
   "metadata": {},
   "source": [
    "# Проект :<br>  \n",
    "### Требуется выполнить следующие действия с данными по облигациям на дату формирования данных:  \n",
    "  \n",
    "       \n",
    "\n",
    "<div style=\"text-align: justify\"><br><br> 1. Оценить рынок рублевых облигаций по распределению купонной доходности, предложить разделение на кластеры по купонной доходности.Предложить графическое представление полученных групп/кластеров. (график)</div>\n",
    "\n",
    "<div style=\"text-align: justify\"> 2. По низкорисковым рублевым облигациям с датой промежуточной выплаты по  купонам не более 20% купонного периода назад до текущей даты и облигациям выпущенным в аналогичный период, рассчитать доходность последующих купонов по отобранным облигациям с учетом разницы номинала и цены продажи, а также с учетом налоговых отчислений на период год с текущей дата. (график и/или таблица)</div>\n",
    "\n",
    "\n",
    "### Могут быть использованы следующие поля (а также все остальные) в любых комбинациях:<br> \n",
    "<div style=\"text-align: justify\"><br> 'SECID' - Код ценной бумаги,<br>'SHORTNAME' - Краткое наименование,<br>'NAME' Полное наименование,<br>'FACEVALUE' - Номинальная стоимость,<br>'FACEUNIT' - валюта,<br>'DURATION' - дюрация,<br>'IS_QUALIFIED_INVESTORS' - признак продукта для квалифицированных инвесторов,<br>'HIGH_RISK' - признак уровня риска,<br> 'COUPONFREQUENCY' – число купонов в год,<br>'COUPONDATE' - Дата выплаты купона,<br>'COUPONPERCENT' - Ставка купона, %,<br>\n",
    " 'COUPONVALUE' - Сумма купона, в валюте номинала,<br>'OFFERDATE' - Дата оферты,<br>'EMITENTNAME' – наименование эмитента,<br>\n",
    "'INN' – ИНН эмитента,<br>'PRICE' – текущий % от FACEVALUE,<br>'PRICE_RUB' - котировка</div>\n",
    "\n",
    "### Пояснения:<br> \n",
    "<div style=\"text-align: justify\">\n",
    "1. Для получения текущей даты можно использовать метод datetime.date.today();<br>                                                2. Период расчета доходности рекомендуется выбирать 365 дней с текущей даты; <br>                                                3. Нужно учитывать накопленный купонный доход (НКД) и разницу котировки и номинала ; <br>                                        4. В общем случае процентный доход при ставке НДФЛ 13% будет  Profit =(Цена_Номинальная – Цена_покупки – НКД +<br>   0.87*Купонный_доход_руб*X_лет)* 100%  /(Цена_покупки + НКД) (комиссией брокера пренебрегаем) <br>                                5. Период расчета НКД: df['COUPONDAYSPASSED']/df['COUPONLENGTH'] , рекомендуется  выбирать меньше или равный 0.2.<br>\n",
    "Если удовлетворяет условию, полученная величина умножается на COUPONPERCENT/COUPONFREQUENCY. <br>                 \n",
    "6. Датасет содержит данные, которые нужно преобразовывать в форматы python, а также пустые и искаженные данные, с которыми нужно что-то решить.</div>"
   ]
  },
  {
   "cell_type": "code",
   "execution_count": 845,
   "id": "0c9316c2",
   "metadata": {},
   "outputs": [],
   "source": [
    "import pandas as pd\n",
    "import requests\n",
    "from datetime import datetime, date, timedelta\n",
    "import io\n",
    "import numpy as np\n",
    "from sklearn.cluster import KMeans\n",
    "import matplotlib.pyplot as plt\n",
    "%matplotlib inline\n",
    "import matplotlib.ticker as ticker"
   ]
  },
  {
   "cell_type": "code",
   "execution_count": 846,
   "id": "2ccda217",
   "metadata": {},
   "outputs": [],
   "source": [
    "bond_url = f'https://iss.moex.com/iss/apps/infogrid/emission/rates.csv?iss.dp=comma&iss.df=%25d.%25m.%25Y&iss.tf=%25H:%25M:%25S&iss.dtf=%25d.%25m.%25Y%25H:%25M:%25S&iss.only=rates&limit=unlimited&lang=ru'"
   ]
  },
  {
   "cell_type": "code",
   "execution_count": 847,
   "id": "88d4145b",
   "metadata": {},
   "outputs": [],
   "source": [
    "s = requests.get(bond_url).content"
   ]
  },
  {
   "cell_type": "code",
   "execution_count": 848,
   "id": "ccd5cc22",
   "metadata": {},
   "outputs": [],
   "source": [
    "bond = pd.read_csv(io.StringIO(s.decode('cp1251')), sep=';', header=1)"
   ]
  },
  {
   "cell_type": "code",
   "execution_count": 849,
   "id": "35e32a97",
   "metadata": {},
   "outputs": [
    {
     "data": {
      "text/html": [
       "<div>\n",
       "<style scoped>\n",
       "    .dataframe tbody tr th:only-of-type {\n",
       "        vertical-align: middle;\n",
       "    }\n",
       "\n",
       "    .dataframe tbody tr th {\n",
       "        vertical-align: top;\n",
       "    }\n",
       "\n",
       "    .dataframe thead th {\n",
       "        text-align: right;\n",
       "    }\n",
       "</style>\n",
       "<table border=\"1\" class=\"dataframe\">\n",
       "  <thead>\n",
       "    <tr style=\"text-align: right;\">\n",
       "      <th></th>\n",
       "      <th>LISTLEVEL</th>\n",
       "      <th>ISSUESIZE</th>\n",
       "      <th>IS_COLLATERAL</th>\n",
       "      <th>IS_EXTERNAL</th>\n",
       "      <th>DURATION</th>\n",
       "      <th>EVENINGSESSION</th>\n",
       "      <th>IS_QUALIFIED_INVESTORS</th>\n",
       "      <th>HIGH_RISK</th>\n",
       "      <th>COUPONFREQUENCY</th>\n",
       "      <th>COUPONDAYSPASSED</th>\n",
       "      <th>COUPONDAYSREMAIN</th>\n",
       "      <th>COUPONLENGTH</th>\n",
       "      <th>DAYSTOREDEMPTION</th>\n",
       "      <th>INN</th>\n",
       "      <th>LOTSIZE</th>\n",
       "      <th>LIMIT1</th>\n",
       "      <th>LIMIT2</th>\n",
       "    </tr>\n",
       "  </thead>\n",
       "  <tbody>\n",
       "    <tr>\n",
       "      <th>count</th>\n",
       "      <td>2436.000000</td>\n",
       "      <td>2.677000e+03</td>\n",
       "      <td>2697.000000</td>\n",
       "      <td>2697.000000</td>\n",
       "      <td>1841.000000</td>\n",
       "      <td>2697.000000</td>\n",
       "      <td>2697.000000</td>\n",
       "      <td>2697.000000</td>\n",
       "      <td>2322.000000</td>\n",
       "      <td>2683.000000</td>\n",
       "      <td>2683.000000</td>\n",
       "      <td>2683.000000</td>\n",
       "      <td>2649.000000</td>\n",
       "      <td>2.545000e+03</td>\n",
       "      <td>2697.000000</td>\n",
       "      <td>8.790000e+02</td>\n",
       "      <td>8.790000e+02</td>\n",
       "    </tr>\n",
       "    <tr>\n",
       "      <th>mean</th>\n",
       "      <td>2.385878</td>\n",
       "      <td>3.224785e+08</td>\n",
       "      <td>0.140897</td>\n",
       "      <td>0.156099</td>\n",
       "      <td>850.700163</td>\n",
       "      <td>0.129774</td>\n",
       "      <td>0.185020</td>\n",
       "      <td>0.062291</td>\n",
       "      <td>3.048665</td>\n",
       "      <td>146.200895</td>\n",
       "      <td>227.434588</td>\n",
       "      <td>373.635483</td>\n",
       "      <td>1657.243111</td>\n",
       "      <td>6.081574e+09</td>\n",
       "      <td>1.447164</td>\n",
       "      <td>3.347756e+05</td>\n",
       "      <td>1.673275e+06</td>\n",
       "    </tr>\n",
       "    <tr>\n",
       "      <th>std</th>\n",
       "      <td>0.847578</td>\n",
       "      <td>4.166856e+09</td>\n",
       "      <td>0.347980</td>\n",
       "      <td>0.363017</td>\n",
       "      <td>692.554448</td>\n",
       "      <td>0.336117</td>\n",
       "      <td>0.388386</td>\n",
       "      <td>0.241729</td>\n",
       "      <td>2.296758</td>\n",
       "      <td>233.577664</td>\n",
       "      <td>469.727629</td>\n",
       "      <td>614.138265</td>\n",
       "      <td>1935.038446</td>\n",
       "      <td>2.940325e+09</td>\n",
       "      <td>19.423676</td>\n",
       "      <td>8.346668e+05</td>\n",
       "      <td>4.173515e+06</td>\n",
       "    </tr>\n",
       "    <tr>\n",
       "      <th>min</th>\n",
       "      <td>1.000000</td>\n",
       "      <td>1.000000e+00</td>\n",
       "      <td>0.000000</td>\n",
       "      <td>0.000000</td>\n",
       "      <td>0.000000</td>\n",
       "      <td>0.000000</td>\n",
       "      <td>0.000000</td>\n",
       "      <td>0.000000</td>\n",
       "      <td>1.000000</td>\n",
       "      <td>-9.000000</td>\n",
       "      <td>1.000000</td>\n",
       "      <td>21.000000</td>\n",
       "      <td>0.000000</td>\n",
       "      <td>4.550000e+02</td>\n",
       "      <td>1.000000</td>\n",
       "      <td>1.700000e+01</td>\n",
       "      <td>8.500000e+01</td>\n",
       "    </tr>\n",
       "    <tr>\n",
       "      <th>25%</th>\n",
       "      <td>2.000000</td>\n",
       "      <td>3.272280e+05</td>\n",
       "      <td>0.000000</td>\n",
       "      <td>0.000000</td>\n",
       "      <td>360.000000</td>\n",
       "      <td>0.000000</td>\n",
       "      <td>0.000000</td>\n",
       "      <td>0.000000</td>\n",
       "      <td>2.000000</td>\n",
       "      <td>29.000000</td>\n",
       "      <td>39.000000</td>\n",
       "      <td>91.000000</td>\n",
       "      <td>597.000000</td>\n",
       "      <td>5.405964e+09</td>\n",
       "      <td>1.000000</td>\n",
       "      <td>1.000000e+05</td>\n",
       "      <td>5.000000e+05</td>\n",
       "    </tr>\n",
       "    <tr>\n",
       "      <th>50%</th>\n",
       "      <td>3.000000</td>\n",
       "      <td>2.435897e+06</td>\n",
       "      <td>0.000000</td>\n",
       "      <td>0.000000</td>\n",
       "      <td>721.000000</td>\n",
       "      <td>0.000000</td>\n",
       "      <td>0.000000</td>\n",
       "      <td>0.000000</td>\n",
       "      <td>2.000000</td>\n",
       "      <td>76.000000</td>\n",
       "      <td>72.000000</td>\n",
       "      <td>182.000000</td>\n",
       "      <td>1135.000000</td>\n",
       "      <td>7.707084e+09</td>\n",
       "      <td>1.000000</td>\n",
       "      <td>2.000000e+05</td>\n",
       "      <td>1.000000e+06</td>\n",
       "    </tr>\n",
       "    <tr>\n",
       "      <th>75%</th>\n",
       "      <td>3.000000</td>\n",
       "      <td>1.000000e+07</td>\n",
       "      <td>0.000000</td>\n",
       "      <td>0.000000</td>\n",
       "      <td>1132.000000</td>\n",
       "      <td>0.000000</td>\n",
       "      <td>0.000000</td>\n",
       "      <td>0.000000</td>\n",
       "      <td>4.000000</td>\n",
       "      <td>146.000000</td>\n",
       "      <td>154.000000</td>\n",
       "      <td>184.000000</td>\n",
       "      <td>1877.000000</td>\n",
       "      <td>7.718789e+09</td>\n",
       "      <td>1.000000</td>\n",
       "      <td>3.000000e+05</td>\n",
       "      <td>1.500000e+06</td>\n",
       "    </tr>\n",
       "    <tr>\n",
       "      <th>max</th>\n",
       "      <td>3.000000</td>\n",
       "      <td>9.649987e+10</td>\n",
       "      <td>1.000000</td>\n",
       "      <td>1.000000</td>\n",
       "      <td>5648.000000</td>\n",
       "      <td>1.000000</td>\n",
       "      <td>1.000000</td>\n",
       "      <td>1.000000</td>\n",
       "      <td>12.000000</td>\n",
       "      <td>4549.000000</td>\n",
       "      <td>5341.000000</td>\n",
       "      <td>7304.000000</td>\n",
       "      <td>32579.000000</td>\n",
       "      <td>9.909570e+09</td>\n",
       "      <td>1000.000000</td>\n",
       "      <td>1.200000e+07</td>\n",
       "      <td>6.000000e+07</td>\n",
       "    </tr>\n",
       "  </tbody>\n",
       "</table>\n",
       "</div>"
      ],
      "text/plain": [
       "         LISTLEVEL     ISSUESIZE  IS_COLLATERAL  IS_EXTERNAL     DURATION  \\\n",
       "count  2436.000000  2.677000e+03    2697.000000  2697.000000  1841.000000   \n",
       "mean      2.385878  3.224785e+08       0.140897     0.156099   850.700163   \n",
       "std       0.847578  4.166856e+09       0.347980     0.363017   692.554448   \n",
       "min       1.000000  1.000000e+00       0.000000     0.000000     0.000000   \n",
       "25%       2.000000  3.272280e+05       0.000000     0.000000   360.000000   \n",
       "50%       3.000000  2.435897e+06       0.000000     0.000000   721.000000   \n",
       "75%       3.000000  1.000000e+07       0.000000     0.000000  1132.000000   \n",
       "max       3.000000  9.649987e+10       1.000000     1.000000  5648.000000   \n",
       "\n",
       "       EVENINGSESSION  IS_QUALIFIED_INVESTORS    HIGH_RISK  COUPONFREQUENCY  \\\n",
       "count     2697.000000             2697.000000  2697.000000      2322.000000   \n",
       "mean         0.129774                0.185020     0.062291         3.048665   \n",
       "std          0.336117                0.388386     0.241729         2.296758   \n",
       "min          0.000000                0.000000     0.000000         1.000000   \n",
       "25%          0.000000                0.000000     0.000000         2.000000   \n",
       "50%          0.000000                0.000000     0.000000         2.000000   \n",
       "75%          0.000000                0.000000     0.000000         4.000000   \n",
       "max          1.000000                1.000000     1.000000        12.000000   \n",
       "\n",
       "       COUPONDAYSPASSED  COUPONDAYSREMAIN  COUPONLENGTH  DAYSTOREDEMPTION  \\\n",
       "count       2683.000000       2683.000000   2683.000000       2649.000000   \n",
       "mean         146.200895        227.434588    373.635483       1657.243111   \n",
       "std          233.577664        469.727629    614.138265       1935.038446   \n",
       "min           -9.000000          1.000000     21.000000          0.000000   \n",
       "25%           29.000000         39.000000     91.000000        597.000000   \n",
       "50%           76.000000         72.000000    182.000000       1135.000000   \n",
       "75%          146.000000        154.000000    184.000000       1877.000000   \n",
       "max         4549.000000       5341.000000   7304.000000      32579.000000   \n",
       "\n",
       "                INN      LOTSIZE        LIMIT1        LIMIT2  \n",
       "count  2.545000e+03  2697.000000  8.790000e+02  8.790000e+02  \n",
       "mean   6.081574e+09     1.447164  3.347756e+05  1.673275e+06  \n",
       "std    2.940325e+09    19.423676  8.346668e+05  4.173515e+06  \n",
       "min    4.550000e+02     1.000000  1.700000e+01  8.500000e+01  \n",
       "25%    5.405964e+09     1.000000  1.000000e+05  5.000000e+05  \n",
       "50%    7.707084e+09     1.000000  2.000000e+05  1.000000e+06  \n",
       "75%    7.718789e+09     1.000000  3.000000e+05  1.500000e+06  \n",
       "max    9.909570e+09  1000.000000  1.200000e+07  6.000000e+07  "
      ]
     },
     "execution_count": 849,
     "metadata": {},
     "output_type": "execute_result"
    }
   ],
   "source": [
    "bond.describe()"
   ]
  },
  {
   "cell_type": "code",
   "execution_count": 850,
   "id": "26ceb597",
   "metadata": {},
   "outputs": [
    {
     "data": {
      "text/plain": [
       "SECID                      object\n",
       "SHORTNAME                  object\n",
       "NAME                       object\n",
       "TYPENAME                   object\n",
       "ISIN                       object\n",
       "REGNUMBER                  object\n",
       "LISTLEVEL                 float64\n",
       "FACEVALUE                  object\n",
       "FACEUNIT                   object\n",
       "ISSUESIZE                 float64\n",
       "IS_COLLATERAL               int64\n",
       "IS_EXTERNAL                 int64\n",
       "PRIMARY_BOARDID            object\n",
       "PRIMARY_BOARD_TITLE        object\n",
       "MATDATE                    object\n",
       "IS_RII                     object\n",
       "DURATION                  float64\n",
       "ISSUEDATE                  object\n",
       "EVENINGSESSION              int64\n",
       "IS_QUALIFIED_INVESTORS      int64\n",
       "HIGH_RISK                   int64\n",
       "COUPONFREQUENCY           float64\n",
       "YIELDATWAP                 object\n",
       "COUPONDATE                 object\n",
       "COUPONPERCENT              object\n",
       "COUPONVALUE                object\n",
       "COUPONDAYSPASSED          float64\n",
       "COUPONDAYSREMAIN          float64\n",
       "COUPONLENGTH              float64\n",
       "ISSUEDATE.1                object\n",
       "INITIALFACEVALUE           object\n",
       "SECSUBTYPE                 object\n",
       "STARTDATEMOEX              object\n",
       "DAYSTOREDEMPTION          float64\n",
       "OFFERDATE                  object\n",
       "EMITENTNAME                object\n",
       "INN                       float64\n",
       "LOTSIZE                     int64\n",
       "PRICE                      object\n",
       "PRICE_RUB                  object\n",
       "RTL1                       object\n",
       "RTH1                       object\n",
       "RTL2                       object\n",
       "RTH2                       object\n",
       "RTL3                       object\n",
       "RTH3                       object\n",
       "DISCOUNT1                  object\n",
       "LIMIT1                    float64\n",
       "DISCOUNT2                  object\n",
       "LIMIT2                    float64\n",
       "DISCOUNT3                  object\n",
       "DISCOUNTL0                 object\n",
       "DISCOUNTH0                 object\n",
       "dtype: object"
      ]
     },
     "execution_count": 850,
     "metadata": {},
     "output_type": "execute_result"
    }
   ],
   "source": [
    "bond.dtypes"
   ]
  },
  {
   "cell_type": "code",
   "execution_count": 851,
   "id": "64dfb838",
   "metadata": {},
   "outputs": [
    {
     "data": {
      "text/plain": [
       "(2697, 53)"
      ]
     },
     "execution_count": 851,
     "metadata": {},
     "output_type": "execute_result"
    }
   ],
   "source": [
    "bond.shape"
   ]
  },
  {
   "cell_type": "markdown",
   "id": "26a1cd82",
   "metadata": {},
   "source": [
    "#### Оставляем только рублевые облигации\n"
   ]
  },
  {
   "cell_type": "code",
   "execution_count": 852,
   "id": "0b043083",
   "metadata": {},
   "outputs": [],
   "source": [
    "\n",
    "bond_rub = bond.drop(bond[bond['FACEUNIT']!='RUB'].index  )                             "
   ]
  },
  {
   "cell_type": "markdown",
   "id": "c5b06209",
   "metadata": {},
   "source": [
    "#### Определяем поля, содержащие Nan"
   ]
  },
  {
   "cell_type": "code",
   "execution_count": 853,
   "id": "2c668527",
   "metadata": {},
   "outputs": [
    {
     "data": {
      "text/plain": [
       "SECID                        0\n",
       "SHORTNAME                    0\n",
       "NAME                         0\n",
       "TYPENAME                     0\n",
       "ISIN                         0\n",
       "REGNUMBER                   80\n",
       "LISTLEVEL                  157\n",
       "FACEVALUE                    0\n",
       "FACEUNIT                     0\n",
       "ISSUESIZE                   19\n",
       "IS_COLLATERAL                0\n",
       "IS_EXTERNAL                  0\n",
       "PRIMARY_BOARDID              0\n",
       "PRIMARY_BOARD_TITLE          0\n",
       "MATDATE                     28\n",
       "IS_RII                    2301\n",
       "DURATION                   667\n",
       "ISSUEDATE                  142\n",
       "EVENINGSESSION               0\n",
       "IS_QUALIFIED_INVESTORS       0\n",
       "HIGH_RISK                    0\n",
       "COUPONFREQUENCY            355\n",
       "YIELDATWAP                1136\n",
       "COUPONDATE                   7\n",
       "COUPONPERCENT               62\n",
       "COUPONVALUE                 66\n",
       "COUPONDAYSPASSED             7\n",
       "COUPONDAYSREMAIN             7\n",
       "COUPONLENGTH                 7\n",
       "ISSUEDATE.1                142\n",
       "INITIALFACEVALUE             0\n",
       "SECSUBTYPE                2209\n",
       "STARTDATEMOEX              189\n",
       "DAYSTOREDEMPTION            28\n",
       "OFFERDATE                 1808\n",
       "EMITENTNAME                142\n",
       "INN                        142\n",
       "LOTSIZE                      0\n",
       "PRICE                      157\n",
       "PRICE_RUB                  157\n",
       "RTL1                      1602\n",
       "RTH1                       157\n",
       "RTL2                      1602\n",
       "RTH2                       157\n",
       "RTL3                      1657\n",
       "RTH3                       157\n",
       "DISCOUNT1                    0\n",
       "LIMIT1                    1602\n",
       "DISCOUNT2                 1602\n",
       "LIMIT2                    1602\n",
       "DISCOUNT3                 1602\n",
       "DISCOUNTL0                1458\n",
       "DISCOUNTH0                1458\n",
       "dtype: int64"
      ]
     },
     "execution_count": 853,
     "metadata": {},
     "output_type": "execute_result"
    }
   ],
   "source": [
    "\n",
    "bond_rub.isna().sum()"
   ]
  },
  {
   "cell_type": "markdown",
   "id": "4f0cc0cf",
   "metadata": {},
   "source": [
    "#### Количество \"пустых\" записей очень большое.Удалять все Nan из датафрейма не будем, чтобы не снижать объем выборки. В случае очистки bond_rub.dropna() в датасете останется ~ 20% записей от первоначального значения.\n",
    "#### Удалять Nan будем только из полей, которые используются в расчетах."
   ]
  },
  {
   "cell_type": "markdown",
   "id": "7b388056",
   "metadata": {},
   "source": [
    "#### Определяем количество записей в полях, необходимых для расчетов показателя Доходность, содержащих Nan"
   ]
  },
  {
   "cell_type": "code",
   "execution_count": 854,
   "id": "0c4161fc",
   "metadata": {},
   "outputs": [
    {
     "data": {
      "text/plain": [
       "COUPONPERCENT        62\n",
       "COUPONFREQUENCY     355\n",
       "COUPONLENGTH          7\n",
       "COUPONDAYSPASSED      7\n",
       "COUPONLENGTH          7\n",
       "dtype: int64"
      ]
     },
     "execution_count": 854,
     "metadata": {},
     "output_type": "execute_result"
    }
   ],
   "source": [
    "bond_rub[['COUPONPERCENT','COUPONFREQUENCY','COUPONLENGTH','COUPONDAYSPASSED', 'COUPONLENGTH']].isna().sum()"
   ]
  },
  {
   "cell_type": "markdown",
   "id": "92a7f86c",
   "metadata": {},
   "source": [
    "#### Выводим список наименований организаций, по которым в расчетных полях содержатся Nan. От данных записей будем очищать датафрейм, т.к. нет возможности достоверно заменить Nan на реальные значения"
   ]
  },
  {
   "cell_type": "code",
   "execution_count": 855,
   "id": "2eb6c875",
   "metadata": {},
   "outputs": [
    {
     "data": {
      "text/plain": [
       "14        \"НПФ\" ООО об.сер. 01\n",
       "23      Волга-Спорт АО обл. 01\n",
       "25         Uranium One Inc. 01\n",
       "28        ВЭБ-лизинг АО об. 09\n",
       "139        Финстоун ООО об. 01\n",
       "                 ...          \n",
       "2664     BCS SP Plc Series 170\n",
       "2674     BCS SP Plc Series 189\n",
       "2677     BCS SP Plc Series 194\n",
       "2688     BCS SP Plc Series 208\n",
       "2694     BCS SP Plc Series 215\n",
       "Name: NAME, Length: 547, dtype: object"
      ]
     },
     "execution_count": 855,
     "metadata": {},
     "output_type": "execute_result"
    }
   ],
   "source": [
    "bond_rub['NAME'][pd.isnull(bond_rub['PRICE']) | pd.isnull(bond_rub['COUPONVALUE']) | pd.isnull(bond_rub['COUPONLENGTH']) | pd.isnull(bond_rub['COUPONPERCENT']) | pd.isnull(bond_rub['COUPONFREQUENCY'])]"
   ]
  },
  {
   "cell_type": "markdown",
   "id": "e8dad27a",
   "metadata": {},
   "source": [
    "#### Оставляем строки, не содержащие Nan в полях, которые будут использоваться в расчетах Доходности далее. "
   ]
  },
  {
   "cell_type": "code",
   "execution_count": 856,
   "id": "92e703cc",
   "metadata": {},
   "outputs": [],
   "source": [
    "bond_rub = bond_rub.dropna(subset = ['COUPONLENGTH', 'COUPONPERCENT', 'COUPONFREQUENCY','PRICE', 'COUPONVALUE'])\n",
    "bond_rub = bond_rub.reset_index(drop=True)"
   ]
  },
  {
   "cell_type": "markdown",
   "id": "b81a71d8",
   "metadata": {},
   "source": [
    "#### Количество записей в датафрейме, которые будем использовать для анализа"
   ]
  },
  {
   "cell_type": "code",
   "execution_count": 857,
   "id": "db311d6a",
   "metadata": {},
   "outputs": [
    {
     "data": {
      "text/plain": [
       "(1772, 53)"
      ]
     },
     "execution_count": 857,
     "metadata": {},
     "output_type": "execute_result"
    }
   ],
   "source": [
    "bond_rub.shape"
   ]
  },
  {
   "cell_type": "markdown",
   "id": "a7dcfe81",
   "metadata": {},
   "source": [
    "#### Проводим расчет накопленного купонного дохода NKD"
   ]
  },
  {
   "cell_type": "code",
   "execution_count": 858,
   "id": "3094747d",
   "metadata": {},
   "outputs": [],
   "source": [
    "bond_rub['NKD'] = bond_rub['COUPONDAYSPASSED']/bond_rub['COUPONLENGTH']"
   ]
  },
  {
   "cell_type": "code",
   "execution_count": 859,
   "id": "281a0ea9",
   "metadata": {},
   "outputs": [
    {
     "data": {
      "text/html": [
       "<div>\n",
       "<style scoped>\n",
       "    .dataframe tbody tr th:only-of-type {\n",
       "        vertical-align: middle;\n",
       "    }\n",
       "\n",
       "    .dataframe tbody tr th {\n",
       "        vertical-align: top;\n",
       "    }\n",
       "\n",
       "    .dataframe thead th {\n",
       "        text-align: right;\n",
       "    }\n",
       "</style>\n",
       "<table border=\"1\" class=\"dataframe\">\n",
       "  <thead>\n",
       "    <tr style=\"text-align: right;\">\n",
       "      <th></th>\n",
       "      <th>NKD</th>\n",
       "      <th>COUPONDAYSPASSED</th>\n",
       "      <th>COUPONLENGTH</th>\n",
       "    </tr>\n",
       "  </thead>\n",
       "  <tbody>\n",
       "    <tr>\n",
       "      <th>0</th>\n",
       "      <td>0.715847</td>\n",
       "      <td>131.0</td>\n",
       "      <td>183.0</td>\n",
       "    </tr>\n",
       "    <tr>\n",
       "      <th>1</th>\n",
       "      <td>0.549451</td>\n",
       "      <td>100.0</td>\n",
       "      <td>182.0</td>\n",
       "    </tr>\n",
       "    <tr>\n",
       "      <th>2</th>\n",
       "      <td>0.858696</td>\n",
       "      <td>158.0</td>\n",
       "      <td>184.0</td>\n",
       "    </tr>\n",
       "    <tr>\n",
       "      <th>3</th>\n",
       "      <td>0.193370</td>\n",
       "      <td>35.0</td>\n",
       "      <td>181.0</td>\n",
       "    </tr>\n",
       "    <tr>\n",
       "      <th>4</th>\n",
       "      <td>0.494505</td>\n",
       "      <td>90.0</td>\n",
       "      <td>182.0</td>\n",
       "    </tr>\n",
       "  </tbody>\n",
       "</table>\n",
       "</div>"
      ],
      "text/plain": [
       "        NKD  COUPONDAYSPASSED  COUPONLENGTH\n",
       "0  0.715847             131.0         183.0\n",
       "1  0.549451             100.0         182.0\n",
       "2  0.858696             158.0         184.0\n",
       "3  0.193370              35.0         181.0\n",
       "4  0.494505              90.0         182.0"
      ]
     },
     "execution_count": 859,
     "metadata": {},
     "output_type": "execute_result"
    }
   ],
   "source": [
    "bond_rub[['NKD','COUPONDAYSPASSED','COUPONLENGTH']].head()"
   ]
  },
  {
   "cell_type": "markdown",
   "id": "08d6d6ed",
   "metadata": {},
   "source": [
    "#### Очистка полей, необходимых для расчетов показателя Доходности от \"мусорных\" символов, оставляем только цифры и точку"
   ]
  },
  {
   "cell_type": "code",
   "execution_count": 860,
   "id": "b37e1837",
   "metadata": {},
   "outputs": [],
   "source": [
    "list = ['PRICE_RUB','PRICE','FACEVALUE','COUPONPERCENT','COUPONVALUE']\n",
    "for i in list:\n",
    "    bond_rub[i].replace(regex=True, inplace=True, to_replace=r'[^0-9,\\.\\-]',value=r'')\n",
    "\n",
    "    bond_rub[i] = bond_rub[i].str.replace(',', '.').astype(float)"
   ]
  },
  {
   "cell_type": "markdown",
   "id": "558f3946",
   "metadata": {},
   "source": [
    "#### Проводим расчет накопленного купонного дохода исходя из следующих рекомендаций\n",
    "Период расчета НКД: df['COUPONDAYSPASSED']/df['COUPONLENGTH'] , рекомендуется выбирать меньше или равный 0.2.\n",
    "Если удовлетворяет условию, полученная величина умножается на COUPONPERCENT/COUPONFREQUENCY.\n"
   ]
  },
  {
   "cell_type": "code",
   "execution_count": 861,
   "id": "e120c77d",
   "metadata": {},
   "outputs": [],
   "source": [
    "bond_rub['COUPON_K']=bond_rub['COUPONPERCENT']/bond_rub['COUPONFREQUENCY']"
   ]
  },
  {
   "cell_type": "code",
   "execution_count": 862,
   "id": "63683080",
   "metadata": {},
   "outputs": [],
   "source": [
    "bond_rub['NKD_02']=np.where(bond_rub['NKD']<= 0.2,bond_rub['NKD']*bond_rub['COUPON_K'],bond_rub['NKD'])"
   ]
  },
  {
   "cell_type": "markdown",
   "id": "318367b7",
   "metadata": {},
   "source": [
    "#### Проводим расчет Доходности исходя из следующих условий \n",
    "В общем случае процентный доход при ставке НДФЛ 13% будет:\n",
    "Profit =(Цена_Номинальная – Цена_покупки – НКД + 0.87*Купонный_доход_руб*X_лет)*100% /(Цена_покупки + НКД)\n",
    "(комиссией брокера пренебрегаем)"
   ]
  },
  {
   "cell_type": "markdown",
   "id": "4de84d3a",
   "metadata": {},
   "source": [
    "#### Расчет Цена покупки  в рублях"
   ]
  },
  {
   "cell_type": "code",
   "execution_count": 863,
   "id": "cd7c08fd",
   "metadata": {},
   "outputs": [],
   "source": [
    "bond_rub['PRICE_BYE']=bond_rub['PRICE']*bond_rub['FACEVALUE']/100"
   ]
  },
  {
   "cell_type": "markdown",
   "id": "e6acbdb0",
   "metadata": {},
   "source": [
    "#### Расчет Купонный доход в рублях"
   ]
  },
  {
   "cell_type": "code",
   "execution_count": 864,
   "id": "78fca787",
   "metadata": {},
   "outputs": [],
   "source": [
    "\n",
    "bond_rub['COUPONE_GANE']=(bond_rub['COUPONPERCENT']*bond_rub['FACEVALUE'])/100"
   ]
  },
  {
   "cell_type": "markdown",
   "id": "c1a7b4ab",
   "metadata": {},
   "source": [
    "#### Расчет НКД в рублях "
   ]
  },
  {
   "cell_type": "code",
   "execution_count": 865,
   "id": "97979cdd",
   "metadata": {},
   "outputs": [],
   "source": [
    "bond_rub['NKD_RUB']=(bond_rub['NKD_02']*bond_rub['FACEVALUE'])/100"
   ]
  },
  {
   "cell_type": "markdown",
   "id": "b735add0",
   "metadata": {},
   "source": [
    "#### Расчет дополнительного показателя  Прибыль/убыток  в рублях "
   ]
  },
  {
   "cell_type": "code",
   "execution_count": 866,
   "id": "6fe7d76b",
   "metadata": {},
   "outputs": [],
   "source": [
    "bond_rub['PROFIT_LOSS']= bond_rub['FACEVALUE'] - bond_rub['PRICE_BYE'] - bond_rub['NKD_RUB']"
   ]
  },
  {
   "cell_type": "code",
   "execution_count": 867,
   "id": "13634657",
   "metadata": {},
   "outputs": [
    {
     "data": {
      "text/html": [
       "<div>\n",
       "<style scoped>\n",
       "    .dataframe tbody tr th:only-of-type {\n",
       "        vertical-align: middle;\n",
       "    }\n",
       "\n",
       "    .dataframe tbody tr th {\n",
       "        vertical-align: top;\n",
       "    }\n",
       "\n",
       "    .dataframe thead th {\n",
       "        text-align: right;\n",
       "    }\n",
       "</style>\n",
       "<table border=\"1\" class=\"dataframe\">\n",
       "  <thead>\n",
       "    <tr style=\"text-align: right;\">\n",
       "      <th></th>\n",
       "      <th>FACEVALUE</th>\n",
       "      <th>PRICE</th>\n",
       "      <th>PRICE_BYE</th>\n",
       "      <th>NKD_02</th>\n",
       "      <th>NKD_RUB</th>\n",
       "      <th>PROFIT_LOSS</th>\n",
       "    </tr>\n",
       "  </thead>\n",
       "  <tbody>\n",
       "    <tr>\n",
       "      <th>1767</th>\n",
       "      <td>100000.0</td>\n",
       "      <td>80.99</td>\n",
       "      <td>80990.0</td>\n",
       "      <td>0.612022</td>\n",
       "      <td>612.021858</td>\n",
       "      <td>18397.978142</td>\n",
       "    </tr>\n",
       "    <tr>\n",
       "      <th>1768</th>\n",
       "      <td>100000.0</td>\n",
       "      <td>102.59</td>\n",
       "      <td>102590.0</td>\n",
       "      <td>0.666667</td>\n",
       "      <td>666.666667</td>\n",
       "      <td>-3256.666667</td>\n",
       "    </tr>\n",
       "    <tr>\n",
       "      <th>1769</th>\n",
       "      <td>100000.0</td>\n",
       "      <td>102.28</td>\n",
       "      <td>102280.0</td>\n",
       "      <td>0.609890</td>\n",
       "      <td>609.890110</td>\n",
       "      <td>-2889.890110</td>\n",
       "    </tr>\n",
       "    <tr>\n",
       "      <th>1770</th>\n",
       "      <td>100000.0</td>\n",
       "      <td>100.00</td>\n",
       "      <td>100000.0</td>\n",
       "      <td>0.763122</td>\n",
       "      <td>763.121547</td>\n",
       "      <td>-763.121547</td>\n",
       "    </tr>\n",
       "    <tr>\n",
       "      <th>1771</th>\n",
       "      <td>100000.0</td>\n",
       "      <td>99.95</td>\n",
       "      <td>99950.0</td>\n",
       "      <td>0.418478</td>\n",
       "      <td>418.478261</td>\n",
       "      <td>-368.478261</td>\n",
       "    </tr>\n",
       "  </tbody>\n",
       "</table>\n",
       "</div>"
      ],
      "text/plain": [
       "      FACEVALUE   PRICE  PRICE_BYE    NKD_02     NKD_RUB   PROFIT_LOSS\n",
       "1767   100000.0   80.99    80990.0  0.612022  612.021858  18397.978142\n",
       "1768   100000.0  102.59   102590.0  0.666667  666.666667  -3256.666667\n",
       "1769   100000.0  102.28   102280.0  0.609890  609.890110  -2889.890110\n",
       "1770   100000.0  100.00   100000.0  0.763122  763.121547   -763.121547\n",
       "1771   100000.0   99.95    99950.0  0.418478  418.478261   -368.478261"
      ]
     },
     "execution_count": 867,
     "metadata": {},
     "output_type": "execute_result"
    }
   ],
   "source": [
    "bond_rub[['FACEVALUE','PRICE','PRICE_BYE','NKD_02','NKD_RUB','PROFIT_LOSS']].tail()"
   ]
  },
  {
   "cell_type": "markdown",
   "id": "47736e25",
   "metadata": {},
   "source": [
    "#### Расчет купонного дохода с уплатой 13% НДФЛ в рублях"
   ]
  },
  {
   "cell_type": "code",
   "execution_count": 868,
   "id": "85881fe7",
   "metadata": {},
   "outputs": [],
   "source": [
    "bond_rub['COUPONE_GANE_NDFL'] = bond_rub['COUPONE_GANE'] * 0.87"
   ]
  },
  {
   "cell_type": "code",
   "execution_count": 869,
   "id": "0ecabcfc",
   "metadata": {},
   "outputs": [
    {
     "data": {
      "text/html": [
       "<div>\n",
       "<style scoped>\n",
       "    .dataframe tbody tr th:only-of-type {\n",
       "        vertical-align: middle;\n",
       "    }\n",
       "\n",
       "    .dataframe tbody tr th {\n",
       "        vertical-align: top;\n",
       "    }\n",
       "\n",
       "    .dataframe thead th {\n",
       "        text-align: right;\n",
       "    }\n",
       "</style>\n",
       "<table border=\"1\" class=\"dataframe\">\n",
       "  <thead>\n",
       "    <tr style=\"text-align: right;\">\n",
       "      <th></th>\n",
       "      <th>FACEVALUE</th>\n",
       "      <th>PRICE</th>\n",
       "      <th>PRICE_BYE</th>\n",
       "      <th>NKD_02</th>\n",
       "      <th>NKD_RUB</th>\n",
       "      <th>PROFIT_LOSS</th>\n",
       "      <th>COUPONPERCENT</th>\n",
       "      <th>COUPONE_GANE</th>\n",
       "      <th>COUPONE_GANE_NDFL</th>\n",
       "    </tr>\n",
       "  </thead>\n",
       "  <tbody>\n",
       "    <tr>\n",
       "      <th>0</th>\n",
       "      <td>1000.0</td>\n",
       "      <td>99.83</td>\n",
       "      <td>998.3</td>\n",
       "      <td>0.715847</td>\n",
       "      <td>7.158470</td>\n",
       "      <td>-5.458470</td>\n",
       "      <td>6.00</td>\n",
       "      <td>60.0</td>\n",
       "      <td>52.200</td>\n",
       "    </tr>\n",
       "    <tr>\n",
       "      <th>1</th>\n",
       "      <td>1000.0</td>\n",
       "      <td>99.75</td>\n",
       "      <td>997.5</td>\n",
       "      <td>0.549451</td>\n",
       "      <td>5.494505</td>\n",
       "      <td>-2.994505</td>\n",
       "      <td>7.85</td>\n",
       "      <td>78.5</td>\n",
       "      <td>68.295</td>\n",
       "    </tr>\n",
       "    <tr>\n",
       "      <th>2</th>\n",
       "      <td>1000.0</td>\n",
       "      <td>103.93</td>\n",
       "      <td>1039.3</td>\n",
       "      <td>0.858696</td>\n",
       "      <td>8.586957</td>\n",
       "      <td>-47.886957</td>\n",
       "      <td>7.50</td>\n",
       "      <td>75.0</td>\n",
       "      <td>65.250</td>\n",
       "    </tr>\n",
       "    <tr>\n",
       "      <th>3</th>\n",
       "      <td>1000.0</td>\n",
       "      <td>112.07</td>\n",
       "      <td>1120.7</td>\n",
       "      <td>0.894337</td>\n",
       "      <td>8.943370</td>\n",
       "      <td>-129.643370</td>\n",
       "      <td>9.25</td>\n",
       "      <td>92.5</td>\n",
       "      <td>80.475</td>\n",
       "    </tr>\n",
       "    <tr>\n",
       "      <th>4</th>\n",
       "      <td>1000.0</td>\n",
       "      <td>100.32</td>\n",
       "      <td>1003.2</td>\n",
       "      <td>0.494505</td>\n",
       "      <td>4.945055</td>\n",
       "      <td>-8.145055</td>\n",
       "      <td>7.85</td>\n",
       "      <td>78.5</td>\n",
       "      <td>68.295</td>\n",
       "    </tr>\n",
       "  </tbody>\n",
       "</table>\n",
       "</div>"
      ],
      "text/plain": [
       "   FACEVALUE   PRICE  PRICE_BYE    NKD_02   NKD_RUB  PROFIT_LOSS  \\\n",
       "0     1000.0   99.83      998.3  0.715847  7.158470    -5.458470   \n",
       "1     1000.0   99.75      997.5  0.549451  5.494505    -2.994505   \n",
       "2     1000.0  103.93     1039.3  0.858696  8.586957   -47.886957   \n",
       "3     1000.0  112.07     1120.7  0.894337  8.943370  -129.643370   \n",
       "4     1000.0  100.32     1003.2  0.494505  4.945055    -8.145055   \n",
       "\n",
       "   COUPONPERCENT  COUPONE_GANE  COUPONE_GANE_NDFL  \n",
       "0           6.00          60.0             52.200  \n",
       "1           7.85          78.5             68.295  \n",
       "2           7.50          75.0             65.250  \n",
       "3           9.25          92.5             80.475  \n",
       "4           7.85          78.5             68.295  "
      ]
     },
     "execution_count": 869,
     "metadata": {},
     "output_type": "execute_result"
    }
   ],
   "source": [
    "bond_rub[['FACEVALUE','PRICE','PRICE_BYE','NKD_02','NKD_RUB','PROFIT_LOSS','COUPONPERCENT','COUPONE_GANE','COUPONE_GANE_NDFL']].head()"
   ]
  },
  {
   "cell_type": "markdown",
   "id": "60b6fb12",
   "metadata": {},
   "source": [
    "#### Расчет показателя Доходность в рублях"
   ]
  },
  {
   "cell_type": "code",
   "execution_count": 870,
   "id": "ca2ff4b1",
   "metadata": {},
   "outputs": [],
   "source": [
    "bond_rub['PROFIT']=(bond_rub['PROFIT_LOSS'] + (bond_rub['COUPONE_GANE_NDFL'])) * 100 / (bond_rub['PRICE_BYE'] + bond_rub['NKD_RUB'] )"
   ]
  },
  {
   "cell_type": "code",
   "execution_count": 871,
   "id": "a27fc52d",
   "metadata": {},
   "outputs": [
    {
     "data": {
      "text/html": [
       "<div>\n",
       "<style scoped>\n",
       "    .dataframe tbody tr th:only-of-type {\n",
       "        vertical-align: middle;\n",
       "    }\n",
       "\n",
       "    .dataframe tbody tr th {\n",
       "        vertical-align: top;\n",
       "    }\n",
       "\n",
       "    .dataframe thead th {\n",
       "        text-align: right;\n",
       "    }\n",
       "</style>\n",
       "<table border=\"1\" class=\"dataframe\">\n",
       "  <thead>\n",
       "    <tr style=\"text-align: right;\">\n",
       "      <th></th>\n",
       "      <th>FACEVALUE</th>\n",
       "      <th>PRICE_BYE</th>\n",
       "      <th>NKD_RUB</th>\n",
       "      <th>PROFIT_LOSS</th>\n",
       "      <th>COUPONPERCENT</th>\n",
       "      <th>COUPONE_GANE_NDFL</th>\n",
       "      <th>PROFIT</th>\n",
       "    </tr>\n",
       "  </thead>\n",
       "  <tbody>\n",
       "    <tr>\n",
       "      <th>1767</th>\n",
       "      <td>100000.0</td>\n",
       "      <td>80990.0</td>\n",
       "      <td>612.021858</td>\n",
       "      <td>18397.978142</td>\n",
       "      <td>8.000</td>\n",
       "      <td>6960.00</td>\n",
       "      <td>31.075184</td>\n",
       "    </tr>\n",
       "    <tr>\n",
       "      <th>1768</th>\n",
       "      <td>100000.0</td>\n",
       "      <td>102590.0</td>\n",
       "      <td>666.666667</td>\n",
       "      <td>-3256.666667</td>\n",
       "      <td>9.000</td>\n",
       "      <td>7830.00</td>\n",
       "      <td>4.429093</td>\n",
       "    </tr>\n",
       "    <tr>\n",
       "      <th>1769</th>\n",
       "      <td>100000.0</td>\n",
       "      <td>102280.0</td>\n",
       "      <td>609.890110</td>\n",
       "      <td>-2889.890110</td>\n",
       "      <td>8.500</td>\n",
       "      <td>7395.00</td>\n",
       "      <td>4.378574</td>\n",
       "    </tr>\n",
       "    <tr>\n",
       "      <th>1770</th>\n",
       "      <td>100000.0</td>\n",
       "      <td>100000.0</td>\n",
       "      <td>763.121547</td>\n",
       "      <td>-763.121547</td>\n",
       "      <td>8.125</td>\n",
       "      <td>7068.75</td>\n",
       "      <td>6.257873</td>\n",
       "    </tr>\n",
       "    <tr>\n",
       "      <th>1771</th>\n",
       "      <td>100000.0</td>\n",
       "      <td>99950.0</td>\n",
       "      <td>418.478261</td>\n",
       "      <td>-368.478261</td>\n",
       "      <td>7.850</td>\n",
       "      <td>6829.50</td>\n",
       "      <td>6.437302</td>\n",
       "    </tr>\n",
       "  </tbody>\n",
       "</table>\n",
       "</div>"
      ],
      "text/plain": [
       "      FACEVALUE  PRICE_BYE     NKD_RUB   PROFIT_LOSS  COUPONPERCENT  \\\n",
       "1767   100000.0    80990.0  612.021858  18397.978142          8.000   \n",
       "1768   100000.0   102590.0  666.666667  -3256.666667          9.000   \n",
       "1769   100000.0   102280.0  609.890110  -2889.890110          8.500   \n",
       "1770   100000.0   100000.0  763.121547   -763.121547          8.125   \n",
       "1771   100000.0    99950.0  418.478261   -368.478261          7.850   \n",
       "\n",
       "      COUPONE_GANE_NDFL     PROFIT  \n",
       "1767            6960.00  31.075184  \n",
       "1768            7830.00   4.429093  \n",
       "1769            7395.00   4.378574  \n",
       "1770            7068.75   6.257873  \n",
       "1771            6829.50   6.437302  "
      ]
     },
     "execution_count": 871,
     "metadata": {},
     "output_type": "execute_result"
    }
   ],
   "source": [
    "bond_rub[['FACEVALUE','PRICE_BYE','NKD_RUB','PROFIT_LOSS','COUPONPERCENT','COUPONE_GANE_NDFL','PROFIT']].tail()"
   ]
  },
  {
   "cell_type": "markdown",
   "id": "fa4f20e3",
   "metadata": {},
   "source": [
    "#### Для дальнейшего анализа оставляем только доходные ценные бумаги и определяем объем полученных данных"
   ]
  },
  {
   "cell_type": "code",
   "execution_count": 872,
   "id": "a204c228",
   "metadata": {},
   "outputs": [],
   "source": [
    "bond_rub = bond_rub[bond_rub['PROFIT'] > 0]"
   ]
  },
  {
   "cell_type": "code",
   "execution_count": 873,
   "id": "9321fa8b",
   "metadata": {},
   "outputs": [
    {
     "data": {
      "text/plain": [
       "(1659, 62)"
      ]
     },
     "execution_count": 873,
     "metadata": {},
     "output_type": "execute_result"
    }
   ],
   "source": [
    "bond_rub.shape"
   ]
  },
  {
   "cell_type": "markdown",
   "id": "969344a0",
   "metadata": {},
   "source": [
    "#### На основании анализа рынка доходных облигаций в 2021 (длинных и коротких) определено, что эффективная доходность к погашению в % годовых колеблется от 4.2 до 8.5 % На основании вышепреведенных данных, оставляем значения эффективной доходности ~ 20 (выше статистической, но убираем выбросы)"
   ]
  },
  {
   "cell_type": "code",
   "execution_count": 874,
   "id": "25baf395",
   "metadata": {},
   "outputs": [
    {
     "data": {
      "text/plain": [
       "8718.596608527132"
      ]
     },
     "execution_count": 874,
     "metadata": {},
     "output_type": "execute_result"
    }
   ],
   "source": [
    "bond_rub['PROFIT'].max()"
   ]
  },
  {
   "cell_type": "code",
   "execution_count": 875,
   "id": "7b40dae4",
   "metadata": {},
   "outputs": [],
   "source": [
    "bond_rub = bond_rub[bond_rub['PROFIT'] <= 20]"
   ]
  },
  {
   "cell_type": "code",
   "execution_count": 876,
   "id": "43d86c10",
   "metadata": {},
   "outputs": [
    {
     "data": {
      "text/plain": [
       "19.776301595412487"
      ]
     },
     "execution_count": 876,
     "metadata": {},
     "output_type": "execute_result"
    }
   ],
   "source": [
    "bond_rub['PROFIT'].max()"
   ]
  },
  {
   "cell_type": "markdown",
   "id": "b958ad8a",
   "metadata": {},
   "source": [
    "#### Анализируем количество записей, оставшееся в датафрейме"
   ]
  },
  {
   "cell_type": "code",
   "execution_count": 877,
   "id": "db7955fa",
   "metadata": {},
   "outputs": [
    {
     "data": {
      "text/plain": [
       "(1604, 62)"
      ]
     },
     "execution_count": 877,
     "metadata": {},
     "output_type": "execute_result"
    }
   ],
   "source": [
    "bond_rub.shape"
   ]
  },
  {
   "cell_type": "markdown",
   "id": "dc2fe8ce",
   "metadata": {},
   "source": [
    "#### Определяем количество кластеров. Для анализа отобраны столбцы, влияющие на доходность\n",
    "#### При кластеризации методом k-средних количество кластеров чаще всего оценивают с помощью «метода локтя»"
   ]
  },
  {
   "cell_type": "code",
   "execution_count": 878,
   "id": "b7387811",
   "metadata": {},
   "outputs": [
    {
     "data": {
      "image/png": "[encoded data removed]",
      "text/plain": [
       "<Figure size 432x288 with 1 Axes>"
      ]
     },
     "metadata": {
      "needs_background": "light"
     },
     "output_type": "display_data"
    },
    {
     "name": "stdout",
     "output_type": "stream",
     "text": [
      "Вывод - делим на 3 кластера\n"
     ]
    }
   ],
   "source": [
    "SSE = []\n",
    "for k in range(1,9):\n",
    "    estimator = KMeans (n_clusters = k) \n",
    "    estimator.fit(bond_rub[['PROFIT','NKD_RUB']])\n",
    "    SSE.append(estimator.inertia_)\n",
    "    X = range(1,9)\n",
    "\n",
    "plt.xlabel('klasters')\n",
    "plt.ylabel('SSE')\n",
    "plt.plot(X,SSE,'o-')\n",
    "plt.show()\n",
    "print('Вывод - делим на 3 кластера')\n"
   ]
  },
  {
   "cell_type": "markdown",
   "id": "6f591ad0",
   "metadata": {},
   "source": [
    "#### Выполняем кластеризацию по К-средних"
   ]
  },
  {
   "cell_type": "code",
   "execution_count": 879,
   "id": "8fac84e3",
   "metadata": {},
   "outputs": [
    {
     "data": {
      "text/plain": [
       "0    1587\n",
       "1       9\n",
       "2       8\n",
       "Name: ClusterID, dtype: int64"
      ]
     },
     "execution_count": 879,
     "metadata": {},
     "output_type": "execute_result"
    }
   ],
   "source": [
    "kmeans = KMeans(n_clusters=3)\n",
    "pred=kmeans.fit_predict(bond_rub[['PROFIT','NKD_RUB']])\n",
    "bond_rub['ClusterID'] = pred\n",
    "bond_rub.ClusterID.value_counts(normalize=False)"
   ]
  },
  {
   "cell_type": "markdown",
   "id": "b124eae4",
   "metadata": {},
   "source": [
    "#### Среднее значение доходности для каждого из кластеров"
   ]
  },
  {
   "cell_type": "code",
   "execution_count": 880,
   "id": "f8d6f6c6",
   "metadata": {},
   "outputs": [
    {
     "name": "stdout",
     "output_type": "stream",
     "text": [
      "7.170546364933424\n",
      "7.887920454238342\n",
      "6.830810916097423\n"
     ]
    }
   ],
   "source": [
    "print((bond_rub['PROFIT'].iloc[np.where(bond_rub.ClusterID==0)]).mean())\n",
    "print((bond_rub['PROFIT'].iloc[np.where(bond_rub.ClusterID==1)]).mean())\n",
    "print((bond_rub['PROFIT'].iloc[np.where(bond_rub.ClusterID==2)]).mean())\n"
   ]
  },
  {
   "cell_type": "markdown",
   "id": "102c5169",
   "metadata": {},
   "source": [
    "#### Строим диаграмму распределения кластеров по средним значениям доходности"
   ]
  },
  {
   "cell_type": "code",
   "execution_count": 881,
   "id": "2ce2b214",
   "metadata": {},
   "outputs": [
    {
     "data": {
      "image/png": "[encoded data removed]",
      "text/plain": [
       "<Figure size 864x504 with 1 Axes>"
      ]
     },
     "metadata": {
      "needs_background": "light"
     },
     "output_type": "display_data"
    }
   ],
   "source": [
    "y = bond_rub[['PROFIT', 'ClusterID']].groupby('ClusterID').mean()\n",
    "plt.figure(figsize=(12, 7))\n",
    "plt.xlabel('Кластеры', fontsize=15, color='blue')\n",
    "plt.ylabel('Доходность', fontsize=15, color='blue')\n",
    "plt.xticks([0,1,2])\n",
    "plt.plot( y, 'o-b', alpha=0.7, label=\"Доходность в разрезе кластеров\", lw=7, mec='b', mew=2, ms=12)\n",
    "# plt.plot(x, y2, 'v-.g', label=\"second\", mec='r', lw=2, mew=2, ms=12)\n",
    "plt.legend()\n",
    "plt.grid(True)"
   ]
  },
  {
   "cell_type": "markdown",
   "id": "3b3659d4",
   "metadata": {},
   "source": [
    "#### Распределение значений в разрезе по кластерам"
   ]
  },
  {
   "cell_type": "code",
   "execution_count": 882,
   "id": "6afae7b2",
   "metadata": {},
   "outputs": [
    {
     "name": "stdout",
     "output_type": "stream",
     "text": [
      "[[7.17054636e+00 3.60641958e+01]\n",
      " [7.88792045e+00 6.55242299e+04]\n",
      " [6.83081092e+00 3.29766115e+04]]\n"
     ]
    }
   ],
   "source": [
    "X = bond_rub[['PROFIT','NKD_RUB',]].to_numpy()\n",
    "kmeans = KMeans(n_clusters=3) \n",
    "kmeans.fit(X)\n",
    "print(kmeans.cluster_centers_)"
   ]
  },
  {
   "cell_type": "code",
   "execution_count": 883,
   "id": "bbe44c37",
   "metadata": {},
   "outputs": [
    {
     "data": {
      "text/plain": [
       "<matplotlib.collections.PathCollection at 0x249f2e1ee20>"
      ]
     },
     "execution_count": 883,
     "metadata": {},
     "output_type": "execute_result"
    },
    {
     "data": {
      "image/png": "[encoded data removed]",
      "text/plain": [
       "<Figure size 432x288 with 1 Axes>"
      ]
     },
     "metadata": {
      "needs_background": "light"
     },
     "output_type": "display_data"
    }
   ],
   "source": [
    "plt.scatter(X[:,0],X[:,1], c=kmeans.labels_, cmap='rainbow')"
   ]
  },
  {
   "cell_type": "markdown",
   "id": "d66933b7",
   "metadata": {},
   "source": [
    "#### Топ 5 компаний в разрезе кластеров"
   ]
  },
  {
   "cell_type": "code",
   "execution_count": 884,
   "id": "aac0bf81",
   "metadata": {},
   "outputs": [],
   "source": [
    "top_cl2 = bond_rub[['PROFIT', 'NAME','ClusterID']].iloc[np.where(bond_rub.ClusterID==2)]\n",
    "top_cl1 = bond_rub[['PROFIT', 'NAME','ClusterID']].iloc[np.where(bond_rub.ClusterID==1)]\n",
    "top_cl0 = bond_rub[['PROFIT', 'NAME','ClusterID']].iloc[np.where(bond_rub.ClusterID==0)]"
   ]
  },
  {
   "cell_type": "code",
   "execution_count": 885,
   "id": "11f0ccf1",
   "metadata": {},
   "outputs": [
    {
     "data": {
      "text/html": [
       "<div>\n",
       "<style scoped>\n",
       "    .dataframe tbody tr th:only-of-type {\n",
       "        vertical-align: middle;\n",
       "    }\n",
       "\n",
       "    .dataframe tbody tr th {\n",
       "        vertical-align: top;\n",
       "    }\n",
       "\n",
       "    .dataframe thead th {\n",
       "        text-align: right;\n",
       "    }\n",
       "</style>\n",
       "<table border=\"1\" class=\"dataframe\">\n",
       "  <thead>\n",
       "    <tr style=\"text-align: right;\">\n",
       "      <th></th>\n",
       "      <th>PROFIT</th>\n",
       "      <th>NAME</th>\n",
       "      <th>ClusterID</th>\n",
       "    </tr>\n",
       "  </thead>\n",
       "  <tbody>\n",
       "    <tr>\n",
       "      <th>1301</th>\n",
       "      <td>10.946117</td>\n",
       "      <td>Банк ВТБ ПАО СУБ-Т2-2</td>\n",
       "      <td>2</td>\n",
       "    </tr>\n",
       "    <tr>\n",
       "      <th>362</th>\n",
       "      <td>9.214388</td>\n",
       "      <td>ОР ООО обл.БО-07</td>\n",
       "      <td>2</td>\n",
       "    </tr>\n",
       "    <tr>\n",
       "      <th>1678</th>\n",
       "      <td>8.493221</td>\n",
       "      <td>Банк ВТБ ПАО СУБ-Т1-12</td>\n",
       "      <td>2</td>\n",
       "    </tr>\n",
       "    <tr>\n",
       "      <th>1677</th>\n",
       "      <td>8.245843</td>\n",
       "      <td>Банк ВТБ ПАО СУБ-Т1-11</td>\n",
       "      <td>2</td>\n",
       "    </tr>\n",
       "    <tr>\n",
       "      <th>1666</th>\n",
       "      <td>6.990081</td>\n",
       "      <td>Газпром капитал ООО 001Б-03</td>\n",
       "      <td>2</td>\n",
       "    </tr>\n",
       "  </tbody>\n",
       "</table>\n",
       "</div>"
      ],
      "text/plain": [
       "         PROFIT                         NAME  ClusterID\n",
       "1301  10.946117        Банк ВТБ ПАО СУБ-Т2-2          2\n",
       "362    9.214388             ОР ООО обл.БО-07          2\n",
       "1678   8.493221       Банк ВТБ ПАО СУБ-Т1-12          2\n",
       "1677   8.245843       Банк ВТБ ПАО СУБ-Т1-11          2\n",
       "1666   6.990081  Газпром капитал ООО 001Б-03          2"
      ]
     },
     "execution_count": 885,
     "metadata": {},
     "output_type": "execute_result"
    }
   ],
   "source": [
    "Top_5_cluster_2 = top_cl2.sort_values(by='PROFIT',ascending=False).head()\n",
    "Top_5_cluster_2.head()"
   ]
  },
  {
   "cell_type": "code",
   "execution_count": 886,
   "id": "3d91fd60",
   "metadata": {},
   "outputs": [
    {
     "data": {
      "image/png": "[encoded data removed]",
      "text/plain": [
       "<Figure size 432x288 with 1 Axes>"
      ]
     },
     "metadata": {
      "needs_background": "light"
     },
     "output_type": "display_data"
    }
   ],
   "source": [
    "emitents =Top_5_cluster_2['NAME']\n",
    "profit = Top_5_cluster_2['PROFIT']\n",
    "fig, ax = plt.subplots()\n",
    "plt.bar(emitents, profit)\n",
    "plt.title(\"TOP_5_emitents! Cluster_2\")\n",
    "plt.xlabel(\"emitents\")\n",
    "plt.ylabel(\"profit\")\n",
    "fig.autofmt_xdate()"
   ]
  },
  {
   "cell_type": "code",
   "execution_count": 887,
   "id": "5b22d8e5",
   "metadata": {},
   "outputs": [
    {
     "data": {
      "text/html": [
       "<div>\n",
       "<style scoped>\n",
       "    .dataframe tbody tr th:only-of-type {\n",
       "        vertical-align: middle;\n",
       "    }\n",
       "\n",
       "    .dataframe tbody tr th {\n",
       "        vertical-align: top;\n",
       "    }\n",
       "\n",
       "    .dataframe thead th {\n",
       "        text-align: right;\n",
       "    }\n",
       "</style>\n",
       "<table border=\"1\" class=\"dataframe\">\n",
       "  <thead>\n",
       "    <tr style=\"text-align: right;\">\n",
       "      <th></th>\n",
       "      <th>PROFIT</th>\n",
       "      <th>NAME</th>\n",
       "      <th>ClusterID</th>\n",
       "    </tr>\n",
       "  </thead>\n",
       "  <tbody>\n",
       "    <tr>\n",
       "      <th>1393</th>\n",
       "      <td>13.419518</td>\n",
       "      <td>Сбербанк 002СУБ-02R</td>\n",
       "      <td>1</td>\n",
       "    </tr>\n",
       "    <tr>\n",
       "      <th>948</th>\n",
       "      <td>9.492680</td>\n",
       "      <td>Банк ВТБ ПАО Т2-3</td>\n",
       "      <td>1</td>\n",
       "    </tr>\n",
       "    <tr>\n",
       "      <th>1554</th>\n",
       "      <td>8.301783</td>\n",
       "      <td>Банк ВТБ ПАО СУБ-Т1-5</td>\n",
       "      <td>1</td>\n",
       "    </tr>\n",
       "    <tr>\n",
       "      <th>731</th>\n",
       "      <td>8.082806</td>\n",
       "      <td>СЕВЕРГАЗБАНК 01</td>\n",
       "      <td>1</td>\n",
       "    </tr>\n",
       "    <tr>\n",
       "      <th>732</th>\n",
       "      <td>8.082806</td>\n",
       "      <td>СЕВЕРГАЗБАНК 02</td>\n",
       "      <td>1</td>\n",
       "    </tr>\n",
       "  </tbody>\n",
       "</table>\n",
       "</div>"
      ],
      "text/plain": [
       "         PROFIT                   NAME  ClusterID\n",
       "1393  13.419518    Сбербанк 002СУБ-02R          1\n",
       "948    9.492680      Банк ВТБ ПАО Т2-3          1\n",
       "1554   8.301783  Банк ВТБ ПАО СУБ-Т1-5          1\n",
       "731    8.082806        СЕВЕРГАЗБАНК 01          1\n",
       "732    8.082806        СЕВЕРГАЗБАНК 02          1"
      ]
     },
     "execution_count": 887,
     "metadata": {},
     "output_type": "execute_result"
    }
   ],
   "source": [
    "# Топ 5 компаний по кластеру 1\n",
    "Top_5_cluster_1 = top_cl1.sort_values(by='PROFIT',ascending=False).head()\n",
    "Top_5_cluster_1.head()"
   ]
  },
  {
   "cell_type": "code",
   "execution_count": 888,
   "id": "811900c8",
   "metadata": {},
   "outputs": [
    {
     "data": {
      "image/png": "[encoded data removed]",
      "text/plain": [
       "<Figure size 432x288 with 1 Axes>"
      ]
     },
     "metadata": {
      "needs_background": "light"
     },
     "output_type": "display_data"
    }
   ],
   "source": [
    "emitents =Top_5_cluster_1['NAME']\n",
    "profit = Top_5_cluster_1['PROFIT']\n",
    "fig, ax = plt.subplots()\n",
    "plt.bar(emitents, profit)\n",
    "plt.title(\"TOP_5_emitents! Cluster_1\")\n",
    "plt.xlabel(\"emitents\")\n",
    "plt.ylabel(\"profit\")\n",
    "fig.autofmt_xdate()"
   ]
  },
  {
   "cell_type": "code",
   "execution_count": 889,
   "id": "3cdbcb58",
   "metadata": {},
   "outputs": [
    {
     "data": {
      "text/html": [
       "<div>\n",
       "<style scoped>\n",
       "    .dataframe tbody tr th:only-of-type {\n",
       "        vertical-align: middle;\n",
       "    }\n",
       "\n",
       "    .dataframe tbody tr th {\n",
       "        vertical-align: top;\n",
       "    }\n",
       "\n",
       "    .dataframe thead th {\n",
       "        text-align: right;\n",
       "    }\n",
       "</style>\n",
       "<table border=\"1\" class=\"dataframe\">\n",
       "  <thead>\n",
       "    <tr style=\"text-align: right;\">\n",
       "      <th></th>\n",
       "      <th>PROFIT</th>\n",
       "      <th>NAME</th>\n",
       "      <th>ClusterID</th>\n",
       "    </tr>\n",
       "  </thead>\n",
       "  <tbody>\n",
       "    <tr>\n",
       "      <th>268</th>\n",
       "      <td>19.776302</td>\n",
       "      <td>ПАО \"ИНВЕСТ-ДЕВЕЛОПМЕНТ\" БО-01</td>\n",
       "      <td>0</td>\n",
       "    </tr>\n",
       "    <tr>\n",
       "      <th>1758</th>\n",
       "      <td>19.628323</td>\n",
       "      <td>BCS SP Plc Series 92</td>\n",
       "      <td>0</td>\n",
       "    </tr>\n",
       "    <tr>\n",
       "      <th>1717</th>\n",
       "      <td>18.946504</td>\n",
       "      <td>ОФЗ-ПД 26233 18/07/2035</td>\n",
       "      <td>0</td>\n",
       "    </tr>\n",
       "    <tr>\n",
       "      <th>1084</th>\n",
       "      <td>17.583275</td>\n",
       "      <td>СберИОС 001Р-245R 5Г БТЕХ ИНД</td>\n",
       "      <td>0</td>\n",
       "    </tr>\n",
       "    <tr>\n",
       "      <th>1300</th>\n",
       "      <td>17.315704</td>\n",
       "      <td>Банк ВТБ ПАО СУБ-Т2-1</td>\n",
       "      <td>0</td>\n",
       "    </tr>\n",
       "  </tbody>\n",
       "</table>\n",
       "</div>"
      ],
      "text/plain": [
       "         PROFIT                            NAME  ClusterID\n",
       "268   19.776302  ПАО \"ИНВЕСТ-ДЕВЕЛОПМЕНТ\" БО-01          0\n",
       "1758  19.628323            BCS SP Plc Series 92          0\n",
       "1717  18.946504         ОФЗ-ПД 26233 18/07/2035          0\n",
       "1084  17.583275   СберИОС 001Р-245R 5Г БТЕХ ИНД          0\n",
       "1300  17.315704           Банк ВТБ ПАО СУБ-Т2-1          0"
      ]
     },
     "execution_count": 889,
     "metadata": {},
     "output_type": "execute_result"
    }
   ],
   "source": [
    "# Топ 5 компаний по кластеру 0\n",
    "Top_5_cluster_0 = top_cl0.sort_values(by='PROFIT',ascending=False).head()\n",
    "Top_5_cluster_0"
   ]
  },
  {
   "cell_type": "code",
   "execution_count": 890,
   "id": "cdea869a",
   "metadata": {},
   "outputs": [
    {
     "data": {
      "image/png": "[encoded data removed]",
      "text/plain": [
       "<Figure size 432x288 with 1 Axes>"
      ]
     },
     "metadata": {
      "needs_background": "light"
     },
     "output_type": "display_data"
    }
   ],
   "source": [
    "emitents =Top_5_cluster_0['NAME']\n",
    "profit = Top_5_cluster_0['PROFIT']\n",
    "fig, ax = plt.subplots()\n",
    "plt.bar(emitents, profit)\n",
    "plt.title(\"TOP_5_emitents! Cluster_0\")\n",
    "plt.xlabel(\"emitents\")\n",
    "plt.ylabel(\"profit\")\n",
    "fig.autofmt_xdate()"
   ]
  },
  {
   "cell_type": "markdown",
   "id": "aabd1e09",
   "metadata": {},
   "source": [
    "#### Проводим расчет даты, исходя из условия по периоду 20% от текущей даты "
   ]
  },
  {
   "cell_type": "code",
   "execution_count": 891,
   "id": "cda4dc5f",
   "metadata": {},
   "outputs": [],
   "source": [
    "bond_rub['COUPONDAYSPASSED_0.20']= round(bond_rub['COUPONDAYSPASSED'] * 0.20)"
   ]
  },
  {
   "cell_type": "markdown",
   "id": "1b302fa3",
   "metadata": {},
   "source": [
    "#### Рассчитываем дату промежуточной выплаты по купонам не более 20% купонного периода назад до текущей даты"
   ]
  },
  {
   "cell_type": "code",
   "execution_count": 892,
   "id": "cce279ce",
   "metadata": {},
   "outputs": [],
   "source": [
    "list_date = []\n",
    " \n",
    "for index, row in bond_rub.iterrows():\n",
    "    list_date.append(date.today() - timedelta(days=row['COUPONDAYSPASSED_0.20']))\n",
    "bond_rub['date_NEW'] = list_date"
   ]
  },
  {
   "cell_type": "markdown",
   "id": "1c78c4d4",
   "metadata": {},
   "source": [
    "#### Приводим  формат столбцов с датами к типу datetime"
   ]
  },
  {
   "cell_type": "code",
   "execution_count": 893,
   "id": "11175753",
   "metadata": {},
   "outputs": [],
   "source": [
    "bond_rub['ISSUEDATE'] = pd.to_datetime(bond_rub['ISSUEDATE'])\n",
    "bond_rub['date_NEW'] = pd.to_datetime(bond_rub['date_NEW'])\n",
    "bond_rub['COUPONDATE'] = pd.to_datetime(bond_rub['COUPONDATE'])"
   ]
  },
  {
   "cell_type": "code",
   "execution_count": 894,
   "id": "630a4c90",
   "metadata": {},
   "outputs": [
    {
     "data": {
      "text/plain": [
       "date_NEW      datetime64[ns]\n",
       "ISSUEDATE     datetime64[ns]\n",
       "COUPONDATE    datetime64[ns]\n",
       "dtype: object"
      ]
     },
     "execution_count": 894,
     "metadata": {},
     "output_type": "execute_result"
    }
   ],
   "source": [
    "bond_rub[['date_NEW','ISSUEDATE','COUPONDATE']].dtypes"
   ]
  },
  {
   "cell_type": "markdown",
   "id": "2f2ac4a5",
   "metadata": {},
   "source": [
    "#### Оставляем данные, удовлетворяющие условию: \"COUPONDATE\" и \"ISSUEDATE\" меньше или равны \"date_NEW \" и \"HIGH_RISK\" = 0"
   ]
  },
  {
   "cell_type": "code",
   "execution_count": 895,
   "id": "66df7769",
   "metadata": {},
   "outputs": [],
   "source": [
    "bond_rub = bond_rub[(bond_rub['COUPONDATE'] <= bond_rub['date_NEW']) & (bond_rub['COUPONDATE'] <= bond_rub['date_NEW']) & (bond_rub['HIGH_RISK'] == 0 )]"
   ]
  },
  {
   "cell_type": "markdown",
   "id": "575772eb",
   "metadata": {},
   "source": [
    "#### PROFIT посчитан. Определяем Топ 5 эмитентов по доходности и выводим на гистограмму"
   ]
  },
  {
   "cell_type": "code",
   "execution_count": 896,
   "id": "f0110aa5",
   "metadata": {},
   "outputs": [],
   "source": [
    "Top_5 = bond_rub.sort_values(by='PROFIT',ascending=False).head()"
   ]
  },
  {
   "cell_type": "code",
   "execution_count": 897,
   "id": "07483a77",
   "metadata": {},
   "outputs": [
    {
     "data": {
      "image/png": "[encoded data removed]",
      "text/plain": [
       "<Figure size 432x288 with 1 Axes>"
      ]
     },
     "metadata": {
      "needs_background": "light"
     },
     "output_type": "display_data"
    }
   ],
   "source": [
    "emitents =Top_5['NAME']\n",
    "profit = Top_5['PROFIT']\n",
    "fig, ax = plt.subplots()\n",
    "plt.bar(emitents, profit)\n",
    "plt.title(\"TOP_5_emitents!\")\n",
    "plt.xlabel(\"emitents\")\n",
    "plt.ylabel(\"profit\")\n",
    "fig.autofmt_xdate()"
   ]
  }
 ],
 "metadata": {
  "kernelspec": {
   "display_name": "Python 3 (ipykernel)",
   "language": "python",
   "name": "python3"
  },
  "language_info": {
   "codemirror_mode": {
    "name": "ipython",
    "version": 3
   },
   "file_extension": ".py",
   "mimetype": "text/x-python",
   "name": "python",
   "nbconvert_exporter": "python",
   "pygments_lexer": "ipython3",
   "version": "3.9.6"
  }
 },
 "nbformat": 4,
 "nbformat_minor": 5
}
