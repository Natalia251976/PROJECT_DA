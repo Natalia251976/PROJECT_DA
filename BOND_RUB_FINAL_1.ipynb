{
 "cells": [
  {
   "cell_type": "markdown",
   "id": "90eb7a40",
   "metadata": {},
   "source": [
    "# Проект :<br>  \n",
    "### Требуется выполнить следующие действия с данными по облигациям на дату формирования данных:  \n",
    "  \n",
    "       \n",
    "\n",
    "<div style=\"text-align: justify\"><br><br> 1. Оценить рынок рублевых облигаций по распределению купонной доходности, предложить разделение на кластеры по купонной доходности.Предложить графическое представление полученных групп/кластеров. (график)</div>\n",
    "\n",
    "<div style=\"text-align: justify\"> 2. По низкорисковым рублевым облигациям с датой промежуточной выплаты по  купонам не более 20% купонного периода назад до текущей даты и облигациям выпущенным в аналогичный период, рассчитать доходность последующих купонов по отобранным облигациям с учетом разницы номинала и цены продажи, а также с учетом налоговых отчислений на период год с текущей дата. (график и/или таблица)</div>\n",
    "\n",
    "\n",
    "### Могут быть использованы следующие поля (а также все остальные) в любых комбинациях:<br> \n",
    "<div style=\"text-align: justify\"><br> 'SECID' - Код ценной бумаги,<br>'SHORTNAME' - Краткое наименование,<br>'NAME' Полное наименование,<br>'FACEVALUE' - Номинальная стоимость,<br>'FACEUNIT' - валюта,<br>'DURATION' - дюрация,<br>'IS_QUALIFIED_INVESTORS' - признак продукта для квалифицированных инвесторов,<br>'HIGH_RISK' - признак уровня риска,<br> 'COUPONFREQUENCY' – число купонов в год,<br>'COUPONDATE' - Дата выплаты купона,<br>'COUPONPERCENT' - Ставка купона, %,<br>\n",
    " 'COUPONVALUE' - Сумма купона, в валюте номинала,<br>'OFFERDATE' - Дата оферты,<br>'EMITENTNAME' – наименование эмитента,<br>\n",
    "'INN' – ИНН эмитента,<br>'PRICE' – текущий % от FACEVALUE,<br>'PRICE_RUB' - котировка</div>\n",
    "\n",
    "### Пояснения:<br> \n",
    "<div style=\"text-align: justify\">\n",
    "1. Для получения текущей даты можно использовать метод datetime.date.today();<br>                                                2. Период расчета доходности рекомендуется выбирать 365 дней с текущей даты; <br>                                                3. Нужно учитывать накопленный купонный доход (НКД) и разницу котировки и номинала ; <br>                                        4. В общем случае процентный доход при ставке НДФЛ 13% будет  Profit =(Цена_Номинальная – Цена_покупки – НКД +<br>   0.87*Купонный_доход_руб*X_лет)* 100%  /(Цена_покупки + НКД) (комиссией брокера пренебрегаем) <br>                                5. Период расчета НКД: df['COUPONDAYSPASSED']/df['COUPONLENGTH'] , рекомендуется  выбирать меньше или равный 0.2.<br>\n",
    "Если удовлетворяет условию, полученная величина умножается на COUPONPERCENT/COUPONFREQUENCY. <br>                 \n",
    "6. Датасет содержит данные, которые нужно преобразовывать в форматы python, а также пустые и искаженные данные, с которыми нужно что-то решить.</div>"
   ]
  },
  {
   "cell_type": "code",
   "execution_count": 59,
   "id": "0c9316c2",
   "metadata": {},
   "outputs": [],
   "source": [
    "import pandas as pd\n",
    "import requests\n",
    "from datetime import datetime, date, timedelta\n",
    "import io\n",
    "import numpy as np\n",
    "from sklearn.cluster import KMeans\n",
    "import matplotlib.pyplot as plt\n",
    "%matplotlib inline\n",
    "import matplotlib.ticker as ticker\n",
    "from bs4 import BeautifulSoup\n",
    "import re"
   ]
  },
  {
   "cell_type": "code",
   "execution_count": 60,
   "id": "2ccda217",
   "metadata": {},
   "outputs": [],
   "source": [
    "bond_url = f'https://iss.moex.com/iss/apps/infogrid/emission/rates.csv?iss.dp=comma&iss.df=%25d.%25m.%25Y&iss.tf=%25H:%25M:%25S&iss.dtf=%25d.%25m.%25Y%25H:%25M:%25S&iss.only=rates&limit=unlimited&lang=ru'"
   ]
  },
  {
   "cell_type": "code",
   "execution_count": 61,
   "id": "88d4145b",
   "metadata": {},
   "outputs": [],
   "source": [
    "s = requests.get(bond_url).content"
   ]
  },
  {
   "cell_type": "code",
   "execution_count": 62,
   "id": "ccd5cc22",
   "metadata": {},
   "outputs": [],
   "source": [
    "bond = pd.read_csv(io.StringIO(s.decode('cp1251')), sep=';', header=1)"
   ]
  },
  {
   "cell_type": "code",
   "execution_count": 63,
   "id": "35e32a97",
   "metadata": {},
   "outputs": [
    {
     "data": {
      "text/html": [
       "<div>\n",
       "<style scoped>\n",
       "    .dataframe tbody tr th:only-of-type {\n",
       "        vertical-align: middle;\n",
       "    }\n",
       "\n",
       "    .dataframe tbody tr th {\n",
       "        vertical-align: top;\n",
       "    }\n",
       "\n",
       "    .dataframe thead th {\n",
       "        text-align: right;\n",
       "    }\n",
       "</style>\n",
       "<table border=\"1\" class=\"dataframe\">\n",
       "  <thead>\n",
       "    <tr style=\"text-align: right;\">\n",
       "      <th></th>\n",
       "      <th>LISTLEVEL</th>\n",
       "      <th>ISSUESIZE</th>\n",
       "      <th>IS_COLLATERAL</th>\n",
       "      <th>IS_EXTERNAL</th>\n",
       "      <th>DURATION</th>\n",
       "      <th>EVENINGSESSION</th>\n",
       "      <th>IS_QUALIFIED_INVESTORS</th>\n",
       "      <th>HIGH_RISK</th>\n",
       "      <th>COUPONFREQUENCY</th>\n",
       "      <th>COUPONDAYSPASSED</th>\n",
       "      <th>COUPONDAYSREMAIN</th>\n",
       "      <th>COUPONLENGTH</th>\n",
       "      <th>DAYSTOREDEMPTION</th>\n",
       "      <th>INN</th>\n",
       "      <th>LOTSIZE</th>\n",
       "      <th>LIMIT1</th>\n",
       "      <th>LIMIT2</th>\n",
       "    </tr>\n",
       "  </thead>\n",
       "  <tbody>\n",
       "    <tr>\n",
       "      <th>count</th>\n",
       "      <td>2436.000000</td>\n",
       "      <td>2.676000e+03</td>\n",
       "      <td>2695.000000</td>\n",
       "      <td>2695.000000</td>\n",
       "      <td>1852.000000</td>\n",
       "      <td>2695.000000</td>\n",
       "      <td>2695.000000</td>\n",
       "      <td>2695.000000</td>\n",
       "      <td>2321.000000</td>\n",
       "      <td>2684.000000</td>\n",
       "      <td>2684.000000</td>\n",
       "      <td>2684.000000</td>\n",
       "      <td>2647.000000</td>\n",
       "      <td>2.544000e+03</td>\n",
       "      <td>2695.000000</td>\n",
       "      <td>8.780000e+02</td>\n",
       "      <td>8.780000e+02</td>\n",
       "    </tr>\n",
       "    <tr>\n",
       "      <th>mean</th>\n",
       "      <td>2.382594</td>\n",
       "      <td>3.226207e+08</td>\n",
       "      <td>0.141002</td>\n",
       "      <td>0.155844</td>\n",
       "      <td>844.654428</td>\n",
       "      <td>0.130241</td>\n",
       "      <td>0.184787</td>\n",
       "      <td>0.062338</td>\n",
       "      <td>3.051271</td>\n",
       "      <td>147.342027</td>\n",
       "      <td>225.896423</td>\n",
       "      <td>373.238450</td>\n",
       "      <td>1655.880620</td>\n",
       "      <td>6.080250e+09</td>\n",
       "      <td>1.447495</td>\n",
       "      <td>3.350430e+05</td>\n",
       "      <td>1.674611e+06</td>\n",
       "    </tr>\n",
       "    <tr>\n",
       "      <th>std</th>\n",
       "      <td>0.848098</td>\n",
       "      <td>4.167629e+09</td>\n",
       "      <td>0.348088</td>\n",
       "      <td>0.362775</td>\n",
       "      <td>682.188855</td>\n",
       "      <td>0.336631</td>\n",
       "      <td>0.388196</td>\n",
       "      <td>0.241813</td>\n",
       "      <td>2.296821</td>\n",
       "      <td>234.280267</td>\n",
       "      <td>468.546407</td>\n",
       "      <td>614.054772</td>\n",
       "      <td>1934.736987</td>\n",
       "      <td>2.940566e+09</td>\n",
       "      <td>19.430881</td>\n",
       "      <td>8.351049e+05</td>\n",
       "      <td>4.175706e+06</td>\n",
       "    </tr>\n",
       "    <tr>\n",
       "      <th>min</th>\n",
       "      <td>1.000000</td>\n",
       "      <td>1.000000e+00</td>\n",
       "      <td>0.000000</td>\n",
       "      <td>0.000000</td>\n",
       "      <td>0.000000</td>\n",
       "      <td>0.000000</td>\n",
       "      <td>0.000000</td>\n",
       "      <td>0.000000</td>\n",
       "      <td>1.000000</td>\n",
       "      <td>-4.000000</td>\n",
       "      <td>1.000000</td>\n",
       "      <td>21.000000</td>\n",
       "      <td>1.000000</td>\n",
       "      <td>4.550000e+02</td>\n",
       "      <td>1.000000</td>\n",
       "      <td>1.700000e+01</td>\n",
       "      <td>8.500000e+01</td>\n",
       "    </tr>\n",
       "    <tr>\n",
       "      <th>25%</th>\n",
       "      <td>2.000000</td>\n",
       "      <td>3.232918e+05</td>\n",
       "      <td>0.000000</td>\n",
       "      <td>0.000000</td>\n",
       "      <td>359.750000</td>\n",
       "      <td>0.000000</td>\n",
       "      <td>0.000000</td>\n",
       "      <td>0.000000</td>\n",
       "      <td>2.000000</td>\n",
       "      <td>32.000000</td>\n",
       "      <td>37.000000</td>\n",
       "      <td>91.000000</td>\n",
       "      <td>596.000000</td>\n",
       "      <td>5.405830e+09</td>\n",
       "      <td>1.000000</td>\n",
       "      <td>1.000000e+05</td>\n",
       "      <td>5.000000e+05</td>\n",
       "    </tr>\n",
       "    <tr>\n",
       "      <th>50%</th>\n",
       "      <td>3.000000</td>\n",
       "      <td>2.459051e+06</td>\n",
       "      <td>0.000000</td>\n",
       "      <td>0.000000</td>\n",
       "      <td>723.500000</td>\n",
       "      <td>0.000000</td>\n",
       "      <td>0.000000</td>\n",
       "      <td>0.000000</td>\n",
       "      <td>2.000000</td>\n",
       "      <td>76.000000</td>\n",
       "      <td>72.000000</td>\n",
       "      <td>182.000000</td>\n",
       "      <td>1130.000000</td>\n",
       "      <td>7.707084e+09</td>\n",
       "      <td>1.000000</td>\n",
       "      <td>2.000000e+05</td>\n",
       "      <td>1.000000e+06</td>\n",
       "    </tr>\n",
       "    <tr>\n",
       "      <th>75%</th>\n",
       "      <td>3.000000</td>\n",
       "      <td>1.000000e+07</td>\n",
       "      <td>0.000000</td>\n",
       "      <td>0.000000</td>\n",
       "      <td>1127.250000</td>\n",
       "      <td>0.000000</td>\n",
       "      <td>0.000000</td>\n",
       "      <td>0.000000</td>\n",
       "      <td>4.000000</td>\n",
       "      <td>146.000000</td>\n",
       "      <td>153.250000</td>\n",
       "      <td>183.000000</td>\n",
       "      <td>1872.000000</td>\n",
       "      <td>7.718950e+09</td>\n",
       "      <td>1.000000</td>\n",
       "      <td>3.000000e+05</td>\n",
       "      <td>1.500000e+06</td>\n",
       "    </tr>\n",
       "    <tr>\n",
       "      <th>max</th>\n",
       "      <td>3.000000</td>\n",
       "      <td>9.649987e+10</td>\n",
       "      <td>1.000000</td>\n",
       "      <td>1.000000</td>\n",
       "      <td>5635.000000</td>\n",
       "      <td>1.000000</td>\n",
       "      <td>1.000000</td>\n",
       "      <td>1.000000</td>\n",
       "      <td>12.000000</td>\n",
       "      <td>4554.000000</td>\n",
       "      <td>5336.000000</td>\n",
       "      <td>7304.000000</td>\n",
       "      <td>32574.000000</td>\n",
       "      <td>9.909570e+09</td>\n",
       "      <td>1000.000000</td>\n",
       "      <td>1.200000e+07</td>\n",
       "      <td>6.000000e+07</td>\n",
       "    </tr>\n",
       "  </tbody>\n",
       "</table>\n",
       "</div>"
      ],
      "text/plain": [
       "         LISTLEVEL     ISSUESIZE  IS_COLLATERAL  IS_EXTERNAL     DURATION  \\\n",
       "count  2436.000000  2.676000e+03    2695.000000  2695.000000  1852.000000   \n",
       "mean      2.382594  3.226207e+08       0.141002     0.155844   844.654428   \n",
       "std       0.848098  4.167629e+09       0.348088     0.362775   682.188855   \n",
       "min       1.000000  1.000000e+00       0.000000     0.000000     0.000000   \n",
       "25%       2.000000  3.232918e+05       0.000000     0.000000   359.750000   \n",
       "50%       3.000000  2.459051e+06       0.000000     0.000000   723.500000   \n",
       "75%       3.000000  1.000000e+07       0.000000     0.000000  1127.250000   \n",
       "max       3.000000  9.649987e+10       1.000000     1.000000  5635.000000   \n",
       "\n",
       "       EVENINGSESSION  IS_QUALIFIED_INVESTORS    HIGH_RISK  COUPONFREQUENCY  \\\n",
       "count     2695.000000             2695.000000  2695.000000      2321.000000   \n",
       "mean         0.130241                0.184787     0.062338         3.051271   \n",
       "std          0.336631                0.388196     0.241813         2.296821   \n",
       "min          0.000000                0.000000     0.000000         1.000000   \n",
       "25%          0.000000                0.000000     0.000000         2.000000   \n",
       "50%          0.000000                0.000000     0.000000         2.000000   \n",
       "75%          0.000000                0.000000     0.000000         4.000000   \n",
       "max          1.000000                1.000000     1.000000        12.000000   \n",
       "\n",
       "       COUPONDAYSPASSED  COUPONDAYSREMAIN  COUPONLENGTH  DAYSTOREDEMPTION  \\\n",
       "count       2684.000000       2684.000000   2684.000000       2647.000000   \n",
       "mean         147.342027        225.896423    373.238450       1655.880620   \n",
       "std          234.280267        468.546407    614.054772       1934.736987   \n",
       "min           -4.000000          1.000000     21.000000          1.000000   \n",
       "25%           32.000000         37.000000     91.000000        596.000000   \n",
       "50%           76.000000         72.000000    182.000000       1130.000000   \n",
       "75%          146.000000        153.250000    183.000000       1872.000000   \n",
       "max         4554.000000       5336.000000   7304.000000      32574.000000   \n",
       "\n",
       "                INN      LOTSIZE        LIMIT1        LIMIT2  \n",
       "count  2.544000e+03  2695.000000  8.780000e+02  8.780000e+02  \n",
       "mean   6.080250e+09     1.447495  3.350430e+05  1.674611e+06  \n",
       "std    2.940566e+09    19.430881  8.351049e+05  4.175706e+06  \n",
       "min    4.550000e+02     1.000000  1.700000e+01  8.500000e+01  \n",
       "25%    5.405830e+09     1.000000  1.000000e+05  5.000000e+05  \n",
       "50%    7.707084e+09     1.000000  2.000000e+05  1.000000e+06  \n",
       "75%    7.718950e+09     1.000000  3.000000e+05  1.500000e+06  \n",
       "max    9.909570e+09  1000.000000  1.200000e+07  6.000000e+07  "
      ]
     },
     "execution_count": 63,
     "metadata": {},
     "output_type": "execute_result"
    }
   ],
   "source": [
    "bond.describe()"
   ]
  },
  {
   "cell_type": "code",
   "execution_count": 64,
   "id": "26ceb597",
   "metadata": {},
   "outputs": [
    {
     "data": {
      "text/plain": [
       "SECID                      object\n",
       "SHORTNAME                  object\n",
       "NAME                       object\n",
       "TYPENAME                   object\n",
       "ISIN                       object\n",
       "REGNUMBER                  object\n",
       "LISTLEVEL                 float64\n",
       "FACEVALUE                  object\n",
       "FACEUNIT                   object\n",
       "ISSUESIZE                 float64\n",
       "IS_COLLATERAL               int64\n",
       "IS_EXTERNAL                 int64\n",
       "PRIMARY_BOARDID            object\n",
       "PRIMARY_BOARD_TITLE        object\n",
       "MATDATE                    object\n",
       "IS_RII                     object\n",
       "DURATION                  float64\n",
       "ISSUEDATE                  object\n",
       "EVENINGSESSION              int64\n",
       "IS_QUALIFIED_INVESTORS      int64\n",
       "HIGH_RISK                   int64\n",
       "COUPONFREQUENCY           float64\n",
       "YIELDATWAP                 object\n",
       "COUPONDATE                 object\n",
       "COUPONPERCENT              object\n",
       "COUPONVALUE                object\n",
       "COUPONDAYSPASSED          float64\n",
       "COUPONDAYSREMAIN          float64\n",
       "COUPONLENGTH              float64\n",
       "ISSUEDATE.1                object\n",
       "INITIALFACEVALUE           object\n",
       "SECSUBTYPE                 object\n",
       "STARTDATEMOEX              object\n",
       "DAYSTOREDEMPTION          float64\n",
       "OFFERDATE                  object\n",
       "EMITENTNAME                object\n",
       "INN                       float64\n",
       "LOTSIZE                     int64\n",
       "PRICE                      object\n",
       "PRICE_RUB                  object\n",
       "RTL1                       object\n",
       "RTH1                       object\n",
       "RTL2                       object\n",
       "RTH2                       object\n",
       "RTL3                       object\n",
       "RTH3                       object\n",
       "DISCOUNT1                  object\n",
       "LIMIT1                    float64\n",
       "DISCOUNT2                  object\n",
       "LIMIT2                    float64\n",
       "DISCOUNT3                  object\n",
       "DISCOUNTL0                 object\n",
       "DISCOUNTH0                 object\n",
       "dtype: object"
      ]
     },
     "execution_count": 64,
     "metadata": {},
     "output_type": "execute_result"
    }
   ],
   "source": [
    "bond.dtypes"
   ]
  },
  {
   "cell_type": "code",
   "execution_count": 65,
   "id": "64dfb838",
   "metadata": {},
   "outputs": [
    {
     "data": {
      "text/plain": [
       "(2695, 53)"
      ]
     },
     "execution_count": 65,
     "metadata": {},
     "output_type": "execute_result"
    }
   ],
   "source": [
    "bond.shape"
   ]
  },
  {
   "cell_type": "markdown",
   "id": "26a1cd82",
   "metadata": {},
   "source": [
    "#### Оставляем только рублевые облигации\n"
   ]
  },
  {
   "cell_type": "code",
   "execution_count": 66,
   "id": "0b043083",
   "metadata": {},
   "outputs": [],
   "source": [
    "bond_rub = bond.drop(bond[bond['FACEUNIT']!='RUB'].index  )                             "
   ]
  },
  {
   "cell_type": "markdown",
   "id": "c5b06209",
   "metadata": {},
   "source": [
    "#### Определяем поля, содержащие Nan"
   ]
  },
  {
   "cell_type": "code",
   "execution_count": 67,
   "id": "2c668527",
   "metadata": {},
   "outputs": [
    {
     "data": {
      "text/plain": [
       "SECID                        0\n",
       "SHORTNAME                    0\n",
       "NAME                         0\n",
       "TYPENAME                     0\n",
       "ISIN                         0\n",
       "REGNUMBER                   80\n",
       "LISTLEVEL                  156\n",
       "FACEVALUE                    0\n",
       "FACEUNIT                     0\n",
       "ISSUESIZE                   18\n",
       "IS_COLLATERAL                0\n",
       "IS_EXTERNAL                  0\n",
       "PRIMARY_BOARDID              0\n",
       "PRIMARY_BOARD_TITLE          0\n",
       "MATDATE                     28\n",
       "IS_RII                    2300\n",
       "DURATION                   653\n",
       "ISSUEDATE                  141\n",
       "EVENINGSESSION               0\n",
       "IS_QUALIFIED_INVESTORS       0\n",
       "HIGH_RISK                    0\n",
       "COUPONFREQUENCY            354\n",
       "YIELDATWAP                1160\n",
       "COUPONDATE                   5\n",
       "COUPONPERCENT               50\n",
       "COUPONVALUE                 54\n",
       "COUPONDAYSPASSED             5\n",
       "COUPONDAYSREMAIN             5\n",
       "COUPONLENGTH                 5\n",
       "ISSUEDATE.1                141\n",
       "INITIALFACEVALUE             0\n",
       "SECSUBTYPE                2209\n",
       "STARTDATEMOEX              188\n",
       "DAYSTOREDEMPTION            28\n",
       "OFFERDATE                 1808\n",
       "EMITENTNAME                141\n",
       "INN                        141\n",
       "LOTSIZE                      0\n",
       "PRICE                      154\n",
       "PRICE_RUB                  154\n",
       "RTL1                      1602\n",
       "RTH1                       154\n",
       "RTL2                      1602\n",
       "RTH2                       154\n",
       "RTL3                      1657\n",
       "RTH3                       154\n",
       "DISCOUNT1                    0\n",
       "LIMIT1                    1602\n",
       "DISCOUNT2                 1602\n",
       "LIMIT2                    1602\n",
       "DISCOUNT3                 1602\n",
       "DISCOUNTL0                1460\n",
       "DISCOUNTH0                1460\n",
       "dtype: int64"
      ]
     },
     "execution_count": 67,
     "metadata": {},
     "output_type": "execute_result"
    }
   ],
   "source": [
    "bond_rub.isna().sum()"
   ]
  },
  {
   "cell_type": "markdown",
   "id": "4f0cc0cf",
   "metadata": {},
   "source": [
    "#### Количество \"пустых\" записей очень большое.Удалять все Nan из датафрейма не будем, чтобы не снижать объем выборки. В случае очистки bond_rub.dropna() в датасете останется ~ 20% записей от первоначального значения.\n",
    "#### Удалять Nan будем только из полей, которые используются в расчетах."
   ]
  },
  {
   "cell_type": "markdown",
   "id": "7b388056",
   "metadata": {},
   "source": [
    "#### Определяем количество записей в полях, необходимых для расчетов показателя Доходность, содержащих Nan"
   ]
  },
  {
   "cell_type": "code",
   "execution_count": 68,
   "id": "0c4161fc",
   "metadata": {},
   "outputs": [
    {
     "data": {
      "text/plain": [
       "COUPONPERCENT        50\n",
       "COUPONFREQUENCY     354\n",
       "COUPONLENGTH          5\n",
       "COUPONDAYSPASSED      5\n",
       "COUPONLENGTH          5\n",
       "dtype: int64"
      ]
     },
     "execution_count": 68,
     "metadata": {},
     "output_type": "execute_result"
    }
   ],
   "source": [
    "bond_rub[['COUPONPERCENT','COUPONFREQUENCY','COUPONLENGTH','COUPONDAYSPASSED', 'COUPONLENGTH']].isna().sum()"
   ]
  },
  {
   "cell_type": "markdown",
   "id": "92a7f86c",
   "metadata": {},
   "source": [
    "#### Выводим список наименований организаций, по которым в расчетных полях содержатся Nan. От данных записей будем очищать датафрейм, т.к. нет возможности достоверно заменить Nan на реальные значения"
   ]
  },
  {
   "cell_type": "code",
   "execution_count": 69,
   "id": "2eb6c875",
   "metadata": {},
   "outputs": [
    {
     "data": {
      "text/plain": [
       "14        \"НПФ\" ООО об.сер. 01\n",
       "23      Волга-Спорт АО обл. 01\n",
       "25         Uranium One Inc. 01\n",
       "138        Финстоун ООО об. 01\n",
       "152     Арчер Финанс ООО об.01\n",
       "                 ...          \n",
       "2662     BCS SP Plc Series 170\n",
       "2672     BCS SP Plc Series 189\n",
       "2675     BCS SP Plc Series 194\n",
       "2686     BCS SP Plc Series 208\n",
       "2692     BCS SP Plc Series 215\n",
       "Name: NAME, Length: 533, dtype: object"
      ]
     },
     "execution_count": 69,
     "metadata": {},
     "output_type": "execute_result"
    }
   ],
   "source": [
    "bond_rub['NAME'][pd.isnull(bond_rub['PRICE']) | pd.isnull(bond_rub['COUPONVALUE']) | pd.isnull(bond_rub['COUPONLENGTH']) | pd.isnull(bond_rub['COUPONPERCENT']) | pd.isnull(bond_rub['COUPONFREQUENCY'])]"
   ]
  },
  {
   "cell_type": "markdown",
   "id": "e8dad27a",
   "metadata": {},
   "source": [
    "#### Оставляем строки, не содержащие Nan в полях, которые будут использоваться в расчетах Доходности далее. "
   ]
  },
  {
   "cell_type": "code",
   "execution_count": 70,
   "id": "92e703cc",
   "metadata": {},
   "outputs": [],
   "source": [
    "bond_rub = bond_rub.dropna(subset = ['COUPONLENGTH', 'COUPONPERCENT', 'COUPONFREQUENCY','PRICE', 'COUPONVALUE'])\n",
    "bond_rub = bond_rub.reset_index(drop=True)"
   ]
  },
  {
   "cell_type": "markdown",
   "id": "b81a71d8",
   "metadata": {},
   "source": [
    "#### Количество записей в датафрейме, которые будем использовать для анализа"
   ]
  },
  {
   "cell_type": "code",
   "execution_count": 71,
   "id": "db311d6a",
   "metadata": {},
   "outputs": [
    {
     "data": {
      "text/plain": [
       "(1785, 53)"
      ]
     },
     "execution_count": 71,
     "metadata": {},
     "output_type": "execute_result"
    }
   ],
   "source": [
    "bond_rub.shape"
   ]
  },
  {
   "cell_type": "markdown",
   "id": "a7dcfe81",
   "metadata": {},
   "source": [
    "#### Проводим расчет накопленного купонного дохода NKD"
   ]
  },
  {
   "cell_type": "code",
   "execution_count": 72,
   "id": "3094747d",
   "metadata": {},
   "outputs": [],
   "source": [
    "bond_rub['NKD'] = bond_rub['COUPONDAYSPASSED']/bond_rub['COUPONLENGTH']"
   ]
  },
  {
   "cell_type": "code",
   "execution_count": 73,
   "id": "281a0ea9",
   "metadata": {},
   "outputs": [
    {
     "data": {
      "text/html": [
       "<div>\n",
       "<style scoped>\n",
       "    .dataframe tbody tr th:only-of-type {\n",
       "        vertical-align: middle;\n",
       "    }\n",
       "\n",
       "    .dataframe tbody tr th {\n",
       "        vertical-align: top;\n",
       "    }\n",
       "\n",
       "    .dataframe thead th {\n",
       "        text-align: right;\n",
       "    }\n",
       "</style>\n",
       "<table border=\"1\" class=\"dataframe\">\n",
       "  <thead>\n",
       "    <tr style=\"text-align: right;\">\n",
       "      <th></th>\n",
       "      <th>NKD</th>\n",
       "      <th>COUPONDAYSPASSED</th>\n",
       "      <th>COUPONLENGTH</th>\n",
       "    </tr>\n",
       "  </thead>\n",
       "  <tbody>\n",
       "    <tr>\n",
       "      <th>0</th>\n",
       "      <td>0.743169</td>\n",
       "      <td>136.0</td>\n",
       "      <td>183.0</td>\n",
       "    </tr>\n",
       "    <tr>\n",
       "      <th>1</th>\n",
       "      <td>0.576923</td>\n",
       "      <td>105.0</td>\n",
       "      <td>182.0</td>\n",
       "    </tr>\n",
       "    <tr>\n",
       "      <th>2</th>\n",
       "      <td>0.885870</td>\n",
       "      <td>163.0</td>\n",
       "      <td>184.0</td>\n",
       "    </tr>\n",
       "    <tr>\n",
       "      <th>3</th>\n",
       "      <td>0.220994</td>\n",
       "      <td>40.0</td>\n",
       "      <td>181.0</td>\n",
       "    </tr>\n",
       "    <tr>\n",
       "      <th>4</th>\n",
       "      <td>0.521978</td>\n",
       "      <td>95.0</td>\n",
       "      <td>182.0</td>\n",
       "    </tr>\n",
       "  </tbody>\n",
       "</table>\n",
       "</div>"
      ],
      "text/plain": [
       "        NKD  COUPONDAYSPASSED  COUPONLENGTH\n",
       "0  0.743169             136.0         183.0\n",
       "1  0.576923             105.0         182.0\n",
       "2  0.885870             163.0         184.0\n",
       "3  0.220994              40.0         181.0\n",
       "4  0.521978              95.0         182.0"
      ]
     },
     "execution_count": 73,
     "metadata": {},
     "output_type": "execute_result"
    }
   ],
   "source": [
    "bond_rub[['NKD','COUPONDAYSPASSED','COUPONLENGTH']].head()"
   ]
  },
  {
   "cell_type": "markdown",
   "id": "08d6d6ed",
   "metadata": {},
   "source": [
    "#### Очистка полей, необходимых для расчетов показателя Доходности от \"мусорных\" символов, оставляем только цифры и точку"
   ]
  },
  {
   "cell_type": "code",
   "execution_count": 74,
   "id": "b37e1837",
   "metadata": {},
   "outputs": [],
   "source": [
    "list = ['PRICE_RUB','PRICE','FACEVALUE','COUPONPERCENT','COUPONVALUE']\n",
    "for i in list:\n",
    "    bond_rub[i].replace(regex=True, inplace=True, to_replace=r'[^0-9,\\.\\-]',value=r'')\n",
    "    bond_rub[i] = bond_rub[i].str.replace(',', '.').astype(float)"
   ]
  },
  {
   "cell_type": "markdown",
   "id": "558f3946",
   "metadata": {},
   "source": [
    "#### Проводим расчет накопленного купонного дохода исходя из следующих рекомендаций\n",
    "Период расчета НКД: df['COUPONDAYSPASSED']/df['COUPONLENGTH'] , рекомендуется выбирать меньше или равный 0.2.\n",
    "Если удовлетворяет условию, полученная величина умножается на COUPONPERCENT/COUPONFREQUENCY.\n"
   ]
  },
  {
   "cell_type": "code",
   "execution_count": 75,
   "id": "e120c77d",
   "metadata": {},
   "outputs": [],
   "source": [
    "bond_rub['COUPON_K']=bond_rub['COUPONPERCENT']/bond_rub['COUPONFREQUENCY']"
   ]
  },
  {
   "cell_type": "code",
   "execution_count": 76,
   "id": "63683080",
   "metadata": {},
   "outputs": [],
   "source": [
    "bond_rub['NKD_02']=np.where(bond_rub['NKD']<= 0.2,bond_rub['NKD']*bond_rub['COUPON_K'],bond_rub['NKD'])"
   ]
  },
  {
   "cell_type": "markdown",
   "id": "318367b7",
   "metadata": {},
   "source": [
    "#### Проводим расчет Доходности исходя из следующих условий \n",
    "В общем случае процентный доход при ставке НДФЛ 13% будет:\n",
    "Profit =(Цена_Номинальная – Цена_покупки – НКД + 0.87*Купонный_доход_руб*X_лет)*100% /(Цена_покупки + НКД)\n",
    "(комиссией брокера пренебрегаем)"
   ]
  },
  {
   "cell_type": "markdown",
   "id": "e6acbdb0",
   "metadata": {},
   "source": [
    "#### Расчет Купонный доход в рублях"
   ]
  },
  {
   "cell_type": "code",
   "execution_count": 77,
   "id": "78fca787",
   "metadata": {},
   "outputs": [],
   "source": [
    "bond_rub['COUPONE_GANE']=(bond_rub['COUPONPERCENT']*bond_rub['FACEVALUE'])/100"
   ]
  },
  {
   "cell_type": "markdown",
   "id": "c1a7b4ab",
   "metadata": {},
   "source": [
    "#### Расчет НКД в рублях "
   ]
  },
  {
   "cell_type": "code",
   "execution_count": 78,
   "id": "97979cdd",
   "metadata": {},
   "outputs": [],
   "source": [
    "bond_rub['NKD_RUB']=(bond_rub['NKD_02']*bond_rub['FACEVALUE'])/100"
   ]
  },
  {
   "cell_type": "markdown",
   "id": "b735add0",
   "metadata": {},
   "source": [
    "#### Расчет дополнительного показателя  Прибыль/убыток  в рублях , исключаем влияние котировки на доходность по ценным бумагам, по которым цена продажи меньше номинала."
   ]
  },
  {
   "cell_type": "code",
   "execution_count": 79,
   "id": "d1698652",
   "metadata": {},
   "outputs": [],
   "source": [
    "bond_rub['PROFIT_LOSS']=np.where(bond_rub['PRICE_RUB'] > bond_rub['FACEVALUE'], bond_rub['FACEVALUE'] - bond_rub['PRICE_RUB'] - bond_rub['NKD_RUB'], 0 - bond_rub['NKD_RUB'])"
   ]
  },
  {
   "cell_type": "code",
   "execution_count": 80,
   "id": "26ea2fe5",
   "metadata": {},
   "outputs": [
    {
     "data": {
      "text/html": [
       "<div>\n",
       "<style scoped>\n",
       "    .dataframe tbody tr th:only-of-type {\n",
       "        vertical-align: middle;\n",
       "    }\n",
       "\n",
       "    .dataframe tbody tr th {\n",
       "        vertical-align: top;\n",
       "    }\n",
       "\n",
       "    .dataframe thead th {\n",
       "        text-align: right;\n",
       "    }\n",
       "</style>\n",
       "<table border=\"1\" class=\"dataframe\">\n",
       "  <thead>\n",
       "    <tr style=\"text-align: right;\">\n",
       "      <th></th>\n",
       "      <th>PROFIT_LOSS</th>\n",
       "      <th>PRICE_RUB</th>\n",
       "      <th>FACEVALUE</th>\n",
       "      <th>NKD_RUB</th>\n",
       "    </tr>\n",
       "  </thead>\n",
       "  <tbody>\n",
       "    <tr>\n",
       "      <th>0</th>\n",
       "      <td>-23.151694</td>\n",
       "      <td>1015.72</td>\n",
       "      <td>1000.0</td>\n",
       "      <td>7.431694</td>\n",
       "    </tr>\n",
       "    <tr>\n",
       "      <th>1</th>\n",
       "      <td>-26.069231</td>\n",
       "      <td>1020.30</td>\n",
       "      <td>1000.0</td>\n",
       "      <td>5.769231</td>\n",
       "    </tr>\n",
       "    <tr>\n",
       "      <th>2</th>\n",
       "      <td>-81.858696</td>\n",
       "      <td>1073.00</td>\n",
       "      <td>1000.0</td>\n",
       "      <td>8.858696</td>\n",
       "    </tr>\n",
       "    <tr>\n",
       "      <th>3</th>\n",
       "      <td>-132.999945</td>\n",
       "      <td>1130.79</td>\n",
       "      <td>1000.0</td>\n",
       "      <td>2.209945</td>\n",
       "    </tr>\n",
       "    <tr>\n",
       "      <th>4</th>\n",
       "      <td>-22.969780</td>\n",
       "      <td>1017.75</td>\n",
       "      <td>1000.0</td>\n",
       "      <td>5.219780</td>\n",
       "    </tr>\n",
       "  </tbody>\n",
       "</table>\n",
       "</div>"
      ],
      "text/plain": [
       "   PROFIT_LOSS  PRICE_RUB  FACEVALUE   NKD_RUB\n",
       "0   -23.151694    1015.72     1000.0  7.431694\n",
       "1   -26.069231    1020.30     1000.0  5.769231\n",
       "2   -81.858696    1073.00     1000.0  8.858696\n",
       "3  -132.999945    1130.79     1000.0  2.209945\n",
       "4   -22.969780    1017.75     1000.0  5.219780"
      ]
     },
     "execution_count": 80,
     "metadata": {},
     "output_type": "execute_result"
    }
   ],
   "source": [
    "bond_rub[['PROFIT_LOSS','PRICE_RUB','FACEVALUE','NKD_RUB']].head()"
   ]
  },
  {
   "cell_type": "markdown",
   "id": "47736e25",
   "metadata": {},
   "source": [
    "#### Расчет купонного дохода с уплатой 13% НДФЛ в рублях"
   ]
  },
  {
   "cell_type": "code",
   "execution_count": 81,
   "id": "85881fe7",
   "metadata": {},
   "outputs": [],
   "source": [
    "bond_rub['COUPONE_GANE_NDFL'] = bond_rub['COUPONE_GANE'] * 0.87"
   ]
  },
  {
   "cell_type": "code",
   "execution_count": 82,
   "id": "0ecabcfc",
   "metadata": {},
   "outputs": [
    {
     "data": {
      "text/html": [
       "<div>\n",
       "<style scoped>\n",
       "    .dataframe tbody tr th:only-of-type {\n",
       "        vertical-align: middle;\n",
       "    }\n",
       "\n",
       "    .dataframe tbody tr th {\n",
       "        vertical-align: top;\n",
       "    }\n",
       "\n",
       "    .dataframe thead th {\n",
       "        text-align: right;\n",
       "    }\n",
       "</style>\n",
       "<table border=\"1\" class=\"dataframe\">\n",
       "  <thead>\n",
       "    <tr style=\"text-align: right;\">\n",
       "      <th></th>\n",
       "      <th>FACEVALUE</th>\n",
       "      <th>PRICE</th>\n",
       "      <th>PRICE_RUB</th>\n",
       "      <th>NKD_02</th>\n",
       "      <th>NKD_RUB</th>\n",
       "      <th>PROFIT_LOSS</th>\n",
       "      <th>COUPONPERCENT</th>\n",
       "      <th>COUPONE_GANE</th>\n",
       "      <th>COUPONE_GANE_NDFL</th>\n",
       "    </tr>\n",
       "  </thead>\n",
       "  <tbody>\n",
       "    <tr>\n",
       "      <th>0</th>\n",
       "      <td>1000.0</td>\n",
       "      <td>99.32</td>\n",
       "      <td>1015.72</td>\n",
       "      <td>0.743169</td>\n",
       "      <td>7.431694</td>\n",
       "      <td>-23.151694</td>\n",
       "      <td>6.00</td>\n",
       "      <td>60.0</td>\n",
       "      <td>52.200</td>\n",
       "    </tr>\n",
       "    <tr>\n",
       "      <th>1</th>\n",
       "      <td>1000.0</td>\n",
       "      <td>99.75</td>\n",
       "      <td>1020.30</td>\n",
       "      <td>0.576923</td>\n",
       "      <td>5.769231</td>\n",
       "      <td>-26.069231</td>\n",
       "      <td>7.85</td>\n",
       "      <td>78.5</td>\n",
       "      <td>68.295</td>\n",
       "    </tr>\n",
       "    <tr>\n",
       "      <th>2</th>\n",
       "      <td>1000.0</td>\n",
       "      <td>103.93</td>\n",
       "      <td>1073.00</td>\n",
       "      <td>0.885870</td>\n",
       "      <td>8.858696</td>\n",
       "      <td>-81.858696</td>\n",
       "      <td>7.50</td>\n",
       "      <td>75.0</td>\n",
       "      <td>65.250</td>\n",
       "    </tr>\n",
       "    <tr>\n",
       "      <th>3</th>\n",
       "      <td>1000.0</td>\n",
       "      <td>112.04</td>\n",
       "      <td>1130.79</td>\n",
       "      <td>0.220994</td>\n",
       "      <td>2.209945</td>\n",
       "      <td>-132.999945</td>\n",
       "      <td>9.25</td>\n",
       "      <td>92.5</td>\n",
       "      <td>80.475</td>\n",
       "    </tr>\n",
       "    <tr>\n",
       "      <th>4</th>\n",
       "      <td>1000.0</td>\n",
       "      <td>99.71</td>\n",
       "      <td>1017.75</td>\n",
       "      <td>0.521978</td>\n",
       "      <td>5.219780</td>\n",
       "      <td>-22.969780</td>\n",
       "      <td>7.85</td>\n",
       "      <td>78.5</td>\n",
       "      <td>68.295</td>\n",
       "    </tr>\n",
       "  </tbody>\n",
       "</table>\n",
       "</div>"
      ],
      "text/plain": [
       "   FACEVALUE   PRICE  PRICE_RUB    NKD_02   NKD_RUB  PROFIT_LOSS  \\\n",
       "0     1000.0   99.32    1015.72  0.743169  7.431694   -23.151694   \n",
       "1     1000.0   99.75    1020.30  0.576923  5.769231   -26.069231   \n",
       "2     1000.0  103.93    1073.00  0.885870  8.858696   -81.858696   \n",
       "3     1000.0  112.04    1130.79  0.220994  2.209945  -132.999945   \n",
       "4     1000.0   99.71    1017.75  0.521978  5.219780   -22.969780   \n",
       "\n",
       "   COUPONPERCENT  COUPONE_GANE  COUPONE_GANE_NDFL  \n",
       "0           6.00          60.0             52.200  \n",
       "1           7.85          78.5             68.295  \n",
       "2           7.50          75.0             65.250  \n",
       "3           9.25          92.5             80.475  \n",
       "4           7.85          78.5             68.295  "
      ]
     },
     "execution_count": 82,
     "metadata": {},
     "output_type": "execute_result"
    }
   ],
   "source": [
    "bond_rub[['FACEVALUE','PRICE','PRICE_RUB','NKD_02','NKD_RUB','PROFIT_LOSS','COUPONPERCENT','COUPONE_GANE','COUPONE_GANE_NDFL']].head()"
   ]
  },
  {
   "cell_type": "markdown",
   "id": "60b6fb12",
   "metadata": {},
   "source": [
    "#### Расчет показателя Доходность в рублях"
   ]
  },
  {
   "cell_type": "code",
   "execution_count": 83,
   "id": "339f4311",
   "metadata": {},
   "outputs": [],
   "source": [
    "bond_rub['PROFIT']=np.where(bond_rub['PRICE_RUB'] > bond_rub['FACEVALUE'], (bond_rub['PROFIT_LOSS'] + bond_rub['COUPONE_GANE_NDFL']) * 100 / (bond_rub['PRICE_RUB'] + bond_rub['NKD_RUB'] ), (bond_rub['PROFIT_LOSS'] + bond_rub['COUPONE_GANE_NDFL']) * 100 / (bond_rub['FACEVALUE'] + bond_rub['NKD_RUB'] ))"
   ]
  },
  {
   "cell_type": "code",
   "execution_count": 84,
   "id": "a27fc52d",
   "metadata": {},
   "outputs": [
    {
     "data": {
      "text/html": [
       "<div>\n",
       "<style scoped>\n",
       "    .dataframe tbody tr th:only-of-type {\n",
       "        vertical-align: middle;\n",
       "    }\n",
       "\n",
       "    .dataframe tbody tr th {\n",
       "        vertical-align: top;\n",
       "    }\n",
       "\n",
       "    .dataframe thead th {\n",
       "        text-align: right;\n",
       "    }\n",
       "</style>\n",
       "<table border=\"1\" class=\"dataframe\">\n",
       "  <thead>\n",
       "    <tr style=\"text-align: right;\">\n",
       "      <th></th>\n",
       "      <th>FACEVALUE</th>\n",
       "      <th>PRICE_RUB</th>\n",
       "      <th>NKD_RUB</th>\n",
       "      <th>PROFIT_LOSS</th>\n",
       "      <th>COUPONPERCENT</th>\n",
       "      <th>COUPONE_GANE_NDFL</th>\n",
       "      <th>PROFIT</th>\n",
       "    </tr>\n",
       "  </thead>\n",
       "  <tbody>\n",
       "    <tr>\n",
       "      <th>0</th>\n",
       "      <td>1000.0</td>\n",
       "      <td>1015.72</td>\n",
       "      <td>7.431694</td>\n",
       "      <td>-23.151694</td>\n",
       "      <td>6.00</td>\n",
       "      <td>52.200</td>\n",
       "      <td>2.839101</td>\n",
       "    </tr>\n",
       "    <tr>\n",
       "      <th>1</th>\n",
       "      <td>1000.0</td>\n",
       "      <td>1020.30</td>\n",
       "      <td>5.769231</td>\n",
       "      <td>-26.069231</td>\n",
       "      <td>7.85</td>\n",
       "      <td>68.295</td>\n",
       "      <td>4.115294</td>\n",
       "    </tr>\n",
       "    <tr>\n",
       "      <th>2</th>\n",
       "      <td>1000.0</td>\n",
       "      <td>1073.00</td>\n",
       "      <td>8.858696</td>\n",
       "      <td>-81.858696</td>\n",
       "      <td>7.50</td>\n",
       "      <td>65.250</td>\n",
       "      <td>-1.535200</td>\n",
       "    </tr>\n",
       "    <tr>\n",
       "      <th>3</th>\n",
       "      <td>1000.0</td>\n",
       "      <td>1130.79</td>\n",
       "      <td>2.209945</td>\n",
       "      <td>-132.999945</td>\n",
       "      <td>9.25</td>\n",
       "      <td>80.475</td>\n",
       "      <td>-4.635918</td>\n",
       "    </tr>\n",
       "    <tr>\n",
       "      <th>4</th>\n",
       "      <td>1000.0</td>\n",
       "      <td>1017.75</td>\n",
       "      <td>5.219780</td>\n",
       "      <td>-22.969780</td>\n",
       "      <td>7.85</td>\n",
       "      <td>68.295</td>\n",
       "      <td>4.430749</td>\n",
       "    </tr>\n",
       "  </tbody>\n",
       "</table>\n",
       "</div>"
      ],
      "text/plain": [
       "   FACEVALUE  PRICE_RUB   NKD_RUB  PROFIT_LOSS  COUPONPERCENT  \\\n",
       "0     1000.0    1015.72  7.431694   -23.151694           6.00   \n",
       "1     1000.0    1020.30  5.769231   -26.069231           7.85   \n",
       "2     1000.0    1073.00  8.858696   -81.858696           7.50   \n",
       "3     1000.0    1130.79  2.209945  -132.999945           9.25   \n",
       "4     1000.0    1017.75  5.219780   -22.969780           7.85   \n",
       "\n",
       "   COUPONE_GANE_NDFL    PROFIT  \n",
       "0             52.200  2.839101  \n",
       "1             68.295  4.115294  \n",
       "2             65.250 -1.535200  \n",
       "3             80.475 -4.635918  \n",
       "4             68.295  4.430749  "
      ]
     },
     "execution_count": 84,
     "metadata": {},
     "output_type": "execute_result"
    }
   ],
   "source": [
    "bond_rub[['FACEVALUE','PRICE_RUB','NKD_RUB','PROFIT_LOSS','COUPONPERCENT','COUPONE_GANE_NDFL','PROFIT']].head()"
   ]
  },
  {
   "cell_type": "markdown",
   "id": "fa4f20e3",
   "metadata": {},
   "source": [
    "#### Для дальнейшего анализа оставляем только доходные ценные бумаги с доходностью выше ключевой ставки ЦБ ( КeyRate) , определяем объем полученных данных"
   ]
  },
  {
   "cell_type": "markdown",
   "id": "c4cd123b",
   "metadata": {},
   "source": [
    "#### C сайта ЦБ РФ получаем ключевую ставку"
   ]
  },
  {
   "cell_type": "code",
   "execution_count": 85,
   "id": "f5e76c27",
   "metadata": {},
   "outputs": [
    {
     "name": "stdout",
     "output_type": "stream",
     "text": [
      "Ключевая ставка ЦБ РФ -  7.5\n"
     ]
    }
   ],
   "source": [
    "def kget_kl_stavka():\n",
    "    kluch_url = f'https://www.cbr.ru/hd_base/KeyRate/?UniDbQuery.Posted=True&UniDbQuery.From='+\"{}\".format((datetime.today().strftime(\"%d.%m.%Y\")))+'&UniDbQuery.To='+\"{}\".format((datetime.today().strftime(\"%d.%m.%Y\")))\n",
    "    s_kluch=requests.get(kluch_url).content\n",
    "    soup = BeautifulSoup(str(s_kluch), 'lxml')\n",
    "    soup.find_all(soup.td)\n",
    "    qwe = soup.select('td:nth-child(2)')\n",
    "    regex = re.compile('[^0-9,\\.\\-]')\n",
    "    return(regex.sub('', str(qwe)))\n",
    "\n",
    "KeyRate=float(kget_kl_stavka().replace(',', '.'))\n",
    "print(\"Ключевая ставка ЦБ РФ - \",   KeyRate)"
   ]
  },
  {
   "cell_type": "code",
   "execution_count": 86,
   "id": "7b40dae4",
   "metadata": {},
   "outputs": [],
   "source": [
    "bond_rub = bond_rub[(bond_rub['COUPONPERCENT'] >= KeyRate) & (bond_rub['PROFIT'] > 0)]"
   ]
  },
  {
   "cell_type": "code",
   "execution_count": 87,
   "id": "43d86c10",
   "metadata": {},
   "outputs": [
    {
     "data": {
      "text/plain": [
       "14.117652068022926"
      ]
     },
     "execution_count": 87,
     "metadata": {},
     "output_type": "execute_result"
    }
   ],
   "source": [
    "bond_rub['PROFIT'].max()"
   ]
  },
  {
   "cell_type": "markdown",
   "id": "b958ad8a",
   "metadata": {},
   "source": [
    "#### Анализируем количество записей, оставшееся в датафрейме"
   ]
  },
  {
   "cell_type": "code",
   "execution_count": 88,
   "id": "db7955fa",
   "metadata": {},
   "outputs": [
    {
     "data": {
      "text/plain": [
       "(904, 61)"
      ]
     },
     "execution_count": 88,
     "metadata": {},
     "output_type": "execute_result"
    }
   ],
   "source": [
    "bond_rub.shape"
   ]
  },
  {
   "cell_type": "markdown",
   "id": "dc2fe8ce",
   "metadata": {},
   "source": [
    "#### Определяем количество кластеров. Для анализа отобраны столбцы, влияющие на доходность\n",
    "#### При кластеризации методом k-средних количество кластеров чаще всего оценивают с помощью «метода локтя»"
   ]
  },
  {
   "cell_type": "code",
   "execution_count": 89,
   "id": "b7387811",
   "metadata": {},
   "outputs": [
    {
     "data": {
      "image/png": "[encoded data removed]",
      "text/plain": [
       "<Figure size 432x288 with 1 Axes>"
      ]
     },
     "metadata": {
      "needs_background": "light"
     },
     "output_type": "display_data"
    },
    {
     "name": "stdout",
     "output_type": "stream",
     "text": [
      "Вывод - делим на 3 кластера\n"
     ]
    }
   ],
   "source": [
    "SSE = []\n",
    "for k in range(1,9):\n",
    "    estimator = KMeans (n_clusters = k) \n",
    "    estimator.fit(bond_rub[['PROFIT','NKD_RUB']])\n",
    "    SSE.append(estimator.inertia_)\n",
    "    X = range(1,9)\n",
    "\n",
    "plt.xlabel('klasters')\n",
    "plt.ylabel('SSE')\n",
    "plt.plot(X,SSE,'o-')\n",
    "plt.show()\n",
    "print('Вывод - делим на 3 кластера')\n"
   ]
  },
  {
   "cell_type": "markdown",
   "id": "6f591ad0",
   "metadata": {},
   "source": [
    "#### Выполняем кластеризацию по К-средних"
   ]
  },
  {
   "cell_type": "code",
   "execution_count": 90,
   "id": "8fac84e3",
   "metadata": {},
   "outputs": [
    {
     "data": {
      "text/plain": [
       "0    890\n",
       "1      9\n",
       "2      5\n",
       "Name: ClusterID, dtype: int64"
      ]
     },
     "execution_count": 90,
     "metadata": {},
     "output_type": "execute_result"
    }
   ],
   "source": [
    "kmeans = KMeans(n_clusters=3)\n",
    "pred=kmeans.fit_predict(bond_rub[['PROFIT','NKD_RUB']])\n",
    "bond_rub['ClusterID'] = pred\n",
    "bond_rub.ClusterID.value_counts(normalize=False)"
   ]
  },
  {
   "cell_type": "markdown",
   "id": "b124eae4",
   "metadata": {},
   "source": [
    "#### Среднее значение доходности для каждого из кластеров"
   ]
  },
  {
   "cell_type": "code",
   "execution_count": 91,
   "id": "f8d6f6c6",
   "metadata": {},
   "outputs": [
    {
     "name": "stdout",
     "output_type": "stream",
     "text": [
      "5.939282468332911\n",
      "4.292448512270378\n",
      "5.525871162230923\n"
     ]
    }
   ],
   "source": [
    "print((bond_rub['PROFIT'].iloc[np.where(bond_rub.ClusterID==0)]).mean())\n",
    "print((bond_rub['PROFIT'].iloc[np.where(bond_rub.ClusterID==1)]).mean())\n",
    "print((bond_rub['PROFIT'].iloc[np.where(bond_rub.ClusterID==2)]).mean())\n"
   ]
  },
  {
   "cell_type": "markdown",
   "id": "102c5169",
   "metadata": {},
   "source": [
    "#### Строим диаграмму распределения кластеров по средним значениям доходности"
   ]
  },
  {
   "cell_type": "code",
   "execution_count": 92,
   "id": "2ce2b214",
   "metadata": {},
   "outputs": [
    {
     "data": {
      "image/png": "[encoded data removed]",
      "text/plain": [
       "<Figure size 864x504 with 1 Axes>"
      ]
     },
     "metadata": {
      "needs_background": "light"
     },
     "output_type": "display_data"
    }
   ],
   "source": [
    "y = bond_rub[['PROFIT', 'ClusterID']].groupby('ClusterID').mean()\n",
    "plt.figure(figsize=(12, 7))\n",
    "plt.xlabel('Кластеры', fontsize=15, color='blue')\n",
    "plt.ylabel('Доходность', fontsize=15, color='blue')\n",
    "plt.xticks([0,1,2])\n",
    "plt.plot( y, 'o-b', alpha=0.7, label=\"Доходность в разрезе кластеров\", lw=7, mec='b', mew=2, ms=12)\n",
    "# plt.plot(x, y2, 'v-.g', label=\"second\", mec='r', lw=2, mew=2, ms=12)\n",
    "plt.legend()\n",
    "plt.grid(True)"
   ]
  },
  {
   "cell_type": "markdown",
   "id": "3b3659d4",
   "metadata": {},
   "source": [
    "#### Распределение значений в разрезе по кластерам"
   ]
  },
  {
   "cell_type": "code",
   "execution_count": 93,
   "id": "6afae7b2",
   "metadata": {},
   "outputs": [
    {
     "name": "stdout",
     "output_type": "stream",
     "text": [
      "[[5.93928247e+00 5.47413322e+01]\n",
      " [4.29244851e+00 6.81621430e+04]\n",
      " [5.52587116e+00 3.41588866e+04]]\n"
     ]
    }
   ],
   "source": [
    "X = bond_rub[['PROFIT','NKD_RUB',]].to_numpy()\n",
    "kmeans = KMeans(n_clusters=3) \n",
    "kmeans.fit(X)\n",
    "print(kmeans.cluster_centers_)"
   ]
  },
  {
   "cell_type": "code",
   "execution_count": 94,
   "id": "bbe44c37",
   "metadata": {},
   "outputs": [
    {
     "data": {
      "text/plain": [
       "<matplotlib.collections.PathCollection at 0x2ddb6983280>"
      ]
     },
     "execution_count": 94,
     "metadata": {},
     "output_type": "execute_result"
    },
    {
     "data": {
      "image/png": "[encoded data removed]",
      "text/plain": [
       "<Figure size 432x288 with 1 Axes>"
      ]
     },
     "metadata": {
      "needs_background": "light"
     },
     "output_type": "display_data"
    }
   ],
   "source": [
    "plt.scatter(X[:,0],X[:,1], c=kmeans.labels_, cmap='rainbow')"
   ]
  },
  {
   "cell_type": "markdown",
   "id": "d66933b7",
   "metadata": {},
   "source": [
    "#### Топ 5 компаний в разрезе кластеров"
   ]
  },
  {
   "cell_type": "code",
   "execution_count": 95,
   "id": "aac0bf81",
   "metadata": {},
   "outputs": [],
   "source": [
    "top_cl2 = bond_rub[['PROFIT', 'NAME','ClusterID']].iloc[np.where(bond_rub.ClusterID==2)]\n",
    "top_cl1 = bond_rub[['PROFIT', 'NAME','ClusterID']].iloc[np.where(bond_rub.ClusterID==1)]\n",
    "top_cl0 = bond_rub[['PROFIT', 'NAME','ClusterID']].iloc[np.where(bond_rub.ClusterID==0)]"
   ]
  },
  {
   "cell_type": "markdown",
   "id": "29926896",
   "metadata": {},
   "source": [
    "#### Топ 5 компаний по кластеру 2"
   ]
  },
  {
   "cell_type": "code",
   "execution_count": 96,
   "id": "11f0ccf1",
   "metadata": {},
   "outputs": [
    {
     "data": {
      "text/html": [
       "<div>\n",
       "<style scoped>\n",
       "    .dataframe tbody tr th:only-of-type {\n",
       "        vertical-align: middle;\n",
       "    }\n",
       "\n",
       "    .dataframe tbody tr th {\n",
       "        vertical-align: top;\n",
       "    }\n",
       "\n",
       "    .dataframe thead th {\n",
       "        text-align: right;\n",
       "    }\n",
       "</style>\n",
       "<table border=\"1\" class=\"dataframe\">\n",
       "  <thead>\n",
       "    <tr style=\"text-align: right;\">\n",
       "      <th></th>\n",
       "      <th>PROFIT</th>\n",
       "      <th>NAME</th>\n",
       "      <th>ClusterID</th>\n",
       "    </tr>\n",
       "  </thead>\n",
       "  <tbody>\n",
       "    <tr>\n",
       "      <th>1305</th>\n",
       "      <td>7.469406</td>\n",
       "      <td>Банк ВТБ ПАО СУБ-Т2-2</td>\n",
       "      <td>2</td>\n",
       "    </tr>\n",
       "    <tr>\n",
       "      <th>1304</th>\n",
       "      <td>6.345552</td>\n",
       "      <td>Банк ВТБ ПАО СУБ-Т2-1</td>\n",
       "      <td>2</td>\n",
       "    </tr>\n",
       "    <tr>\n",
       "      <th>1669</th>\n",
       "      <td>6.168024</td>\n",
       "      <td>Газпром капитал ООО 001Б-03</td>\n",
       "      <td>2</td>\n",
       "    </tr>\n",
       "    <tr>\n",
       "      <th>1660</th>\n",
       "      <td>6.156076</td>\n",
       "      <td>Сбербанк 002СУБ-03R</td>\n",
       "      <td>2</td>\n",
       "    </tr>\n",
       "    <tr>\n",
       "      <th>804</th>\n",
       "      <td>1.490298</td>\n",
       "      <td>АЛЬФА-БАНК С01-01</td>\n",
       "      <td>2</td>\n",
       "    </tr>\n",
       "  </tbody>\n",
       "</table>\n",
       "</div>"
      ],
      "text/plain": [
       "        PROFIT                         NAME  ClusterID\n",
       "1305  7.469406        Банк ВТБ ПАО СУБ-Т2-2          2\n",
       "1304  6.345552        Банк ВТБ ПАО СУБ-Т2-1          2\n",
       "1669  6.168024  Газпром капитал ООО 001Б-03          2\n",
       "1660  6.156076          Сбербанк 002СУБ-03R          2\n",
       "804   1.490298            АЛЬФА-БАНК С01-01          2"
      ]
     },
     "execution_count": 96,
     "metadata": {},
     "output_type": "execute_result"
    }
   ],
   "source": [
    "Top_5_cluster_2 = top_cl2.sort_values(by='PROFIT',ascending=False).head()\n",
    "Top_5_cluster_2.head()"
   ]
  },
  {
   "cell_type": "code",
   "execution_count": 97,
   "id": "3d91fd60",
   "metadata": {},
   "outputs": [
    {
     "data": {
      "image/png": "[encoded data removed]",
      "text/plain": [
       "<Figure size 432x288 with 1 Axes>"
      ]
     },
     "metadata": {
      "needs_background": "light"
     },
     "output_type": "display_data"
    }
   ],
   "source": [
    "emitents =Top_5_cluster_2['NAME']\n",
    "profit = Top_5_cluster_2['PROFIT']\n",
    "fig, ax = plt.subplots()\n",
    "plt.bar(emitents, profit)\n",
    "plt.axhline(y=KeyRate, color = 'y')\n",
    "plt.plot([KeyRate],'y',label='KeyRate')\n",
    "plt.legend()\n",
    "plt.title(\"TOP_5_emitents! Cluster_2\")\n",
    "plt.xlabel(\"emitents\")\n",
    "plt.ylabel(\"profit\")\n",
    "fig.autofmt_xdate()"
   ]
  },
  {
   "cell_type": "markdown",
   "id": "ff774352",
   "metadata": {},
   "source": [
    "#### Топ 5 компаний по кластеру 1"
   ]
  },
  {
   "cell_type": "code",
   "execution_count": 98,
   "id": "5b22d8e5",
   "metadata": {},
   "outputs": [
    {
     "data": {
      "text/html": [
       "<div>\n",
       "<style scoped>\n",
       "    .dataframe tbody tr th:only-of-type {\n",
       "        vertical-align: middle;\n",
       "    }\n",
       "\n",
       "    .dataframe tbody tr th {\n",
       "        vertical-align: top;\n",
       "    }\n",
       "\n",
       "    .dataframe thead th {\n",
       "        text-align: right;\n",
       "    }\n",
       "</style>\n",
       "<table border=\"1\" class=\"dataframe\">\n",
       "  <thead>\n",
       "    <tr style=\"text-align: right;\">\n",
       "      <th></th>\n",
       "      <th>PROFIT</th>\n",
       "      <th>NAME</th>\n",
       "      <th>ClusterID</th>\n",
       "    </tr>\n",
       "  </thead>\n",
       "  <tbody>\n",
       "    <tr>\n",
       "      <th>1681</th>\n",
       "      <td>7.821043</td>\n",
       "      <td>Банк ВТБ ПАО СУБ-Т1-12</td>\n",
       "      <td>1</td>\n",
       "    </tr>\n",
       "    <tr>\n",
       "      <th>1680</th>\n",
       "      <td>7.464520</td>\n",
       "      <td>Банк ВТБ ПАО СУБ-Т1-11</td>\n",
       "      <td>1</td>\n",
       "    </tr>\n",
       "    <tr>\n",
       "      <th>949</th>\n",
       "      <td>5.904541</td>\n",
       "      <td>Банк ВТБ ПАО Т2-3</td>\n",
       "      <td>1</td>\n",
       "    </tr>\n",
       "    <tr>\n",
       "      <th>1558</th>\n",
       "      <td>4.261639</td>\n",
       "      <td>Банк ВТБ ПАО СУБ-Т1-5</td>\n",
       "      <td>1</td>\n",
       "    </tr>\n",
       "    <tr>\n",
       "      <th>1559</th>\n",
       "      <td>3.470600</td>\n",
       "      <td>Банк ВТБ ПАО СУБ-Т1-6</td>\n",
       "      <td>1</td>\n",
       "    </tr>\n",
       "  </tbody>\n",
       "</table>\n",
       "</div>"
      ],
      "text/plain": [
       "        PROFIT                    NAME  ClusterID\n",
       "1681  7.821043  Банк ВТБ ПАО СУБ-Т1-12          1\n",
       "1680  7.464520  Банк ВТБ ПАО СУБ-Т1-11          1\n",
       "949   5.904541       Банк ВТБ ПАО Т2-3          1\n",
       "1558  4.261639   Банк ВТБ ПАО СУБ-Т1-5          1\n",
       "1559  3.470600   Банк ВТБ ПАО СУБ-Т1-6          1"
      ]
     },
     "execution_count": 98,
     "metadata": {},
     "output_type": "execute_result"
    }
   ],
   "source": [
    "Top_5_cluster_1 = top_cl1.sort_values(by='PROFIT',ascending=False).head()\n",
    "Top_5_cluster_1.head()"
   ]
  },
  {
   "cell_type": "code",
   "execution_count": 99,
   "id": "811900c8",
   "metadata": {},
   "outputs": [
    {
     "data": {
      "image/png": "[encoded data removed]",
      "text/plain": [
       "<Figure size 432x288 with 1 Axes>"
      ]
     },
     "metadata": {
      "needs_background": "light"
     },
     "output_type": "display_data"
    }
   ],
   "source": [
    "emitents =Top_5_cluster_1['NAME']\n",
    "profit = Top_5_cluster_1['PROFIT']\n",
    "fig, ax = plt.subplots()\n",
    "plt.bar(emitents, profit)\n",
    "plt.axhline(y=KeyRate, color = 'y')\n",
    "plt.plot([KeyRate],'y',label='KeyRate')\n",
    "plt.legend()\n",
    "plt.title(\"TOP_5_emitents! Cluster_1\")\n",
    "plt.xlabel(\"emitents\")\n",
    "plt.ylabel(\"profit\")\n",
    "fig.autofmt_xdate()"
   ]
  },
  {
   "cell_type": "markdown",
   "id": "2ce93aae",
   "metadata": {},
   "source": [
    "#### Топ 5 компаний по кластеру 0"
   ]
  },
  {
   "cell_type": "code",
   "execution_count": 100,
   "id": "3cdbcb58",
   "metadata": {},
   "outputs": [
    {
     "data": {
      "text/html": [
       "<div>\n",
       "<style scoped>\n",
       "    .dataframe tbody tr th:only-of-type {\n",
       "        vertical-align: middle;\n",
       "    }\n",
       "\n",
       "    .dataframe tbody tr th {\n",
       "        vertical-align: top;\n",
       "    }\n",
       "\n",
       "    .dataframe thead th {\n",
       "        text-align: right;\n",
       "    }\n",
       "</style>\n",
       "<table border=\"1\" class=\"dataframe\">\n",
       "  <thead>\n",
       "    <tr style=\"text-align: right;\">\n",
       "      <th></th>\n",
       "      <th>PROFIT</th>\n",
       "      <th>NAME</th>\n",
       "      <th>ClusterID</th>\n",
       "    </tr>\n",
       "  </thead>\n",
       "  <tbody>\n",
       "    <tr>\n",
       "      <th>1760</th>\n",
       "      <td>14.117652</td>\n",
       "      <td>BCS SP Plc Series 42</td>\n",
       "      <td>0</td>\n",
       "    </tr>\n",
       "    <tr>\n",
       "      <th>1764</th>\n",
       "      <td>11.467340</td>\n",
       "      <td>BCS SP Plc Series 63</td>\n",
       "      <td>0</td>\n",
       "    </tr>\n",
       "    <tr>\n",
       "      <th>646</th>\n",
       "      <td>11.081393</td>\n",
       "      <td>ДиректЛизинг ООО БО-001P-03</td>\n",
       "      <td>0</td>\n",
       "    </tr>\n",
       "    <tr>\n",
       "      <th>1671</th>\n",
       "      <td>11.013865</td>\n",
       "      <td>МФК КарМани 01</td>\n",
       "      <td>0</td>\n",
       "    </tr>\n",
       "    <tr>\n",
       "      <th>1769</th>\n",
       "      <td>10.908905</td>\n",
       "      <td>BCS SP Plc Series 2020-8</td>\n",
       "      <td>0</td>\n",
       "    </tr>\n",
       "  </tbody>\n",
       "</table>\n",
       "</div>"
      ],
      "text/plain": [
       "         PROFIT                         NAME  ClusterID\n",
       "1760  14.117652         BCS SP Plc Series 42          0\n",
       "1764  11.467340         BCS SP Plc Series 63          0\n",
       "646   11.081393  ДиректЛизинг ООО БО-001P-03          0\n",
       "1671  11.013865               МФК КарМани 01          0\n",
       "1769  10.908905     BCS SP Plc Series 2020-8          0"
      ]
     },
     "execution_count": 100,
     "metadata": {},
     "output_type": "execute_result"
    }
   ],
   "source": [
    "Top_5_cluster_0 = top_cl0.sort_values(by='PROFIT',ascending=False).head()\n",
    "Top_5_cluster_0"
   ]
  },
  {
   "cell_type": "code",
   "execution_count": 101,
   "id": "cdea869a",
   "metadata": {},
   "outputs": [
    {
     "data": {
      "image/png": "[encoded data removed]",
      "text/plain": [
       "<Figure size 432x288 with 1 Axes>"
      ]
     },
     "metadata": {
      "needs_background": "light"
     },
     "output_type": "display_data"
    }
   ],
   "source": [
    "emitents =Top_5_cluster_0['NAME']\n",
    "profit = Top_5_cluster_0['PROFIT']\n",
    "fig, ax = plt.subplots()\n",
    "plt.bar(emitents, profit)\n",
    "plt.axhline(y=KeyRate, color = 'y')\n",
    "plt.plot([KeyRate],'y',label='KeyRate')\n",
    "plt.legend()\n",
    "plt.title(\"TOP_5_emitents! Cluster_0\")\n",
    "plt.xlabel(\"emitents\")\n",
    "plt.ylabel(\"profit\")\n",
    "fig.autofmt_xdate()"
   ]
  },
  {
   "cell_type": "markdown",
   "id": "aabd1e09",
   "metadata": {},
   "source": [
    "#### Проводим расчет даты, исходя из условия по периоду 20% от текущей даты "
   ]
  },
  {
   "cell_type": "code",
   "execution_count": 102,
   "id": "cda4dc5f",
   "metadata": {},
   "outputs": [],
   "source": [
    "bond_rub['COUPONDAYSPASSED_0.20']= round(bond_rub['COUPONDAYSPASSED'] * 0.20)"
   ]
  },
  {
   "cell_type": "markdown",
   "id": "1b302fa3",
   "metadata": {},
   "source": [
    "#### Рассчитываем дату промежуточной выплаты по купонам не более 20% купонного периода назад до текущей даты"
   ]
  },
  {
   "cell_type": "code",
   "execution_count": 103,
   "id": "cce279ce",
   "metadata": {},
   "outputs": [],
   "source": [
    "list_date = []\n",
    " \n",
    "for index, row in bond_rub.iterrows():\n",
    "    list_date.append(date.today() - timedelta(days=row['COUPONDAYSPASSED_0.20']))\n",
    "bond_rub['date_NEW'] = list_date"
   ]
  },
  {
   "cell_type": "markdown",
   "id": "1c78c4d4",
   "metadata": {},
   "source": [
    "#### Приводим  формат столбцов с датами к типу datetime"
   ]
  },
  {
   "cell_type": "code",
   "execution_count": 104,
   "id": "11175753",
   "metadata": {},
   "outputs": [],
   "source": [
    "bond_rub['ISSUEDATE'] = pd.to_datetime(bond_rub['ISSUEDATE'])\n",
    "bond_rub['date_NEW'] = pd.to_datetime(bond_rub['date_NEW'])\n",
    "bond_rub['COUPONDATE'] = pd.to_datetime(bond_rub['COUPONDATE'])"
   ]
  },
  {
   "cell_type": "code",
   "execution_count": 105,
   "id": "630a4c90",
   "metadata": {},
   "outputs": [
    {
     "data": {
      "text/plain": [
       "date_NEW      datetime64[ns]\n",
       "ISSUEDATE     datetime64[ns]\n",
       "COUPONDATE    datetime64[ns]\n",
       "dtype: object"
      ]
     },
     "execution_count": 105,
     "metadata": {},
     "output_type": "execute_result"
    }
   ],
   "source": [
    "bond_rub[['date_NEW','ISSUEDATE','COUPONDATE']].dtypes"
   ]
  },
  {
   "cell_type": "markdown",
   "id": "2f2ac4a5",
   "metadata": {},
   "source": [
    "#### Оставляем данные, удовлетворяющие условию: \"COUPONDATE\" и \"ISSUEDATE\" меньше или равны \"date_NEW \" и \"HIGH_RISK\" = 0"
   ]
  },
  {
   "cell_type": "code",
   "execution_count": 106,
   "id": "66df7769",
   "metadata": {},
   "outputs": [],
   "source": [
    "bond_rub = bond_rub[(bond_rub['COUPONDATE'] <= bond_rub['date_NEW']) & (bond_rub['ISSUEDATE'] <= bond_rub['date_NEW']) & (bond_rub['HIGH_RISK'] == 0 )]"
   ]
  },
  {
   "cell_type": "markdown",
   "id": "575772eb",
   "metadata": {},
   "source": [
    "#### PROFIT посчитан. Определяем Топ 5 эмитентов по доходности и выводим на гистограмму"
   ]
  },
  {
   "cell_type": "code",
   "execution_count": 107,
   "id": "f0110aa5",
   "metadata": {},
   "outputs": [],
   "source": [
    "Top_5 = bond_rub.sort_values(by='PROFIT',ascending=False).head()"
   ]
  },
  {
   "cell_type": "code",
   "execution_count": 108,
   "id": "07483a77",
   "metadata": {},
   "outputs": [
    {
     "data": {
      "image/png": "[encoded data removed]",
      "text/plain": [
       "<Figure size 432x288 with 1 Axes>"
      ]
     },
     "metadata": {
      "needs_background": "light"
     },
     "output_type": "display_data"
    }
   ],
   "source": [
    "emitents =Top_5['NAME']\n",
    "profit = Top_5['PROFIT']\n",
    "fig, ax = plt.subplots()\n",
    "plt.bar(emitents, profit)\n",
    "plt.axhline(y=KeyRate, color = 'y')\n",
    "plt.plot([KeyRate],'y',label='KeyRate')\n",
    "plt.legend()\n",
    "plt.title(\"TOP_5_emitents!\")\n",
    "plt.xlabel(\"emitents\")\n",
    "plt.ylabel(\"profit\")\n",
    "fig.autofmt_xdate()"
   ]
  }
 ],
 "metadata": {
  "kernelspec": {
   "display_name": "Python 3 (ipykernel)",
   "language": "python",
   "name": "python3"
  },
  "language_info": {
   "codemirror_mode": {
    "name": "ipython",
    "version": 3
   },
   "file_extension": ".py",
   "mimetype": "text/x-python",
   "name": "python",
   "nbconvert_exporter": "python",
   "pygments_lexer": "ipython3",
   "version": "3.9.6"
  }
 },
 "nbformat": 4,
 "nbformat_minor": 5
}
