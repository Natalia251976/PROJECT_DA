{
 "cells": [
  {
   "cell_type": "markdown",
   "id": "90eb7a40",
   "metadata": {},
   "source": [
    "# Проект :<br>  \n",
    "### Требуется выполнить следующие действия с данными по облигациям на дату формирования данных:  \n",
    "  \n",
    "       \n",
    "\n",
    "<div style=\"text-align: justify\"><br><br> 1. Оценить рынок рублевых облигаций по распределению купонной доходности, предложить разделение на кластеры по купонной доходности.Предложить графическое представление полученных групп/кластеров. (график)</div>\n",
    "\n",
    "<div style=\"text-align: justify\"> 2. По низкорисковым рублевым облигациям с датой промежуточной выплаты по  купонам не более 20% купонного периода назад до текущей даты и облигациям выпущенным в аналогичный период, рассчитать доходность последующих купонов по отобранным облигациям с учетом разницы номинала и цены продажи, а также с учетом налоговых отчислений на период год с текущей дата. (график и/или таблица)</div>\n",
    "\n",
    "\n",
    "### Могут быть использованы следующие поля (а также все остальные) в любых комбинациях:<br> \n",
    "<div style=\"text-align: justify\"><br> 'SECID' - Код ценной бумаги,<br>'SHORTNAME' - Краткое наименование,<br>'NAME' Полное наименование,<br>'FACEVALUE' - Номинальная стоимость,<br>'FACEUNIT' - валюта,<br>'DURATION' - дюрация,<br>'IS_QUALIFIED_INVESTORS' - признак продукта для квалифицированных инвесторов,<br>'HIGH_RISK' - признак уровня риска,<br> 'COUPONFREQUENCY' – число купонов в год,<br>'COUPONDATE' - Дата выплаты купона,<br>'COUPONPERCENT' - Ставка купона, %,<br>\n",
    " 'COUPONVALUE' - Сумма купона, в валюте номинала,<br>'OFFERDATE' - Дата оферты,<br>'EMITENTNAME' – наименование эмитента,<br>\n",
    "'INN' – ИНН эмитента,<br>'PRICE' – текущий % от FACEVALUE,<br>'PRICE_RUB' - котировка</div>\n",
    "\n",
    "### Пояснения:<br> \n",
    "<div style=\"text-align: justify\">\n",
    "1. Для получения текущей даты можно использовать метод datetime.date.today();<br>                                                2. Период расчета доходности рекомендуется выбирать 365 дней с текущей даты; <br>                                                3. Нужно учитывать накопленный купонный доход (НКД) и разницу котировки и номинала ; <br>                                        4. В общем случае процентный доход при ставке НДФЛ 13% будет  Profit =(Цена_Номинальная – Цена_покупки – НКД +<br>   0.87*Купонный_доход_руб*X_лет)* 100%  /(Цена_покупки + НКД) (комиссией брокера пренебрегаем) <br>                                5. Период расчета НКД: df['COUPONDAYSPASSED']/df['COUPONLENGTH'] , рекомендуется  выбирать меньше или равный 0.2.<br>\n",
    "Если удовлетворяет условию, полученная величина умножается на COUPONPERCENT/COUPONFREQUENCY. <br>                 \n",
    "6. Датасет содержит данные, которые нужно преобразовывать в форматы python, а также пустые и искаженные данные, с которыми нужно что-то решить.</div>"
   ]
  },
  {
   "cell_type": "code",
   "execution_count": 209,
   "id": "0c9316c2",
   "metadata": {},
   "outputs": [],
   "source": [
    "import pandas as pd\n",
    "import requests\n",
    "from datetime import datetime, date, timedelta\n",
    "import io\n",
    "import numpy as np\n",
    "from sklearn.cluster import KMeans\n",
    "import matplotlib.pyplot as plt\n",
    "%matplotlib inline\n",
    "import matplotlib.ticker as ticker\n",
    "from bs4 import BeautifulSoup\n",
    "import re"
   ]
  },
  {
   "cell_type": "code",
   "execution_count": 210,
   "id": "2ccda217",
   "metadata": {},
   "outputs": [],
   "source": [
    "bond_url = f'https://iss.moex.com/iss/apps/infogrid/emission/rates.csv?iss.dp=comma&iss.df=%25d.%25m.%25Y&iss.tf=%25H:%25M:%25S&iss.dtf=%25d.%25m.%25Y%25H:%25M:%25S&iss.only=rates&limit=unlimited&lang=ru'"
   ]
  },
  {
   "cell_type": "code",
   "execution_count": 211,
   "id": "88d4145b",
   "metadata": {},
   "outputs": [],
   "source": [
    "s = requests.get(bond_url).content"
   ]
  },
  {
   "cell_type": "code",
   "execution_count": 212,
   "id": "ccd5cc22",
   "metadata": {},
   "outputs": [],
   "source": [
    "bond = pd.read_csv(io.StringIO(s.decode('cp1251')), sep=';', header=1)"
   ]
  },
  {
   "cell_type": "code",
   "execution_count": 213,
   "id": "35e32a97",
   "metadata": {},
   "outputs": [
    {
     "data": {
      "text/html": [
       "<div>\n",
       "<style scoped>\n",
       "    .dataframe tbody tr th:only-of-type {\n",
       "        vertical-align: middle;\n",
       "    }\n",
       "\n",
       "    .dataframe tbody tr th {\n",
       "        vertical-align: top;\n",
       "    }\n",
       "\n",
       "    .dataframe thead th {\n",
       "        text-align: right;\n",
       "    }\n",
       "</style>\n",
       "<table border=\"1\" class=\"dataframe\">\n",
       "  <thead>\n",
       "    <tr style=\"text-align: right;\">\n",
       "      <th></th>\n",
       "      <th>LISTLEVEL</th>\n",
       "      <th>ISSUESIZE</th>\n",
       "      <th>IS_COLLATERAL</th>\n",
       "      <th>IS_EXTERNAL</th>\n",
       "      <th>EVENINGSESSION</th>\n",
       "      <th>DURATION</th>\n",
       "      <th>IS_QUALIFIED_INVESTORS</th>\n",
       "      <th>HIGH_RISK</th>\n",
       "      <th>COUPONFREQUENCY</th>\n",
       "      <th>COUPONDAYSPASSED</th>\n",
       "      <th>COUPONDAYSREMAIN</th>\n",
       "      <th>COUPONLENGTH</th>\n",
       "      <th>DAYSTOREDEMPTION</th>\n",
       "      <th>INN</th>\n",
       "      <th>LOTSIZE</th>\n",
       "      <th>LIMIT1</th>\n",
       "      <th>LIMIT2</th>\n",
       "    </tr>\n",
       "  </thead>\n",
       "  <tbody>\n",
       "    <tr>\n",
       "      <th>count</th>\n",
       "      <td>2437.000000</td>\n",
       "      <td>2.677000e+03</td>\n",
       "      <td>2697.000000</td>\n",
       "      <td>2697.000000</td>\n",
       "      <td>2697.000000</td>\n",
       "      <td>1867.000000</td>\n",
       "      <td>2697.000000</td>\n",
       "      <td>2697.000000</td>\n",
       "      <td>2322.000000</td>\n",
       "      <td>2683.000000</td>\n",
       "      <td>2683.000000</td>\n",
       "      <td>2683.000000</td>\n",
       "      <td>2649.000000</td>\n",
       "      <td>2.546000e+03</td>\n",
       "      <td>2697.000000</td>\n",
       "      <td>8.780000e+02</td>\n",
       "      <td>8.780000e+02</td>\n",
       "    </tr>\n",
       "    <tr>\n",
       "      <th>mean</th>\n",
       "      <td>2.382848</td>\n",
       "      <td>3.224802e+08</td>\n",
       "      <td>0.140897</td>\n",
       "      <td>0.155729</td>\n",
       "      <td>0.129774</td>\n",
       "      <td>850.330477</td>\n",
       "      <td>0.185020</td>\n",
       "      <td>0.062291</td>\n",
       "      <td>3.054264</td>\n",
       "      <td>145.257548</td>\n",
       "      <td>228.075662</td>\n",
       "      <td>373.333209</td>\n",
       "      <td>1657.399773</td>\n",
       "      <td>6.081548e+09</td>\n",
       "      <td>1.447164</td>\n",
       "      <td>3.350430e+05</td>\n",
       "      <td>1.674611e+06</td>\n",
       "    </tr>\n",
       "    <tr>\n",
       "      <th>std</th>\n",
       "      <td>0.848016</td>\n",
       "      <td>4.166856e+09</td>\n",
       "      <td>0.347980</td>\n",
       "      <td>0.362665</td>\n",
       "      <td>0.336117</td>\n",
       "      <td>685.582076</td>\n",
       "      <td>0.388386</td>\n",
       "      <td>0.241729</td>\n",
       "      <td>2.303844</td>\n",
       "      <td>234.092429</td>\n",
       "      <td>468.882621</td>\n",
       "      <td>614.149759</td>\n",
       "      <td>1934.698803</td>\n",
       "      <td>2.939775e+09</td>\n",
       "      <td>19.423676</td>\n",
       "      <td>8.351049e+05</td>\n",
       "      <td>4.175706e+06</td>\n",
       "    </tr>\n",
       "    <tr>\n",
       "      <th>min</th>\n",
       "      <td>1.000000</td>\n",
       "      <td>1.000000e+00</td>\n",
       "      <td>0.000000</td>\n",
       "      <td>0.000000</td>\n",
       "      <td>0.000000</td>\n",
       "      <td>0.000000</td>\n",
       "      <td>0.000000</td>\n",
       "      <td>0.000000</td>\n",
       "      <td>1.000000</td>\n",
       "      <td>-7.000000</td>\n",
       "      <td>1.000000</td>\n",
       "      <td>21.000000</td>\n",
       "      <td>0.000000</td>\n",
       "      <td>4.550000e+02</td>\n",
       "      <td>1.000000</td>\n",
       "      <td>1.700000e+01</td>\n",
       "      <td>8.500000e+01</td>\n",
       "    </tr>\n",
       "    <tr>\n",
       "      <th>25%</th>\n",
       "      <td>2.000000</td>\n",
       "      <td>3.243090e+05</td>\n",
       "      <td>0.000000</td>\n",
       "      <td>0.000000</td>\n",
       "      <td>0.000000</td>\n",
       "      <td>364.500000</td>\n",
       "      <td>0.000000</td>\n",
       "      <td>0.000000</td>\n",
       "      <td>2.000000</td>\n",
       "      <td>30.000000</td>\n",
       "      <td>39.000000</td>\n",
       "      <td>91.000000</td>\n",
       "      <td>596.000000</td>\n",
       "      <td>5.405966e+09</td>\n",
       "      <td>1.000000</td>\n",
       "      <td>1.000000e+05</td>\n",
       "      <td>5.000000e+05</td>\n",
       "    </tr>\n",
       "    <tr>\n",
       "      <th>50%</th>\n",
       "      <td>3.000000</td>\n",
       "      <td>2.450000e+06</td>\n",
       "      <td>0.000000</td>\n",
       "      <td>0.000000</td>\n",
       "      <td>0.000000</td>\n",
       "      <td>728.000000</td>\n",
       "      <td>0.000000</td>\n",
       "      <td>0.000000</td>\n",
       "      <td>2.000000</td>\n",
       "      <td>74.000000</td>\n",
       "      <td>74.000000</td>\n",
       "      <td>182.000000</td>\n",
       "      <td>1133.000000</td>\n",
       "      <td>7.707084e+09</td>\n",
       "      <td>1.000000</td>\n",
       "      <td>2.000000e+05</td>\n",
       "      <td>1.000000e+06</td>\n",
       "    </tr>\n",
       "    <tr>\n",
       "      <th>75%</th>\n",
       "      <td>3.000000</td>\n",
       "      <td>1.000000e+07</td>\n",
       "      <td>0.000000</td>\n",
       "      <td>0.000000</td>\n",
       "      <td>0.000000</td>\n",
       "      <td>1132.000000</td>\n",
       "      <td>0.000000</td>\n",
       "      <td>0.000000</td>\n",
       "      <td>4.000000</td>\n",
       "      <td>143.000000</td>\n",
       "      <td>155.000000</td>\n",
       "      <td>183.000000</td>\n",
       "      <td>1875.000000</td>\n",
       "      <td>7.719272e+09</td>\n",
       "      <td>1.000000</td>\n",
       "      <td>3.000000e+05</td>\n",
       "      <td>1.500000e+06</td>\n",
       "    </tr>\n",
       "    <tr>\n",
       "      <th>max</th>\n",
       "      <td>3.000000</td>\n",
       "      <td>9.649987e+10</td>\n",
       "      <td>1.000000</td>\n",
       "      <td>1.000000</td>\n",
       "      <td>1.000000</td>\n",
       "      <td>5639.000000</td>\n",
       "      <td>1.000000</td>\n",
       "      <td>1.000000</td>\n",
       "      <td>12.000000</td>\n",
       "      <td>4551.000000</td>\n",
       "      <td>5339.000000</td>\n",
       "      <td>7304.000000</td>\n",
       "      <td>32577.000000</td>\n",
       "      <td>9.909570e+09</td>\n",
       "      <td>1000.000000</td>\n",
       "      <td>1.200000e+07</td>\n",
       "      <td>6.000000e+07</td>\n",
       "    </tr>\n",
       "  </tbody>\n",
       "</table>\n",
       "</div>"
      ],
      "text/plain": [
       "         LISTLEVEL     ISSUESIZE  IS_COLLATERAL  IS_EXTERNAL  EVENINGSESSION  \\\n",
       "count  2437.000000  2.677000e+03    2697.000000  2697.000000     2697.000000   \n",
       "mean      2.382848  3.224802e+08       0.140897     0.155729        0.129774   \n",
       "std       0.848016  4.166856e+09       0.347980     0.362665        0.336117   \n",
       "min       1.000000  1.000000e+00       0.000000     0.000000        0.000000   \n",
       "25%       2.000000  3.243090e+05       0.000000     0.000000        0.000000   \n",
       "50%       3.000000  2.450000e+06       0.000000     0.000000        0.000000   \n",
       "75%       3.000000  1.000000e+07       0.000000     0.000000        0.000000   \n",
       "max       3.000000  9.649987e+10       1.000000     1.000000        1.000000   \n",
       "\n",
       "          DURATION  IS_QUALIFIED_INVESTORS    HIGH_RISK  COUPONFREQUENCY  \\\n",
       "count  1867.000000             2697.000000  2697.000000      2322.000000   \n",
       "mean    850.330477                0.185020     0.062291         3.054264   \n",
       "std     685.582076                0.388386     0.241729         2.303844   \n",
       "min       0.000000                0.000000     0.000000         1.000000   \n",
       "25%     364.500000                0.000000     0.000000         2.000000   \n",
       "50%     728.000000                0.000000     0.000000         2.000000   \n",
       "75%    1132.000000                0.000000     0.000000         4.000000   \n",
       "max    5639.000000                1.000000     1.000000        12.000000   \n",
       "\n",
       "       COUPONDAYSPASSED  COUPONDAYSREMAIN  COUPONLENGTH  DAYSTOREDEMPTION  \\\n",
       "count       2683.000000       2683.000000   2683.000000       2649.000000   \n",
       "mean         145.257548        228.075662    373.333209       1657.399773   \n",
       "std          234.092429        468.882621    614.149759       1934.698803   \n",
       "min           -7.000000          1.000000     21.000000          0.000000   \n",
       "25%           30.000000         39.000000     91.000000        596.000000   \n",
       "50%           74.000000         74.000000    182.000000       1133.000000   \n",
       "75%          143.000000        155.000000    183.000000       1875.000000   \n",
       "max         4551.000000       5339.000000   7304.000000      32577.000000   \n",
       "\n",
       "                INN      LOTSIZE        LIMIT1        LIMIT2  \n",
       "count  2.546000e+03  2697.000000  8.780000e+02  8.780000e+02  \n",
       "mean   6.081548e+09     1.447164  3.350430e+05  1.674611e+06  \n",
       "std    2.939775e+09    19.423676  8.351049e+05  4.175706e+06  \n",
       "min    4.550000e+02     1.000000  1.700000e+01  8.500000e+01  \n",
       "25%    5.405966e+09     1.000000  1.000000e+05  5.000000e+05  \n",
       "50%    7.707084e+09     1.000000  2.000000e+05  1.000000e+06  \n",
       "75%    7.719272e+09     1.000000  3.000000e+05  1.500000e+06  \n",
       "max    9.909570e+09  1000.000000  1.200000e+07  6.000000e+07  "
      ]
     },
     "execution_count": 213,
     "metadata": {},
     "output_type": "execute_result"
    }
   ],
   "source": [
    "bond.describe()"
   ]
  },
  {
   "cell_type": "code",
   "execution_count": 214,
   "id": "26ceb597",
   "metadata": {},
   "outputs": [
    {
     "data": {
      "text/plain": [
       "SECID                      object\n",
       "SHORTNAME                  object\n",
       "NAME                       object\n",
       "TYPENAME                   object\n",
       "ISIN                       object\n",
       "REGNUMBER                  object\n",
       "LISTLEVEL                 float64\n",
       "FACEVALUE                  object\n",
       "FACEUNIT                   object\n",
       "ISSUESIZE                 float64\n",
       "IS_COLLATERAL               int64\n",
       "IS_EXTERNAL                 int64\n",
       "PRIMARY_BOARDID            object\n",
       "PRIMARY_BOARD_TITLE        object\n",
       "MATDATE                    object\n",
       "IS_RII                     object\n",
       "ISSUEDATE                  object\n",
       "EVENINGSESSION              int64\n",
       "DURATION                  float64\n",
       "IS_QUALIFIED_INVESTORS      int64\n",
       "HIGH_RISK                   int64\n",
       "COUPONFREQUENCY           float64\n",
       "YIELDATWAP                 object\n",
       "COUPONDATE                 object\n",
       "COUPONPERCENT              object\n",
       "COUPONVALUE                object\n",
       "COUPONDAYSPASSED          float64\n",
       "COUPONDAYSREMAIN          float64\n",
       "COUPONLENGTH              float64\n",
       "ISSUEDATE.1                object\n",
       "INITIALFACEVALUE           object\n",
       "SECSUBTYPE                 object\n",
       "STARTDATEMOEX              object\n",
       "DAYSTOREDEMPTION          float64\n",
       "OFFERDATE                  object\n",
       "EMITENTNAME                object\n",
       "INN                       float64\n",
       "LOTSIZE                     int64\n",
       "PRICE                      object\n",
       "PRICE_RUB                  object\n",
       "RTL1                       object\n",
       "RTH1                       object\n",
       "RTL2                       object\n",
       "RTH2                       object\n",
       "RTL3                       object\n",
       "RTH3                       object\n",
       "DISCOUNT1                  object\n",
       "LIMIT1                    float64\n",
       "DISCOUNT2                  object\n",
       "LIMIT2                    float64\n",
       "DISCOUNT3                  object\n",
       "DISCOUNTL0                 object\n",
       "DISCOUNTH0                 object\n",
       "dtype: object"
      ]
     },
     "execution_count": 214,
     "metadata": {},
     "output_type": "execute_result"
    }
   ],
   "source": [
    "bond.dtypes"
   ]
  },
  {
   "cell_type": "code",
   "execution_count": 215,
   "id": "64dfb838",
   "metadata": {},
   "outputs": [
    {
     "data": {
      "text/plain": [
       "(2697, 53)"
      ]
     },
     "execution_count": 215,
     "metadata": {},
     "output_type": "execute_result"
    }
   ],
   "source": [
    "bond.shape"
   ]
  },
  {
   "cell_type": "markdown",
   "id": "26a1cd82",
   "metadata": {},
   "source": [
    "#### Оставляем только рублевые облигации\n"
   ]
  },
  {
   "cell_type": "code",
   "execution_count": 216,
   "id": "0b043083",
   "metadata": {},
   "outputs": [],
   "source": [
    "\n",
    "bond_rub = bond.drop(bond[bond['FACEUNIT']!='RUB'].index  )                             "
   ]
  },
  {
   "cell_type": "markdown",
   "id": "c5b06209",
   "metadata": {},
   "source": [
    "#### Определяем поля, содержащие Nan"
   ]
  },
  {
   "cell_type": "code",
   "execution_count": 217,
   "id": "2c668527",
   "metadata": {},
   "outputs": [
    {
     "data": {
      "text/plain": [
       "SECID                        0\n",
       "SHORTNAME                    0\n",
       "NAME                         0\n",
       "TYPENAME                     0\n",
       "ISIN                         0\n",
       "REGNUMBER                   80\n",
       "LISTLEVEL                  156\n",
       "FACEVALUE                    0\n",
       "FACEUNIT                     0\n",
       "ISSUESIZE                   19\n",
       "IS_COLLATERAL                0\n",
       "IS_EXTERNAL                  0\n",
       "PRIMARY_BOARDID              0\n",
       "PRIMARY_BOARD_TITLE          0\n",
       "MATDATE                     28\n",
       "IS_RII                    2302\n",
       "ISSUEDATE                  141\n",
       "EVENINGSESSION               0\n",
       "DURATION                   645\n",
       "IS_QUALIFIED_INVESTORS       0\n",
       "HIGH_RISK                    0\n",
       "COUPONFREQUENCY            355\n",
       "YIELDATWAP                1161\n",
       "COUPONDATE                   8\n",
       "COUPONPERCENT               57\n",
       "COUPONVALUE                 61\n",
       "COUPONDAYSPASSED             8\n",
       "COUPONDAYSREMAIN             8\n",
       "COUPONLENGTH                 8\n",
       "ISSUEDATE.1                141\n",
       "INITIALFACEVALUE             0\n",
       "SECSUBTYPE                2210\n",
       "STARTDATEMOEX              188\n",
       "DAYSTOREDEMPTION            28\n",
       "OFFERDATE                 1809\n",
       "EMITENTNAME                141\n",
       "INN                        141\n",
       "LOTSIZE                      0\n",
       "PRICE                      156\n",
       "PRICE_RUB                  156\n",
       "RTL1                      1604\n",
       "RTH1                       156\n",
       "RTL2                      1604\n",
       "RTH2                       156\n",
       "RTL3                      1659\n",
       "RTH3                       156\n",
       "DISCOUNT1                    0\n",
       "LIMIT1                    1604\n",
       "DISCOUNT2                 1604\n",
       "LIMIT2                    1604\n",
       "DISCOUNT3                 1604\n",
       "DISCOUNTL0                1461\n",
       "DISCOUNTH0                1461\n",
       "dtype: int64"
      ]
     },
     "execution_count": 217,
     "metadata": {},
     "output_type": "execute_result"
    }
   ],
   "source": [
    "\n",
    "bond_rub.isna().sum()"
   ]
  },
  {
   "cell_type": "markdown",
   "id": "4f0cc0cf",
   "metadata": {},
   "source": [
    "#### Количество \"пустых\" записей очень большое.Удалять все Nan из датафрейма не будем, чтобы не снижать объем выборки. В случае очистки bond_rub.dropna() в датасете останется ~ 20% записей от первоначального значения.\n",
    "#### Удалять Nan будем только из полей, которые используются в расчетах."
   ]
  },
  {
   "cell_type": "markdown",
   "id": "7b388056",
   "metadata": {},
   "source": [
    "#### Определяем количество записей в полях, необходимых для расчетов показателя Доходность, содержащих Nan"
   ]
  },
  {
   "cell_type": "code",
   "execution_count": 218,
   "id": "0c4161fc",
   "metadata": {},
   "outputs": [
    {
     "data": {
      "text/plain": [
       "COUPONPERCENT        57\n",
       "COUPONFREQUENCY     355\n",
       "COUPONLENGTH          8\n",
       "COUPONDAYSPASSED      8\n",
       "COUPONLENGTH          8\n",
       "dtype: int64"
      ]
     },
     "execution_count": 218,
     "metadata": {},
     "output_type": "execute_result"
    }
   ],
   "source": [
    "bond_rub[['COUPONPERCENT','COUPONFREQUENCY','COUPONLENGTH','COUPONDAYSPASSED', 'COUPONLENGTH']].isna().sum()"
   ]
  },
  {
   "cell_type": "markdown",
   "id": "92a7f86c",
   "metadata": {},
   "source": [
    "#### Выводим список наименований организаций, по которым в расчетных полях содержатся Nan. От данных записей будем очищать датафрейм, т.к. нет возможности достоверно заменить Nan на реальные значения"
   ]
  },
  {
   "cell_type": "code",
   "execution_count": 219,
   "id": "2eb6c875",
   "metadata": {},
   "outputs": [
    {
     "data": {
      "text/plain": [
       "14        \"НПФ\" ООО об.сер. 01\n",
       "23      Волга-Спорт АО обл. 01\n",
       "25         Uranium One Inc. 01\n",
       "138        Финстоун ООО об. 01\n",
       "152     Арчер Финанс ООО об.01\n",
       "                 ...          \n",
       "2664     BCS SP Plc Series 170\n",
       "2674     BCS SP Plc Series 189\n",
       "2677     BCS SP Plc Series 194\n",
       "2688     BCS SP Plc Series 208\n",
       "2694     BCS SP Plc Series 215\n",
       "Name: NAME, Length: 541, dtype: object"
      ]
     },
     "execution_count": 219,
     "metadata": {},
     "output_type": "execute_result"
    }
   ],
   "source": [
    "bond_rub['NAME'][pd.isnull(bond_rub['PRICE']) | pd.isnull(bond_rub['COUPONVALUE']) | pd.isnull(bond_rub['COUPONLENGTH']) | pd.isnull(bond_rub['COUPONPERCENT']) | pd.isnull(bond_rub['COUPONFREQUENCY'])]"
   ]
  },
  {
   "cell_type": "markdown",
   "id": "e8dad27a",
   "metadata": {},
   "source": [
    "#### Оставляем строки, не содержащие Nan в полях, которые будут использоваться в расчетах Доходности далее. "
   ]
  },
  {
   "cell_type": "code",
   "execution_count": 220,
   "id": "92e703cc",
   "metadata": {},
   "outputs": [],
   "source": [
    "bond_rub = bond_rub.dropna(subset = ['COUPONLENGTH', 'COUPONPERCENT', 'COUPONFREQUENCY','PRICE', 'COUPONVALUE'])\n",
    "bond_rub = bond_rub.reset_index(drop=True)"
   ]
  },
  {
   "cell_type": "markdown",
   "id": "b81a71d8",
   "metadata": {},
   "source": [
    "#### Количество записей в датафрейме, которые будем использовать для анализа"
   ]
  },
  {
   "cell_type": "code",
   "execution_count": 221,
   "id": "db311d6a",
   "metadata": {},
   "outputs": [
    {
     "data": {
      "text/plain": [
       "(1779, 53)"
      ]
     },
     "execution_count": 221,
     "metadata": {},
     "output_type": "execute_result"
    }
   ],
   "source": [
    "bond_rub.shape"
   ]
  },
  {
   "cell_type": "markdown",
   "id": "a7dcfe81",
   "metadata": {},
   "source": [
    "#### Проводим расчет накопленного купонного дохода NKD"
   ]
  },
  {
   "cell_type": "code",
   "execution_count": 222,
   "id": "3094747d",
   "metadata": {},
   "outputs": [],
   "source": [
    "bond_rub['NKD'] = bond_rub['COUPONDAYSPASSED']/bond_rub['COUPONLENGTH']"
   ]
  },
  {
   "cell_type": "code",
   "execution_count": 223,
   "id": "281a0ea9",
   "metadata": {},
   "outputs": [
    {
     "data": {
      "text/html": [
       "<div>\n",
       "<style scoped>\n",
       "    .dataframe tbody tr th:only-of-type {\n",
       "        vertical-align: middle;\n",
       "    }\n",
       "\n",
       "    .dataframe tbody tr th {\n",
       "        vertical-align: top;\n",
       "    }\n",
       "\n",
       "    .dataframe thead th {\n",
       "        text-align: right;\n",
       "    }\n",
       "</style>\n",
       "<table border=\"1\" class=\"dataframe\">\n",
       "  <thead>\n",
       "    <tr style=\"text-align: right;\">\n",
       "      <th></th>\n",
       "      <th>NKD</th>\n",
       "      <th>COUPONDAYSPASSED</th>\n",
       "      <th>COUPONLENGTH</th>\n",
       "    </tr>\n",
       "  </thead>\n",
       "  <tbody>\n",
       "    <tr>\n",
       "      <th>0</th>\n",
       "      <td>0.726776</td>\n",
       "      <td>133.0</td>\n",
       "      <td>183.0</td>\n",
       "    </tr>\n",
       "    <tr>\n",
       "      <th>1</th>\n",
       "      <td>0.560440</td>\n",
       "      <td>102.0</td>\n",
       "      <td>182.0</td>\n",
       "    </tr>\n",
       "    <tr>\n",
       "      <th>2</th>\n",
       "      <td>0.869565</td>\n",
       "      <td>160.0</td>\n",
       "      <td>184.0</td>\n",
       "    </tr>\n",
       "    <tr>\n",
       "      <th>3</th>\n",
       "      <td>0.204420</td>\n",
       "      <td>37.0</td>\n",
       "      <td>181.0</td>\n",
       "    </tr>\n",
       "    <tr>\n",
       "      <th>4</th>\n",
       "      <td>0.505495</td>\n",
       "      <td>92.0</td>\n",
       "      <td>182.0</td>\n",
       "    </tr>\n",
       "  </tbody>\n",
       "</table>\n",
       "</div>"
      ],
      "text/plain": [
       "        NKD  COUPONDAYSPASSED  COUPONLENGTH\n",
       "0  0.726776             133.0         183.0\n",
       "1  0.560440             102.0         182.0\n",
       "2  0.869565             160.0         184.0\n",
       "3  0.204420              37.0         181.0\n",
       "4  0.505495              92.0         182.0"
      ]
     },
     "execution_count": 223,
     "metadata": {},
     "output_type": "execute_result"
    }
   ],
   "source": [
    "bond_rub[['NKD','COUPONDAYSPASSED','COUPONLENGTH']].head()"
   ]
  },
  {
   "cell_type": "markdown",
   "id": "08d6d6ed",
   "metadata": {},
   "source": [
    "#### Очистка полей, необходимых для расчетов показателя Доходности от \"мусорных\" символов, оставляем только цифры и точку"
   ]
  },
  {
   "cell_type": "code",
   "execution_count": 224,
   "id": "b37e1837",
   "metadata": {},
   "outputs": [],
   "source": [
    "list = ['PRICE_RUB','PRICE','FACEVALUE','COUPONPERCENT','COUPONVALUE']\n",
    "for i in list:\n",
    "    bond_rub[i].replace(regex=True, inplace=True, to_replace=r'[^0-9,\\.\\-]',value=r'')\n",
    "    bond_rub[i] = bond_rub[i].str.replace(',', '.').astype(float)"
   ]
  },
  {
   "cell_type": "markdown",
   "id": "558f3946",
   "metadata": {},
   "source": [
    "#### Проводим расчет накопленного купонного дохода исходя из следующих рекомендаций\n",
    "Период расчета НКД: df['COUPONDAYSPASSED']/df['COUPONLENGTH'] , рекомендуется выбирать меньше или равный 0.2.\n",
    "Если удовлетворяет условию, полученная величина умножается на COUPONPERCENT/COUPONFREQUENCY.\n"
   ]
  },
  {
   "cell_type": "code",
   "execution_count": 225,
   "id": "e120c77d",
   "metadata": {},
   "outputs": [],
   "source": [
    "bond_rub['COUPON_K']=bond_rub['COUPONPERCENT']/bond_rub['COUPONFREQUENCY']"
   ]
  },
  {
   "cell_type": "code",
   "execution_count": 226,
   "id": "63683080",
   "metadata": {},
   "outputs": [],
   "source": [
    "bond_rub['NKD_02']=np.where(bond_rub['NKD']<= 0.2,bond_rub['NKD']*bond_rub['COUPON_K'],bond_rub['NKD'])"
   ]
  },
  {
   "cell_type": "markdown",
   "id": "318367b7",
   "metadata": {},
   "source": [
    "#### Проводим расчет Доходности исходя из следующих условий \n",
    "В общем случае процентный доход при ставке НДФЛ 13% будет:\n",
    "Profit =(Цена_Номинальная – Цена_покупки – НКД + 0.87*Купонный_доход_руб*X_лет)*100% /(Цена_покупки + НКД)\n",
    "(комиссией брокера пренебрегаем)"
   ]
  },
  {
   "cell_type": "markdown",
   "id": "e6acbdb0",
   "metadata": {},
   "source": [
    "#### Расчет Купонный доход в рублях"
   ]
  },
  {
   "cell_type": "code",
   "execution_count": 227,
   "id": "78fca787",
   "metadata": {},
   "outputs": [],
   "source": [
    "\n",
    "bond_rub['COUPONE_GANE']=(bond_rub['COUPONPERCENT']*bond_rub['FACEVALUE'])/100"
   ]
  },
  {
   "cell_type": "markdown",
   "id": "c1a7b4ab",
   "metadata": {},
   "source": [
    "#### Расчет НКД в рублях "
   ]
  },
  {
   "cell_type": "code",
   "execution_count": 228,
   "id": "97979cdd",
   "metadata": {},
   "outputs": [],
   "source": [
    "bond_rub['NKD_RUB']=(bond_rub['NKD_02']*bond_rub['FACEVALUE'])/100"
   ]
  },
  {
   "cell_type": "markdown",
   "id": "b735add0",
   "metadata": {},
   "source": [
    "#### Расчет дополнительного показателя  Прибыль/убыток  в рублях "
   ]
  },
  {
   "cell_type": "code",
   "execution_count": 229,
   "id": "6fe7d76b",
   "metadata": {},
   "outputs": [],
   "source": [
    "bond_rub['PROFIT_LOSS']= bond_rub['FACEVALUE'] - bond_rub['PRICE_RUB'] - bond_rub['NKD_RUB']"
   ]
  },
  {
   "cell_type": "code",
   "execution_count": 230,
   "id": "13634657",
   "metadata": {},
   "outputs": [
    {
     "data": {
      "text/html": [
       "<div>\n",
       "<style scoped>\n",
       "    .dataframe tbody tr th:only-of-type {\n",
       "        vertical-align: middle;\n",
       "    }\n",
       "\n",
       "    .dataframe tbody tr th {\n",
       "        vertical-align: top;\n",
       "    }\n",
       "\n",
       "    .dataframe thead th {\n",
       "        text-align: right;\n",
       "    }\n",
       "</style>\n",
       "<table border=\"1\" class=\"dataframe\">\n",
       "  <thead>\n",
       "    <tr style=\"text-align: right;\">\n",
       "      <th></th>\n",
       "      <th>FACEVALUE</th>\n",
       "      <th>PRICE</th>\n",
       "      <th>PRICE_RUB</th>\n",
       "      <th>NKD_02</th>\n",
       "      <th>NKD_RUB</th>\n",
       "      <th>PROFIT_LOSS</th>\n",
       "    </tr>\n",
       "  </thead>\n",
       "  <tbody>\n",
       "    <tr>\n",
       "      <th>1774</th>\n",
       "      <td>100000.0</td>\n",
       "      <td>80.99</td>\n",
       "      <td>80990.00</td>\n",
       "      <td>0.622951</td>\n",
       "      <td>622.950820</td>\n",
       "      <td>18387.049180</td>\n",
       "    </tr>\n",
       "    <tr>\n",
       "      <th>1775</th>\n",
       "      <td>100000.0</td>\n",
       "      <td>102.59</td>\n",
       "      <td>102590.00</td>\n",
       "      <td>0.677596</td>\n",
       "      <td>677.595628</td>\n",
       "      <td>-3267.595628</td>\n",
       "    </tr>\n",
       "    <tr>\n",
       "      <th>1776</th>\n",
       "      <td>100000.0</td>\n",
       "      <td>102.28</td>\n",
       "      <td>102280.00</td>\n",
       "      <td>0.620879</td>\n",
       "      <td>620.879121</td>\n",
       "      <td>-2900.879121</td>\n",
       "    </tr>\n",
       "    <tr>\n",
       "      <th>1777</th>\n",
       "      <td>100000.0</td>\n",
       "      <td>100.00</td>\n",
       "      <td>100812.50</td>\n",
       "      <td>0.808011</td>\n",
       "      <td>808.011050</td>\n",
       "      <td>-1620.511050</td>\n",
       "    </tr>\n",
       "    <tr>\n",
       "      <th>1778</th>\n",
       "      <td>100000.0</td>\n",
       "      <td>99.95</td>\n",
       "      <td>101650.83</td>\n",
       "      <td>0.429348</td>\n",
       "      <td>429.347826</td>\n",
       "      <td>-2080.177826</td>\n",
       "    </tr>\n",
       "  </tbody>\n",
       "</table>\n",
       "</div>"
      ],
      "text/plain": [
       "      FACEVALUE   PRICE  PRICE_RUB    NKD_02     NKD_RUB   PROFIT_LOSS\n",
       "1774   100000.0   80.99   80990.00  0.622951  622.950820  18387.049180\n",
       "1775   100000.0  102.59  102590.00  0.677596  677.595628  -3267.595628\n",
       "1776   100000.0  102.28  102280.00  0.620879  620.879121  -2900.879121\n",
       "1777   100000.0  100.00  100812.50  0.808011  808.011050  -1620.511050\n",
       "1778   100000.0   99.95  101650.83  0.429348  429.347826  -2080.177826"
      ]
     },
     "execution_count": 230,
     "metadata": {},
     "output_type": "execute_result"
    }
   ],
   "source": [
    "bond_rub[['FACEVALUE','PRICE','PRICE_RUB','NKD_02','NKD_RUB','PROFIT_LOSS']].tail()"
   ]
  },
  {
   "cell_type": "markdown",
   "id": "47736e25",
   "metadata": {},
   "source": [
    "#### Расчет купонного дохода с уплатой 13% НДФЛ в рублях"
   ]
  },
  {
   "cell_type": "code",
   "execution_count": 231,
   "id": "85881fe7",
   "metadata": {},
   "outputs": [],
   "source": [
    "bond_rub['COUPONE_GANE_NDFL'] = bond_rub['COUPONE_GANE'] * 0.87"
   ]
  },
  {
   "cell_type": "code",
   "execution_count": 232,
   "id": "0ecabcfc",
   "metadata": {},
   "outputs": [
    {
     "data": {
      "text/html": [
       "<div>\n",
       "<style scoped>\n",
       "    .dataframe tbody tr th:only-of-type {\n",
       "        vertical-align: middle;\n",
       "    }\n",
       "\n",
       "    .dataframe tbody tr th {\n",
       "        vertical-align: top;\n",
       "    }\n",
       "\n",
       "    .dataframe thead th {\n",
       "        text-align: right;\n",
       "    }\n",
       "</style>\n",
       "<table border=\"1\" class=\"dataframe\">\n",
       "  <thead>\n",
       "    <tr style=\"text-align: right;\">\n",
       "      <th></th>\n",
       "      <th>FACEVALUE</th>\n",
       "      <th>PRICE</th>\n",
       "      <th>PRICE_RUB</th>\n",
       "      <th>NKD_02</th>\n",
       "      <th>NKD_RUB</th>\n",
       "      <th>PROFIT_LOSS</th>\n",
       "      <th>COUPONPERCENT</th>\n",
       "      <th>COUPONE_GANE</th>\n",
       "      <th>COUPONE_GANE_NDFL</th>\n",
       "    </tr>\n",
       "  </thead>\n",
       "  <tbody>\n",
       "    <tr>\n",
       "      <th>0</th>\n",
       "      <td>1000.0</td>\n",
       "      <td>99.34</td>\n",
       "      <td>1015.26</td>\n",
       "      <td>0.726776</td>\n",
       "      <td>7.267760</td>\n",
       "      <td>-22.527760</td>\n",
       "      <td>6.00</td>\n",
       "      <td>60.0</td>\n",
       "      <td>52.200</td>\n",
       "    </tr>\n",
       "    <tr>\n",
       "      <th>1</th>\n",
       "      <td>1000.0</td>\n",
       "      <td>99.76</td>\n",
       "      <td>1019.54</td>\n",
       "      <td>0.560440</td>\n",
       "      <td>5.604396</td>\n",
       "      <td>-25.144396</td>\n",
       "      <td>7.85</td>\n",
       "      <td>78.5</td>\n",
       "      <td>68.295</td>\n",
       "    </tr>\n",
       "    <tr>\n",
       "      <th>2</th>\n",
       "      <td>1000.0</td>\n",
       "      <td>103.93</td>\n",
       "      <td>1072.18</td>\n",
       "      <td>0.869565</td>\n",
       "      <td>8.695652</td>\n",
       "      <td>-80.875652</td>\n",
       "      <td>7.50</td>\n",
       "      <td>75.0</td>\n",
       "      <td>65.250</td>\n",
       "    </tr>\n",
       "    <tr>\n",
       "      <th>3</th>\n",
       "      <td>1000.0</td>\n",
       "      <td>112.07</td>\n",
       "      <td>1130.08</td>\n",
       "      <td>0.204420</td>\n",
       "      <td>2.044199</td>\n",
       "      <td>-132.124199</td>\n",
       "      <td>9.25</td>\n",
       "      <td>92.5</td>\n",
       "      <td>80.475</td>\n",
       "    </tr>\n",
       "    <tr>\n",
       "      <th>4</th>\n",
       "      <td>1000.0</td>\n",
       "      <td>100.18</td>\n",
       "      <td>1021.59</td>\n",
       "      <td>0.505495</td>\n",
       "      <td>5.054945</td>\n",
       "      <td>-26.644945</td>\n",
       "      <td>7.85</td>\n",
       "      <td>78.5</td>\n",
       "      <td>68.295</td>\n",
       "    </tr>\n",
       "  </tbody>\n",
       "</table>\n",
       "</div>"
      ],
      "text/plain": [
       "   FACEVALUE   PRICE  PRICE_RUB    NKD_02   NKD_RUB  PROFIT_LOSS  \\\n",
       "0     1000.0   99.34    1015.26  0.726776  7.267760   -22.527760   \n",
       "1     1000.0   99.76    1019.54  0.560440  5.604396   -25.144396   \n",
       "2     1000.0  103.93    1072.18  0.869565  8.695652   -80.875652   \n",
       "3     1000.0  112.07    1130.08  0.204420  2.044199  -132.124199   \n",
       "4     1000.0  100.18    1021.59  0.505495  5.054945   -26.644945   \n",
       "\n",
       "   COUPONPERCENT  COUPONE_GANE  COUPONE_GANE_NDFL  \n",
       "0           6.00          60.0             52.200  \n",
       "1           7.85          78.5             68.295  \n",
       "2           7.50          75.0             65.250  \n",
       "3           9.25          92.5             80.475  \n",
       "4           7.85          78.5             68.295  "
      ]
     },
     "execution_count": 232,
     "metadata": {},
     "output_type": "execute_result"
    }
   ],
   "source": [
    "bond_rub[['FACEVALUE','PRICE','PRICE_RUB','NKD_02','NKD_RUB','PROFIT_LOSS','COUPONPERCENT','COUPONE_GANE','COUPONE_GANE_NDFL']].head()"
   ]
  },
  {
   "cell_type": "markdown",
   "id": "60b6fb12",
   "metadata": {},
   "source": [
    "#### Расчет показателя Доходность в рублях"
   ]
  },
  {
   "cell_type": "code",
   "execution_count": 233,
   "id": "ca2ff4b1",
   "metadata": {},
   "outputs": [],
   "source": [
    "bond_rub['PROFIT']=(bond_rub['PROFIT_LOSS'] + (bond_rub['COUPONE_GANE_NDFL'])) * 100 / (bond_rub['PRICE_RUB'] + bond_rub['NKD_RUB'] )"
   ]
  },
  {
   "cell_type": "code",
   "execution_count": 234,
   "id": "a27fc52d",
   "metadata": {},
   "outputs": [
    {
     "data": {
      "text/html": [
       "<div>\n",
       "<style scoped>\n",
       "    .dataframe tbody tr th:only-of-type {\n",
       "        vertical-align: middle;\n",
       "    }\n",
       "\n",
       "    .dataframe tbody tr th {\n",
       "        vertical-align: top;\n",
       "    }\n",
       "\n",
       "    .dataframe thead th {\n",
       "        text-align: right;\n",
       "    }\n",
       "</style>\n",
       "<table border=\"1\" class=\"dataframe\">\n",
       "  <thead>\n",
       "    <tr style=\"text-align: right;\">\n",
       "      <th></th>\n",
       "      <th>FACEVALUE</th>\n",
       "      <th>PRICE_RUB</th>\n",
       "      <th>NKD_RUB</th>\n",
       "      <th>PROFIT_LOSS</th>\n",
       "      <th>COUPONPERCENT</th>\n",
       "      <th>COUPONE_GANE_NDFL</th>\n",
       "      <th>PROFIT</th>\n",
       "    </tr>\n",
       "  </thead>\n",
       "  <tbody>\n",
       "    <tr>\n",
       "      <th>1774</th>\n",
       "      <td>100000.0</td>\n",
       "      <td>80990.00</td>\n",
       "      <td>622.950820</td>\n",
       "      <td>18387.049180</td>\n",
       "      <td>8.000</td>\n",
       "      <td>6960.00</td>\n",
       "      <td>31.057631</td>\n",
       "    </tr>\n",
       "    <tr>\n",
       "      <th>1775</th>\n",
       "      <td>100000.0</td>\n",
       "      <td>102590.00</td>\n",
       "      <td>677.595628</td>\n",
       "      <td>-3267.595628</td>\n",
       "      <td>9.000</td>\n",
       "      <td>7830.00</td>\n",
       "      <td>4.418041</td>\n",
       "    </tr>\n",
       "    <tr>\n",
       "      <th>1776</th>\n",
       "      <td>100000.0</td>\n",
       "      <td>102280.00</td>\n",
       "      <td>620.879121</td>\n",
       "      <td>-2900.879121</td>\n",
       "      <td>8.500</td>\n",
       "      <td>7395.00</td>\n",
       "      <td>4.367427</td>\n",
       "    </tr>\n",
       "    <tr>\n",
       "      <th>1777</th>\n",
       "      <td>100000.0</td>\n",
       "      <td>100812.50</td>\n",
       "      <td>808.011050</td>\n",
       "      <td>-1620.511050</td>\n",
       "      <td>8.125</td>\n",
       "      <td>7068.75</td>\n",
       "      <td>5.361358</td>\n",
       "    </tr>\n",
       "    <tr>\n",
       "      <th>1778</th>\n",
       "      <td>100000.0</td>\n",
       "      <td>101650.83</td>\n",
       "      <td>429.347826</td>\n",
       "      <td>-2080.177826</td>\n",
       "      <td>7.850</td>\n",
       "      <td>6829.50</td>\n",
       "      <td>4.652541</td>\n",
       "    </tr>\n",
       "  </tbody>\n",
       "</table>\n",
       "</div>"
      ],
      "text/plain": [
       "      FACEVALUE  PRICE_RUB     NKD_RUB   PROFIT_LOSS  COUPONPERCENT  \\\n",
       "1774   100000.0   80990.00  622.950820  18387.049180          8.000   \n",
       "1775   100000.0  102590.00  677.595628  -3267.595628          9.000   \n",
       "1776   100000.0  102280.00  620.879121  -2900.879121          8.500   \n",
       "1777   100000.0  100812.50  808.011050  -1620.511050          8.125   \n",
       "1778   100000.0  101650.83  429.347826  -2080.177826          7.850   \n",
       "\n",
       "      COUPONE_GANE_NDFL     PROFIT  \n",
       "1774            6960.00  31.057631  \n",
       "1775            7830.00   4.418041  \n",
       "1776            7395.00   4.367427  \n",
       "1777            7068.75   5.361358  \n",
       "1778            6829.50   4.652541  "
      ]
     },
     "execution_count": 234,
     "metadata": {},
     "output_type": "execute_result"
    }
   ],
   "source": [
    "bond_rub[['FACEVALUE','PRICE_RUB','NKD_RUB','PROFIT_LOSS','COUPONPERCENT','COUPONE_GANE_NDFL','PROFIT']].tail()"
   ]
  },
  {
   "cell_type": "markdown",
   "id": "fa4f20e3",
   "metadata": {},
   "source": [
    "#### Для дальнейшего анализа оставляем только доходные ценные бумаги и определяем объем полученных данных"
   ]
  },
  {
   "cell_type": "code",
   "execution_count": 235,
   "id": "ff103abd",
   "metadata": {},
   "outputs": [],
   "source": [
    "bond_rub = bond_rub[(bond_rub['PROFIT'] > 0)] "
   ]
  },
  {
   "cell_type": "code",
   "execution_count": 236,
   "id": "9321fa8b",
   "metadata": {},
   "outputs": [
    {
     "data": {
      "text/plain": [
       "(1635, 61)"
      ]
     },
     "execution_count": 236,
     "metadata": {},
     "output_type": "execute_result"
    }
   ],
   "source": [
    "bond_rub.shape"
   ]
  },
  {
   "cell_type": "markdown",
   "id": "969344a0",
   "metadata": {},
   "source": [
    "#### На основании анализа рынка доходных облигаций в 2021 (длинных и коротких) определено, что эффективная доходность к погашению в % годовых колеблется от 4.2 до 8.5 % На основании вышепреведенных данных, оставляем значения эффективной доходности в  диапазоне от 7% ( КeyRate)  до  ~ 20 (выше статистической, но убираем выбросы, связанные с влиянием котировки облигаций)  "
   ]
  },
  {
   "cell_type": "code",
   "execution_count": 237,
   "id": "25baf395",
   "metadata": {},
   "outputs": [
    {
     "data": {
      "text/plain": [
       "8633.965163147792"
      ]
     },
     "execution_count": 237,
     "metadata": {},
     "output_type": "execute_result"
    }
   ],
   "source": [
    "bond_rub['PROFIT'].max()"
   ]
  },
  {
   "cell_type": "markdown",
   "id": "c4cd123b",
   "metadata": {},
   "source": [
    "#### C сайта ЦБ РФ получаем ключевую ставку"
   ]
  },
  {
   "cell_type": "code",
   "execution_count": 238,
   "id": "f5e76c27",
   "metadata": {},
   "outputs": [
    {
     "name": "stdout",
     "output_type": "stream",
     "text": [
      "6.75\n"
     ]
    }
   ],
   "source": [
    "def kget_kl_stavka():\n",
    "    kluch_url = f'https://www.cbr.ru/hd_base/KeyRate/?UniDbQuery.Posted=True&UniDbQuery.From='+\"{}\".format((datetime.today().strftime(\"%d.%m.%Y\")))+'&UniDbQuery.To='+\"{}\".format((datetime.today().strftime(\"%d.%m.%Y\")))\n",
    "    s_kluch=requests.get(kluch_url).content\n",
    "    soup = BeautifulSoup(str(s_kluch), 'lxml')\n",
    "    soup.find_all(soup.td)\n",
    "    qwe = soup.select('td:nth-child(2)')\n",
    "    regex = re.compile('[^0-9,\\.\\-]')\n",
    "    return(regex.sub('', str(qwe)))\n",
    "\n",
    "KeyRate=float(kget_kl_stavka().replace(',', '.'))\n",
    "print(KeyRate)"
   ]
  },
  {
   "cell_type": "code",
   "execution_count": 239,
   "id": "7b40dae4",
   "metadata": {},
   "outputs": [],
   "source": [
    "bond_rub = bond_rub[(bond_rub['PROFIT'] <= 20) & (bond_rub['COUPONPERCENT'] >= KeyRate)]"
   ]
  },
  {
   "cell_type": "code",
   "execution_count": 240,
   "id": "43d86c10",
   "metadata": {},
   "outputs": [
    {
     "data": {
      "text/plain": [
       "19.614050660548557"
      ]
     },
     "execution_count": 240,
     "metadata": {},
     "output_type": "execute_result"
    }
   ],
   "source": [
    "bond_rub['PROFIT'].max()"
   ]
  },
  {
   "cell_type": "markdown",
   "id": "b958ad8a",
   "metadata": {},
   "source": [
    "#### Анализируем количество записей, оставшееся в датафрейме"
   ]
  },
  {
   "cell_type": "code",
   "execution_count": 241,
   "id": "db7955fa",
   "metadata": {},
   "outputs": [
    {
     "data": {
      "text/plain": [
       "(1098, 61)"
      ]
     },
     "execution_count": 241,
     "metadata": {},
     "output_type": "execute_result"
    }
   ],
   "source": [
    "bond_rub.shape"
   ]
  },
  {
   "cell_type": "markdown",
   "id": "dc2fe8ce",
   "metadata": {},
   "source": [
    "#### Определяем количество кластеров. Для анализа отобраны столбцы, влияющие на доходность\n",
    "#### При кластеризации методом k-средних количество кластеров чаще всего оценивают с помощью «метода локтя»"
   ]
  },
  {
   "cell_type": "code",
   "execution_count": 242,
   "id": "b7387811",
   "metadata": {},
   "outputs": [
    {
     "data": {
      "image/png": "[encoded data removed]",
      "text/plain": [
       "<Figure size 432x288 with 1 Axes>"
      ]
     },
     "metadata": {
      "needs_background": "light"
     },
     "output_type": "display_data"
    },
    {
     "name": "stdout",
     "output_type": "stream",
     "text": [
      "Вывод - делим на 3 кластера\n"
     ]
    }
   ],
   "source": [
    "SSE = []\n",
    "for k in range(1,9):\n",
    "    estimator = KMeans (n_clusters = k) \n",
    "    estimator.fit(bond_rub[['PROFIT','NKD_RUB']])\n",
    "    SSE.append(estimator.inertia_)\n",
    "    X = range(1,9)\n",
    "\n",
    "plt.xlabel('klasters')\n",
    "plt.ylabel('SSE')\n",
    "plt.plot(X,SSE,'o-')\n",
    "plt.show()\n",
    "print('Вывод - делим на 3 кластера')\n"
   ]
  },
  {
   "cell_type": "markdown",
   "id": "6f591ad0",
   "metadata": {},
   "source": [
    "#### Выполняем кластеризацию по К-средних"
   ]
  },
  {
   "cell_type": "code",
   "execution_count": 243,
   "id": "8fac84e3",
   "metadata": {},
   "outputs": [
    {
     "data": {
      "text/plain": [
       "0    1083\n",
       "1      10\n",
       "2       5\n",
       "Name: ClusterID, dtype: int64"
      ]
     },
     "execution_count": 243,
     "metadata": {},
     "output_type": "execute_result"
    }
   ],
   "source": [
    "kmeans = KMeans(n_clusters=3)\n",
    "pred=kmeans.fit_predict(bond_rub[['PROFIT','NKD_RUB']])\n",
    "bond_rub['ClusterID'] = pred\n",
    "bond_rub.ClusterID.value_counts(normalize=False)"
   ]
  },
  {
   "cell_type": "markdown",
   "id": "b124eae4",
   "metadata": {},
   "source": [
    "#### Среднее значение доходности для каждого из кластеров"
   ]
  },
  {
   "cell_type": "code",
   "execution_count": 244,
   "id": "f8d6f6c6",
   "metadata": {},
   "outputs": [
    {
     "name": "stdout",
     "output_type": "stream",
     "text": [
      "5.8827507717410965\n",
      "5.177732722883182\n",
      "7.664880577564228\n"
     ]
    }
   ],
   "source": [
    "print((bond_rub['PROFIT'].iloc[np.where(bond_rub.ClusterID==0)]).mean())\n",
    "print((bond_rub['PROFIT'].iloc[np.where(bond_rub.ClusterID==1)]).mean())\n",
    "print((bond_rub['PROFIT'].iloc[np.where(bond_rub.ClusterID==2)]).mean())\n"
   ]
  },
  {
   "cell_type": "markdown",
   "id": "102c5169",
   "metadata": {},
   "source": [
    "#### Строим диаграмму распределения кластеров по средним значениям доходности"
   ]
  },
  {
   "cell_type": "code",
   "execution_count": 245,
   "id": "2ce2b214",
   "metadata": {},
   "outputs": [
    {
     "data": {
      "image/png": "[encoded data removed]",
      "text/plain": [
       "<Figure size 864x504 with 1 Axes>"
      ]
     },
     "metadata": {
      "needs_background": "light"
     },
     "output_type": "display_data"
    }
   ],
   "source": [
    "y = bond_rub[['PROFIT', 'ClusterID']].groupby('ClusterID').mean()\n",
    "plt.figure(figsize=(12, 7))\n",
    "plt.xlabel('Кластеры', fontsize=15, color='blue')\n",
    "plt.ylabel('Доходность', fontsize=15, color='blue')\n",
    "plt.xticks([0,1,2])\n",
    "plt.plot( y, 'o-b', alpha=0.7, label=\"Доходность в разрезе кластеров\", lw=7, mec='b', mew=2, ms=12)\n",
    "# plt.plot(x, y2, 'v-.g', label=\"second\", mec='r', lw=2, mew=2, ms=12)\n",
    "plt.legend()\n",
    "plt.grid(True)"
   ]
  },
  {
   "cell_type": "markdown",
   "id": "3b3659d4",
   "metadata": {},
   "source": [
    "#### Распределение значений в разрезе по кластерам"
   ]
  },
  {
   "cell_type": "code",
   "execution_count": 246,
   "id": "6afae7b2",
   "metadata": {},
   "outputs": [
    {
     "name": "stdout",
     "output_type": "stream",
     "text": [
      "[[5.88275077e+00 3.75068025e+01]\n",
      " [5.17773272e+00 6.47126644e+04]\n",
      " [7.66488058e+00 2.90090137e+04]]\n"
     ]
    }
   ],
   "source": [
    "X = bond_rub[['PROFIT','NKD_RUB',]].to_numpy()\n",
    "kmeans = KMeans(n_clusters=3) \n",
    "kmeans.fit(X)\n",
    "print(kmeans.cluster_centers_)"
   ]
  },
  {
   "cell_type": "code",
   "execution_count": 247,
   "id": "bbe44c37",
   "metadata": {},
   "outputs": [
    {
     "data": {
      "text/plain": [
       "<matplotlib.collections.PathCollection at 0x212c0fe8d30>"
      ]
     },
     "execution_count": 247,
     "metadata": {},
     "output_type": "execute_result"
    },
    {
     "data": {
      "image/png": "[encoded data removed]",
      "text/plain": [
       "<Figure size 432x288 with 1 Axes>"
      ]
     },
     "metadata": {
      "needs_background": "light"
     },
     "output_type": "display_data"
    }
   ],
   "source": [
    "plt.scatter(X[:,0],X[:,1], c=kmeans.labels_, cmap='rainbow')"
   ]
  },
  {
   "cell_type": "markdown",
   "id": "d66933b7",
   "metadata": {},
   "source": [
    "#### Топ 5 компаний в разрезе кластеров"
   ]
  },
  {
   "cell_type": "code",
   "execution_count": 248,
   "id": "aac0bf81",
   "metadata": {},
   "outputs": [],
   "source": [
    "top_cl2 = bond_rub[['PROFIT', 'NAME','ClusterID']].iloc[np.where(bond_rub.ClusterID==2)]\n",
    "top_cl1 = bond_rub[['PROFIT', 'NAME','ClusterID']].iloc[np.where(bond_rub.ClusterID==1)]\n",
    "top_cl0 = bond_rub[['PROFIT', 'NAME','ClusterID']].iloc[np.where(bond_rub.ClusterID==0)]"
   ]
  },
  {
   "cell_type": "markdown",
   "id": "29926896",
   "metadata": {},
   "source": [
    "#### Топ 5 компаний по кластеру 2"
   ]
  },
  {
   "cell_type": "code",
   "execution_count": 249,
   "id": "11f0ccf1",
   "metadata": {},
   "outputs": [
    {
     "data": {
      "text/html": [
       "<div>\n",
       "<style scoped>\n",
       "    .dataframe tbody tr th:only-of-type {\n",
       "        vertical-align: middle;\n",
       "    }\n",
       "\n",
       "    .dataframe tbody tr th {\n",
       "        vertical-align: top;\n",
       "    }\n",
       "\n",
       "    .dataframe thead th {\n",
       "        text-align: right;\n",
       "    }\n",
       "</style>\n",
       "<table border=\"1\" class=\"dataframe\">\n",
       "  <thead>\n",
       "    <tr style=\"text-align: right;\">\n",
       "      <th></th>\n",
       "      <th>PROFIT</th>\n",
       "      <th>NAME</th>\n",
       "      <th>ClusterID</th>\n",
       "    </tr>\n",
       "  </thead>\n",
       "  <tbody>\n",
       "    <tr>\n",
       "      <th>1304</th>\n",
       "      <td>15.574440</td>\n",
       "      <td>Банк ВТБ ПАО СУБ-Т2-1</td>\n",
       "      <td>2</td>\n",
       "    </tr>\n",
       "    <tr>\n",
       "      <th>1305</th>\n",
       "      <td>8.961127</td>\n",
       "      <td>Банк ВТБ ПАО СУБ-Т2-2</td>\n",
       "      <td>2</td>\n",
       "    </tr>\n",
       "    <tr>\n",
       "      <th>1669</th>\n",
       "      <td>6.341475</td>\n",
       "      <td>Газпром капитал ООО 001Б-03</td>\n",
       "      <td>2</td>\n",
       "    </tr>\n",
       "    <tr>\n",
       "      <th>1660</th>\n",
       "      <td>6.309325</td>\n",
       "      <td>Сбербанк 002СУБ-03R</td>\n",
       "      <td>2</td>\n",
       "    </tr>\n",
       "    <tr>\n",
       "      <th>804</th>\n",
       "      <td>1.138036</td>\n",
       "      <td>АЛЬФА-БАНК С01-01</td>\n",
       "      <td>2</td>\n",
       "    </tr>\n",
       "  </tbody>\n",
       "</table>\n",
       "</div>"
      ],
      "text/plain": [
       "         PROFIT                         NAME  ClusterID\n",
       "1304  15.574440        Банк ВТБ ПАО СУБ-Т2-1          2\n",
       "1305   8.961127        Банк ВТБ ПАО СУБ-Т2-2          2\n",
       "1669   6.341475  Газпром капитал ООО 001Б-03          2\n",
       "1660   6.309325          Сбербанк 002СУБ-03R          2\n",
       "804    1.138036            АЛЬФА-БАНК С01-01          2"
      ]
     },
     "execution_count": 249,
     "metadata": {},
     "output_type": "execute_result"
    }
   ],
   "source": [
    "Top_5_cluster_2 = top_cl2.sort_values(by='PROFIT',ascending=False).head()\n",
    "Top_5_cluster_2.head()"
   ]
  },
  {
   "cell_type": "code",
   "execution_count": 250,
   "id": "3d91fd60",
   "metadata": {},
   "outputs": [
    {
     "data": {
      "image/png": "[encoded data removed]",
      "text/plain": [
       "<Figure size 432x288 with 1 Axes>"
      ]
     },
     "metadata": {
      "needs_background": "light"
     },
     "output_type": "display_data"
    }
   ],
   "source": [
    "emitents =Top_5_cluster_2['NAME']\n",
    "profit = Top_5_cluster_2['PROFIT']\n",
    "fig, ax = plt.subplots()\n",
    "plt.bar(emitents, profit)\n",
    "plt.axhline(y=KeyRate, color = 'y')\n",
    "plt.plot([KeyRate],'y',label='KeyRate')\n",
    "plt.legend()\n",
    "plt.title(\"TOP_5_emitents! Cluster_2\")\n",
    "plt.xlabel(\"emitents\")\n",
    "plt.ylabel(\"profit\")\n",
    "fig.autofmt_xdate()"
   ]
  },
  {
   "cell_type": "markdown",
   "id": "ff774352",
   "metadata": {},
   "source": [
    "#### Топ 5 компаний по кластеру 1"
   ]
  },
  {
   "cell_type": "code",
   "execution_count": 251,
   "id": "5b22d8e5",
   "metadata": {},
   "outputs": [
    {
     "data": {
      "text/html": [
       "<div>\n",
       "<style scoped>\n",
       "    .dataframe tbody tr th:only-of-type {\n",
       "        vertical-align: middle;\n",
       "    }\n",
       "\n",
       "    .dataframe tbody tr th {\n",
       "        vertical-align: top;\n",
       "    }\n",
       "\n",
       "    .dataframe thead th {\n",
       "        text-align: right;\n",
       "    }\n",
       "</style>\n",
       "<table border=\"1\" class=\"dataframe\">\n",
       "  <thead>\n",
       "    <tr style=\"text-align: right;\">\n",
       "      <th></th>\n",
       "      <th>PROFIT</th>\n",
       "      <th>NAME</th>\n",
       "      <th>ClusterID</th>\n",
       "    </tr>\n",
       "  </thead>\n",
       "  <tbody>\n",
       "    <tr>\n",
       "      <th>1397</th>\n",
       "      <td>12.657152</td>\n",
       "      <td>Сбербанк 002СУБ-02R</td>\n",
       "      <td>1</td>\n",
       "    </tr>\n",
       "    <tr>\n",
       "      <th>1681</th>\n",
       "      <td>8.036229</td>\n",
       "      <td>Банк ВТБ ПАО СУБ-Т1-12</td>\n",
       "      <td>1</td>\n",
       "    </tr>\n",
       "    <tr>\n",
       "      <th>1680</th>\n",
       "      <td>7.668902</td>\n",
       "      <td>Банк ВТБ ПАО СУБ-Т1-11</td>\n",
       "      <td>1</td>\n",
       "    </tr>\n",
       "    <tr>\n",
       "      <th>949</th>\n",
       "      <td>5.923921</td>\n",
       "      <td>Банк ВТБ ПАО Т2-3</td>\n",
       "      <td>1</td>\n",
       "    </tr>\n",
       "    <tr>\n",
       "      <th>1558</th>\n",
       "      <td>4.127877</td>\n",
       "      <td>Банк ВТБ ПАО СУБ-Т1-5</td>\n",
       "      <td>1</td>\n",
       "    </tr>\n",
       "  </tbody>\n",
       "</table>\n",
       "</div>"
      ],
      "text/plain": [
       "         PROFIT                    NAME  ClusterID\n",
       "1397  12.657152     Сбербанк 002СУБ-02R          1\n",
       "1681   8.036229  Банк ВТБ ПАО СУБ-Т1-12          1\n",
       "1680   7.668902  Банк ВТБ ПАО СУБ-Т1-11          1\n",
       "949    5.923921       Банк ВТБ ПАО Т2-3          1\n",
       "1558   4.127877   Банк ВТБ ПАО СУБ-Т1-5          1"
      ]
     },
     "execution_count": 251,
     "metadata": {},
     "output_type": "execute_result"
    }
   ],
   "source": [
    "Top_5_cluster_1 = top_cl1.sort_values(by='PROFIT',ascending=False).head()\n",
    "Top_5_cluster_1.head()"
   ]
  },
  {
   "cell_type": "code",
   "execution_count": 252,
   "id": "811900c8",
   "metadata": {},
   "outputs": [
    {
     "data": {
      "image/png": "[encoded data removed]",
      "text/plain": [
       "<Figure size 432x288 with 1 Axes>"
      ]
     },
     "metadata": {
      "needs_background": "light"
     },
     "output_type": "display_data"
    }
   ],
   "source": [
    "emitents =Top_5_cluster_1['NAME']\n",
    "profit = Top_5_cluster_1['PROFIT']\n",
    "fig, ax = plt.subplots()\n",
    "plt.bar(emitents, profit)\n",
    "plt.axhline(y=KeyRate, color = 'y')\n",
    "plt.plot([KeyRate],'y',label='KeyRate')\n",
    "plt.legend()\n",
    "plt.title(\"TOP_5_emitents! Cluster_1\")\n",
    "plt.xlabel(\"emitents\")\n",
    "plt.ylabel(\"profit\")\n",
    "fig.autofmt_xdate()"
   ]
  },
  {
   "cell_type": "markdown",
   "id": "2ce93aae",
   "metadata": {},
   "source": [
    "#### Топ 5 компаний по кластеру 0"
   ]
  },
  {
   "cell_type": "code",
   "execution_count": 253,
   "id": "3cdbcb58",
   "metadata": {},
   "outputs": [
    {
     "data": {
      "text/html": [
       "<div>\n",
       "<style scoped>\n",
       "    .dataframe tbody tr th:only-of-type {\n",
       "        vertical-align: middle;\n",
       "    }\n",
       "\n",
       "    .dataframe tbody tr th {\n",
       "        vertical-align: top;\n",
       "    }\n",
       "\n",
       "    .dataframe thead th {\n",
       "        text-align: right;\n",
       "    }\n",
       "</style>\n",
       "<table border=\"1\" class=\"dataframe\">\n",
       "  <thead>\n",
       "    <tr style=\"text-align: right;\">\n",
       "      <th></th>\n",
       "      <th>PROFIT</th>\n",
       "      <th>NAME</th>\n",
       "      <th>ClusterID</th>\n",
       "    </tr>\n",
       "  </thead>\n",
       "  <tbody>\n",
       "    <tr>\n",
       "      <th>1765</th>\n",
       "      <td>19.614051</td>\n",
       "      <td>BCS SP Plc Series 92</td>\n",
       "      <td>0</td>\n",
       "    </tr>\n",
       "    <tr>\n",
       "      <th>1444</th>\n",
       "      <td>16.335696</td>\n",
       "      <td>ОР ООО 001P-04</td>\n",
       "      <td>0</td>\n",
       "    </tr>\n",
       "    <tr>\n",
       "      <th>1755</th>\n",
       "      <td>16.263338</td>\n",
       "      <td>BCS SP Plc Series 51</td>\n",
       "      <td>0</td>\n",
       "    </tr>\n",
       "    <tr>\n",
       "      <th>1754</th>\n",
       "      <td>15.237833</td>\n",
       "      <td>BCS SP Plc Series 42</td>\n",
       "      <td>0</td>\n",
       "    </tr>\n",
       "    <tr>\n",
       "      <th>1767</th>\n",
       "      <td>14.853121</td>\n",
       "      <td>BCS SP Plc Series 2020-16</td>\n",
       "      <td>0</td>\n",
       "    </tr>\n",
       "  </tbody>\n",
       "</table>\n",
       "</div>"
      ],
      "text/plain": [
       "         PROFIT                       NAME  ClusterID\n",
       "1765  19.614051       BCS SP Plc Series 92          0\n",
       "1444  16.335696             ОР ООО 001P-04          0\n",
       "1755  16.263338       BCS SP Plc Series 51          0\n",
       "1754  15.237833       BCS SP Plc Series 42          0\n",
       "1767  14.853121  BCS SP Plc Series 2020-16          0"
      ]
     },
     "execution_count": 253,
     "metadata": {},
     "output_type": "execute_result"
    }
   ],
   "source": [
    "Top_5_cluster_0 = top_cl0.sort_values(by='PROFIT',ascending=False).head()\n",
    "Top_5_cluster_0"
   ]
  },
  {
   "cell_type": "code",
   "execution_count": 254,
   "id": "cdea869a",
   "metadata": {},
   "outputs": [
    {
     "data": {
      "image/png": "[encoded data removed]",
      "text/plain": [
       "<Figure size 432x288 with 1 Axes>"
      ]
     },
     "metadata": {
      "needs_background": "light"
     },
     "output_type": "display_data"
    }
   ],
   "source": [
    "emitents =Top_5_cluster_0['NAME']\n",
    "profit = Top_5_cluster_0['PROFIT']\n",
    "fig, ax = plt.subplots()\n",
    "plt.bar(emitents, profit)\n",
    "plt.axhline(y=KeyRate, color = 'y')\n",
    "plt.plot([KeyRate],'y',label='KeyRate')\n",
    "plt.legend()\n",
    "plt.title(\"TOP_5_emitents! Cluster_0\")\n",
    "plt.xlabel(\"emitents\")\n",
    "plt.ylabel(\"profit\")\n",
    "fig.autofmt_xdate()"
   ]
  },
  {
   "cell_type": "markdown",
   "id": "aabd1e09",
   "metadata": {},
   "source": [
    "#### Проводим расчет даты, исходя из условия по периоду 20% от текущей даты "
   ]
  },
  {
   "cell_type": "code",
   "execution_count": 255,
   "id": "cda4dc5f",
   "metadata": {},
   "outputs": [],
   "source": [
    "bond_rub['COUPONDAYSPASSED_0.20']= round(bond_rub['COUPONDAYSPASSED'] * 0.20)"
   ]
  },
  {
   "cell_type": "markdown",
   "id": "1b302fa3",
   "metadata": {},
   "source": [
    "#### Рассчитываем дату промежуточной выплаты по купонам не более 20% купонного периода назад до текущей даты"
   ]
  },
  {
   "cell_type": "code",
   "execution_count": 256,
   "id": "cce279ce",
   "metadata": {},
   "outputs": [],
   "source": [
    "list_date = []\n",
    " \n",
    "for index, row in bond_rub.iterrows():\n",
    "    list_date.append(date.today() - timedelta(days=row['COUPONDAYSPASSED_0.20']))\n",
    "bond_rub['date_NEW'] = list_date"
   ]
  },
  {
   "cell_type": "markdown",
   "id": "1c78c4d4",
   "metadata": {},
   "source": [
    "#### Приводим  формат столбцов с датами к типу datetime"
   ]
  },
  {
   "cell_type": "code",
   "execution_count": 257,
   "id": "11175753",
   "metadata": {},
   "outputs": [],
   "source": [
    "bond_rub['ISSUEDATE'] = pd.to_datetime(bond_rub['ISSUEDATE'])\n",
    "bond_rub['date_NEW'] = pd.to_datetime(bond_rub['date_NEW'])\n",
    "bond_rub['COUPONDATE'] = pd.to_datetime(bond_rub['COUPONDATE'])"
   ]
  },
  {
   "cell_type": "code",
   "execution_count": 258,
   "id": "630a4c90",
   "metadata": {},
   "outputs": [
    {
     "data": {
      "text/plain": [
       "date_NEW      datetime64[ns]\n",
       "ISSUEDATE     datetime64[ns]\n",
       "COUPONDATE    datetime64[ns]\n",
       "dtype: object"
      ]
     },
     "execution_count": 258,
     "metadata": {},
     "output_type": "execute_result"
    }
   ],
   "source": [
    "bond_rub[['date_NEW','ISSUEDATE','COUPONDATE']].dtypes"
   ]
  },
  {
   "cell_type": "markdown",
   "id": "2f2ac4a5",
   "metadata": {},
   "source": [
    "#### Оставляем данные, удовлетворяющие условию: \"COUPONDATE\" и \"ISSUEDATE\" меньше или равны \"date_NEW \" и \"HIGH_RISK\" = 0"
   ]
  },
  {
   "cell_type": "code",
   "execution_count": 259,
   "id": "66df7769",
   "metadata": {},
   "outputs": [],
   "source": [
    "bond_rub = bond_rub[(bond_rub['COUPONDATE'] <= bond_rub['date_NEW']) & (bond_rub['COUPONDATE'] <= bond_rub['date_NEW']) & (bond_rub['HIGH_RISK'] == 0 )]"
   ]
  },
  {
   "cell_type": "markdown",
   "id": "575772eb",
   "metadata": {},
   "source": [
    "#### PROFIT посчитан. Определяем Топ 5 эмитентов по доходности и выводим на гистограмму"
   ]
  },
  {
   "cell_type": "code",
   "execution_count": 260,
   "id": "f0110aa5",
   "metadata": {},
   "outputs": [],
   "source": [
    "Top_5 = bond_rub.sort_values(by='PROFIT',ascending=False).head()"
   ]
  },
  {
   "cell_type": "code",
   "execution_count": 261,
   "id": "07483a77",
   "metadata": {},
   "outputs": [
    {
     "data": {
      "image/png": "[encoded data removed]",
      "text/plain": [
       "<Figure size 432x288 with 1 Axes>"
      ]
     },
     "metadata": {
      "needs_background": "light"
     },
     "output_type": "display_data"
    }
   ],
   "source": [
    "emitents =Top_5['NAME']\n",
    "profit = Top_5['PROFIT']\n",
    "fig, ax = plt.subplots()\n",
    "plt.bar(emitents, profit)\n",
    "plt.axhline(y=KeyRate, color = 'y')\n",
    "plt.plot([KeyRate],'y',label='KeyRate')\n",
    "plt.legend()\n",
    "plt.title(\"TOP_5_emitents!\")\n",
    "plt.xlabel(\"emitents\")\n",
    "plt.ylabel(\"profit\")\n",
    "fig.autofmt_xdate()"
   ]
  }
 ],
 "metadata": {
  "kernelspec": {
   "display_name": "Python 3 (ipykernel)",
   "language": "python",
   "name": "python3"
  },
  "language_info": {
   "codemirror_mode": {
    "name": "ipython",
    "version": 3
   },
   "file_extension": ".py",
   "mimetype": "text/x-python",
   "name": "python",
   "nbconvert_exporter": "python",
   "pygments_lexer": "ipython3",
   "version": "3.9.6"
  }
 },
 "nbformat": 4,
 "nbformat_minor": 5
}
